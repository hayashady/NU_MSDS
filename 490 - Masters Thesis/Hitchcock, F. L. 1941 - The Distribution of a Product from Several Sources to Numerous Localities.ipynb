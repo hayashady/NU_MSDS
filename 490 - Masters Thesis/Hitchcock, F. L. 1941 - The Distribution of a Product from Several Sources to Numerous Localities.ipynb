{
 "cells": [
  {
   "cell_type": "code",
   "execution_count": 1,
   "metadata": {},
   "outputs": [],
   "source": [
    "from scipy import optimize"
   ]
  },
  {
   "cell_type": "code",
   "execution_count": 17,
   "metadata": {},
   "outputs": [],
   "source": [
    "# Objective Function: y = 10x[0] + 5x[1] + 6x[2] + 7x[3] + 8x[4] + 2x[5] + 7x[6] + 6x[7] + 9x[8] + 3x[9] + 4x[10] + 8x[11]\n",
    "objective_function = lambda x: 10*x[0] + 5*x[1] + 6*x[2] + 7*x[3] + 8*x[4] + 2*x[5] + 7*x[6] + 6*x[7] + 9*x[8] + 3*x[9] + 4*x[10] + 8*x[11]\n",
    "\n",
    "# Non-negativity constraints\n",
    "# x[0], x[1], x[2], x[3], x[4], x[5], x[6], x[7], x[8], x[9], x[10], x[11] >= 0\n",
    "nonnegativity_constraints = ((0,15),(0,20),(0,30),(0,35),(0,15),(0,20),(0,30),(0,35),(0,15),(0,20),(0,30),(0,35))\n",
    "\n",
    "# Constraints\n",
    "# x[0] + x[1] + x[2] + x[3] <= 25\n",
    "# x[4] + x[5] + x[6] + x[7] <= 25\n",
    "# x[8] + x[9] + x[10] + x[11] <= 50\n",
    "# x[0] + x[4] + x[8] = 15\n",
    "# x[1] + x[5] + x[9] = 20\n",
    "# x[2] + x[6] + x[10] = 30\n",
    "# x[3] + x[7] + x[11] = 35\n",
    "constraints = {\n",
    "    'type':'ineq','fun':lambda x: (x[0] + x[1] + x[2] + x[3] - 25),\n",
    "    'type':'ineq','fun':lambda x: (x[4] + x[5] + x[6] + x[7] - 25),\n",
    "    'type':'ineq','fun':lambda x: (x[8] + x[9] + x[10] + x[11] - 50),\n",
    "    'type':'eq','fun':lambda x: (x[0] + x[4] + x[8] - 15),\n",
    "    'type':'eq','fun':lambda x: (x[1] + x[5] + x[9] - 20),\n",
    "    'type':'eq','fun':lambda x: (x[2] + x[6] + x[10] - 30),\n",
    "    'type':'eq','fun':lambda x: (x[3] + x[7] + x[11] - 35),\n",
    "}\n",
    "\n",
    "# Starting Point\n",
    "x0 = [0,0,0,25,0,0,25,0,15,20,5,10]\n",
    "\n",
    "solution = optimize.minimize(objective_function,x0=x0,bounds=nonnegativity_constraints,constraints=constraints)"
   ]
  },
  {
   "cell_type": "code",
   "execution_count": 18,
   "metadata": {},
   "outputs": [
    {
     "data": {
      "text/plain": [
       "array([ 0.,  0.,  0.,  0.,  0.,  0.,  0., 35.,  0.,  0.,  0.,  0.])"
      ]
     },
     "execution_count": 18,
     "metadata": {},
     "output_type": "execute_result"
    }
   ],
   "source": [
    "solution.x"
   ]
  }
 ],
 "metadata": {
  "kernelspec": {
   "display_name": "Python 3.9.6 64-bit",
   "language": "python",
   "name": "python3"
  },
  "language_info": {
   "codemirror_mode": {
    "name": "ipython",
    "version": 3
   },
   "file_extension": ".py",
   "mimetype": "text/x-python",
   "name": "python",
   "nbconvert_exporter": "python",
   "pygments_lexer": "ipython3",
   "version": "3.9.6"
  },
  "orig_nbformat": 4,
  "vscode": {
   "interpreter": {
    "hash": "31f2aee4e71d21fbe5cf8b01ff0e069b9275f58929596ceb00d14d90e3e16cd6"
   }
  }
 },
 "nbformat": 4,
 "nbformat_minor": 2
}
