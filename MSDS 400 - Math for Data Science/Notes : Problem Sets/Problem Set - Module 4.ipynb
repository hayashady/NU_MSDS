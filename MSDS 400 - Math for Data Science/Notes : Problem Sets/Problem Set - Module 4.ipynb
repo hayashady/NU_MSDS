{
 "cells": [
  {
   "cell_type": "code",
   "execution_count": 6,
   "metadata": {},
   "outputs": [
    {
     "name": "stdout",
     "output_type": "stream",
     "text": [
      "0.4091\n",
      "0.5\n"
     ]
    }
   ],
   "source": [
    "# Module 4 - Problem Set\n",
    "\n",
    "# Question 1\n",
    "# Cross tab with 3 grade groups and gender breakdown \n",
    "\n",
    "# a. Probability that a random student was male\n",
    "prob_male = round(27 / 66,4)\n",
    "print(prob_male)\n",
    "\n",
    "# b. Probability that a student got a C\n",
    "prob_c = round(33 / 66,4)\n",
    "print(prob_c)"
   ]
  },
  {
   "cell_type": "code",
   "execution_count": 12,
   "metadata": {},
   "outputs": [
    {
     "name": "stdout",
     "output_type": "stream",
     "text": [
      "0.9999998976\n"
     ]
    }
   ],
   "source": [
    "# Question 2\n",
    "# Probability of getting one question wrong out of 9 by randomly guessing\n",
    "\n",
    "prob_right = 0.2\n",
    "num_of_quest = 10\n",
    "prob_all_right = prob_right ** (num_of_quest)\n",
    "prob_one_wrong = 1 - prob_all_right\n",
    "print(prob_one_wrong)"
   ]
  },
  {
   "cell_type": "code",
   "execution_count": 14,
   "metadata": {},
   "outputs": [
    {
     "name": "stdout",
     "output_type": "stream",
     "text": [
      "0.0012\n"
     ]
    }
   ],
   "source": [
    "# Question 3\n",
    "# 26% of people own dogs, picking 5 people at random, what is the prob that they each own dogs\n",
    "\n",
    "prob_dog = 0.26\n",
    "sample_size = 5\n",
    "prob_all_dog = prob_dog ** sample_size\n",
    "print(round(prob_all_dog,4))"
   ]
  },
  {
   "cell_type": "code",
   "execution_count": 17,
   "metadata": {},
   "outputs": [
    {
     "name": "stdout",
     "output_type": "stream",
     "text": [
      "0.2222\n",
      "0.0059\n"
     ]
    }
   ],
   "source": [
    "# Question 4\n",
    "# 9 sided die, probability of 1 or 2\n",
    "prob_oneortwo = 2 / 9\n",
    "print(round(prob_oneortwo,4))\n",
    "\n",
    "# 13 sided die, probability of 3 and 5\n",
    "prob_threeandfive = (1 / 13)**2\n",
    "print(round(prob_threeandfive,4))"
   ]
  },
  {
   "cell_type": "code",
   "execution_count": 23,
   "metadata": {},
   "outputs": [
    {
     "name": "stdout",
     "output_type": "stream",
     "text": [
      "Probability of not green: 0.77\n",
      "Probability of green or blue: 0.38\n",
      "Probability of all three blue: 0.012\n",
      "Probability of all three not blue: 0.614\n",
      "Probability of at least one blue: 0.386\n"
     ]
    }
   ],
   "source": [
    "# Question 5\n",
    "# 12% of MMs brown, 15% yellow, 12% red, 23% blue, 23% orange, 15% green\n",
    "\n",
    "brown = 0.12\n",
    "yellow = 0.15\n",
    "red = 0.12\n",
    "blue = 0.23\n",
    "orange = 0.23\n",
    "green = 0.15\n",
    "\n",
    "not_green = 1 - orange\n",
    "print('Probability of not green: {}'.format(not_green))\n",
    "\n",
    "green_or_blue = blue + yellow\n",
    "print('Probability of green or blue: {}'.format(green_or_blue))\n",
    "\n",
    "all_three_blue = blue ** 3\n",
    "all_three_blue = round(all_three_blue,3)\n",
    "print('Probability of all three blue: {}'.format(all_three_blue))\n",
    "\n",
    "not_blue = 1 - green\n",
    "all_three_not_blue = not_blue ** 3\n",
    "all_three_not_blue = round(all_three_not_blue,3)\n",
    "print('Probability of all three not blue: {}'.format(all_three_not_blue))\n",
    "\n",
    "at_least_one_blue = 1 - (1 - green)**3\n",
    "at_least_one_blue = round(at_least_one_blue,3)\n",
    "print('Probability of at least one blue: {}'.format(at_least_one_blue))"
   ]
  },
  {
   "cell_type": "code",
   "execution_count": 25,
   "metadata": {},
   "outputs": [
    {
     "name": "stdout",
     "output_type": "stream",
     "text": [
      "0.4815\n"
     ]
    }
   ],
   "source": [
    "# Question 6\n",
    "\n",
    "# Returning to gender and grades. Probability of male given a C\n",
    "(0.45)"
   ]
  },
  {
   "cell_type": "code",
   "execution_count": 41,
   "metadata": {},
   "outputs": [
    {
     "name": "stdout",
     "output_type": "stream",
     "text": [
      "3/26\n",
      "13/175\n",
      "221/350\n",
      "75/148\n"
     ]
    }
   ],
   "source": [
    "# Question 8\n",
    "\n",
    "from fractions import Fraction\n",
    "\n",
    "answer_one = Fraction(3,26)\n",
    "print(answer_one)\n",
    "\n",
    "answer_two = Fraction(26,350)\n",
    "print(answer_two)\n",
    "\n",
    "answer_three = Fraction(221,350)\n",
    "print(answer_three)\n",
    "\n",
    "answer_four = Fraction(75,148)\n",
    "print(answer_four)"
   ]
  },
  {
   "cell_type": "code",
   "execution_count": 46,
   "metadata": {},
   "outputs": [
    {
     "name": "stdout",
     "output_type": "stream",
     "text": [
      "0.99396\n"
     ]
    }
   ],
   "source": [
    "# Question 9\n",
    "# COVID Bayes Theorem\n",
    "# P(COVID) = 0.84\n",
    "# P(positive|COVID) = 0.94\n",
    "# P(positive|noCOVID) = 0.03\n",
    "# P(COVID|positive)\n",
    "\n",
    "# P(COVID|positive) = P(COVID)*P(positive|COVID)\n",
    "#                     P(COVID)*P(positive|COVID) + P(noCOVID)*P(positive|noCOVID)\n",
    "\n",
    "top = (0.84)*(0.94)\n",
    "bottom = top + (0.16)*(0.03)\n",
    "prob = top / bottom\n",
    "print(round(prob,5))"
   ]
  },
  {
   "cell_type": "code",
   "execution_count": 52,
   "metadata": {},
   "outputs": [
    {
     "name": "stdout",
     "output_type": "stream",
     "text": [
      "0.4259\n",
      "0.2176\n"
     ]
    }
   ],
   "source": [
    "# Question 10\n",
    "# Car Crash/Seatbelt\n",
    "\n",
    "# P(seatbelt) = 0.69\n",
    "# P(no seatbelt) = 0.31\n",
    "# P(ejection|seatbelt) = 0.16\n",
    "# P(ejection|no seatbelt) = 0.48\n",
    "\n",
    "# P(seatbelt|ejection)\n",
    "# P(seatbelt|ejection) = P(seatbelt)*(ejection\\seatbelt)\n",
    "                        # P(seatbelt)*(ejection\\seatbelt) * P(noseatbelt)*P(ejection\\no seatbelt)\n",
    "    \n",
    "seatbelt = 0.69\n",
    "noseatbelt = 0.31\n",
    "ejectiongivenseatbelt = 0.16\n",
    "ejectiongivennoseatbelt = 0.48\n",
    "noejectiongivenseatbelt = 1 - ejectiongivenseatbelt\n",
    "\n",
    "prob = (seatbelt * ejectiongivenseatbelt) / ((seatbelt * ejectiongivenseatbelt)+(noseatbelt*ejectiongivennoseatbelt))\n",
    "print(round(prob,4))\n",
    "\n",
    "seatbeltgivenejection = prob\n",
    "noejectiongivennoseatbelt = 1 - ejectiongivennoseatbelt\n",
    "\n",
    "# P(noseatbelt|notejected)\n",
    "# P(noseatbelt|notejected) = P(noseatbelt)*P(notejected/noseatbelt)\n",
    "                            # P(noseatbelt)*P(notejected/noseatbelt) + P(seatbelt)*P(noejection|seatbelt)\n",
    "    \n",
    "prob_two = (noseatbelt*noejectiongivennoseatbelt) / ((noseatbelt*noejectiongivennoseatbelt)+(seatbelt*noejectiongivenseatbelt))\n",
    "print(round(prob_two,4))"
   ]
  },
  {
   "cell_type": "code",
   "execution_count": 55,
   "metadata": {},
   "outputs": [
    {
     "name": "stdout",
     "output_type": "stream",
     "text": [
      "67600000\n"
     ]
    }
   ],
   "source": [
    "# Question 11\n",
    "\n",
    "# license plates have: 1 number, followed by 2 letters, followed by 4 number \n",
    "\n",
    "posnum = 10\n",
    "poslet = 26\n",
    "\n",
    "numnum = 5\n",
    "numlet = 2\n",
    "\n",
    "combinations = posnum**numnum * poslet**numlet\n",
    "print(combinations)"
   ]
  },
  {
   "cell_type": "code",
   "execution_count": 66,
   "metadata": {},
   "outputs": [
    {
     "name": "stdout",
     "output_type": "stream",
     "text": [
      "10897286400.0\n",
      "0.0\n"
     ]
    }
   ],
   "source": [
    "# Question 12\n",
    "\n",
    "# Own 15 CDs, randomly arrange 10, probability of alphabetical order?\n",
    "\n",
    "def factorial(n):\n",
    "        if n == 0:\n",
    "            return 1\n",
    "        else:\n",
    "            recurse = factorial(n-1)\n",
    "            result = n * recurse\n",
    "            return result\n",
    "\n",
    "def permutation(n,k):\n",
    "    if n == 0:\n",
    "        return 1\n",
    "    elif k > n:\n",
    "        return -1\n",
    "    else: return (factorial(n)/factorial(n-k))\n",
    "    \n",
    "numcd = 15\n",
    "numarranged = 10\n",
    "\n",
    "possibilities = permutation(15,10)\n",
    "print(possibilities)\n",
    "answer = 1 / possibilities\n",
    "print(round(answer,4))"
   ]
  },
  {
   "cell_type": "code",
   "execution_count": 105,
   "metadata": {},
   "outputs": [
    {
     "name": "stdout",
     "output_type": "stream",
     "text": [
      "7\n",
      "42\n",
      "85900584\n",
      "294\n",
      "7/2045252\n"
     ]
    }
   ],
   "source": [
    "# Question 13\n",
    "\n",
    "# Lottery with numbers 1 - 53. Player picks 9 numbers. If 8 match, player wins 10%.\n",
    "\n",
    "def combination(n,k):\n",
    "    result = permutation(n,k)\n",
    "    result = result / factorial(k)\n",
    "    result = int(result)\n",
    "    return result\n",
    "\n",
    "denominator = combination(49,7)\n",
    "numeratorone = combination(7,6)\n",
    "numeratortwo = combination(42,1)\n",
    "\n",
    "print(numeratorone)\n",
    "print(numeratortwo)\n",
    "\n",
    "print(denominator)\n",
    "numerator = numeratorone * numeratortwo\n",
    "print(numerator)\n",
    "answer = Fraction(294,85900584)\n",
    "print(answer)"
   ]
  },
  {
   "cell_type": "code",
   "execution_count": 107,
   "metadata": {},
   "outputs": [
    {
     "name": "stdout",
     "output_type": "stream",
     "text": [
      "9.65\n"
     ]
    }
   ],
   "source": [
    "# Question 14\n",
    "\n",
    "# Expected Value\n",
    "\n",
    "ev = (0.1*3)+(0.15*6) + (0.25 * 9) + (0.2 * 11) + (0.2*13) + (0.1*14)\n",
    "print(ev)"
   ]
  },
  {
   "cell_type": "code",
   "execution_count": 113,
   "metadata": {},
   "outputs": [
    {
     "name": "stdout",
     "output_type": "stream",
     "text": [
      "31.55\n"
     ]
    }
   ],
   "source": [
    "# Question 15\n",
    "\n",
    "# Expected value \n",
    "# 0.6% of products will fail with replacement cost of $150\n",
    "# 2 year warranty = $13\n",
    "\n",
    "probfail = (0.7 / 100)\n",
    "costfail = -350 + 34\n",
    "\n",
    "probfine = 1 - probfail\n",
    "proffine = 34\n",
    "\n",
    "ev = (probfail*costfail) + (probfine*proffine)\n",
    "print(round(ev,2))"
   ]
  }
 ],
 "metadata": {
  "kernelspec": {
   "display_name": "Python 3",
   "language": "python",
   "name": "python3"
  },
  "language_info": {
   "codemirror_mode": {
    "name": "ipython",
    "version": 3
   },
   "file_extension": ".py",
   "mimetype": "text/x-python",
   "name": "python",
   "nbconvert_exporter": "python",
   "pygments_lexer": "ipython3",
   "version": "3.8.3"
  }
 },
 "nbformat": 4,
 "nbformat_minor": 4
}
