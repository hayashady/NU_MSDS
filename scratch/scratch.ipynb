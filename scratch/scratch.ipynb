{
 "cells": [
  {
   "cell_type": "code",
   "execution_count": 5,
   "metadata": {},
   "outputs": [
    {
     "name": "stdout",
     "output_type": "stream",
     "text": [
      "[1.6875     0.12244898 0.0625     0.12244898 1.6875    ]\n"
     ]
    }
   ],
   "source": [
    "import numpy as np\n",
    "import pandas as pd\n",
    "import statsmodels.api as sm\n",
    "\n",
    "def calculate_cooks_distance(data, dependent_var, independent_vars):\n",
    "    \"\"\"\n",
    "    Calculates Cook's distance given a dataset, the dependent variable, and the independent variables.\n",
    "    :param data: pandas DataFrame, the entire dataset\n",
    "    :param dependent_var: string, the name of the dependent variable column in the dataset\n",
    "    :param independent_vars: list of strings, the names of the independent variable columns in the dataset\n",
    "    :return: numpy array, Cook's distance for each data point\n",
    "    \"\"\"\n",
    "    # Define the model\n",
    "    X = data[independent_vars]\n",
    "    y = data[dependent_var]\n",
    "    model = sm.OLS(y, sm.add_constant(X))\n",
    "\n",
    "    # Fit the model\n",
    "    results = model.fit()\n",
    "\n",
    "    # Calculate influence statistics\n",
    "    influence = results.get_influence()\n",
    "\n",
    "    # Get Cook's distance\n",
    "    cooks_d, _ = influence.cooks_distance\n",
    "\n",
    "    return cooks_d\n",
    "\n",
    "# Create a DataFrame\n",
    "data = pd.DataFrame({\n",
    "    'x': [1, 2, 3, 4, 5],\n",
    "    'y': [2, 3, 5, 7, 10]\n",
    "})\n",
    "\n",
    "# Calculate Cook's distance\n",
    "cooks_d = calculate_cooks_distance(data, 'y', ['x'])\n",
    "\n",
    "print(cooks_d)"
   ]
  },
  {
   "cell_type": "code",
   "execution_count": null,
   "metadata": {},
   "outputs": [],
   "source": [
    "calculate_cooks_distance"
   ]
  }
 ],
 "metadata": {
  "kernelspec": {
   "display_name": "Python 3.9.6 64-bit",
   "language": "python",
   "name": "python3"
  },
  "language_info": {
   "codemirror_mode": {
    "name": "ipython",
    "version": 3
   },
   "file_extension": ".py",
   "mimetype": "text/x-python",
   "name": "python",
   "nbconvert_exporter": "python",
   "pygments_lexer": "ipython3",
   "version": "3.9.6"
  },
  "orig_nbformat": 4,
  "vscode": {
   "interpreter": {
    "hash": "31f2aee4e71d21fbe5cf8b01ff0e069b9275f58929596ceb00d14d90e3e16cd6"
   }
  }
 },
 "nbformat": 4,
 "nbformat_minor": 2
}
