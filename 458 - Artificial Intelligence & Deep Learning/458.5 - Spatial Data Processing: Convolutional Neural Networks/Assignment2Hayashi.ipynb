{
 "cells": [
  {
   "cell_type": "markdown",
   "metadata": {},
   "source": [
    "#### Assignment 2: Computer Vision 2"
   ]
  },
  {
   "cell_type": "markdown",
   "metadata": {},
   "source": [
    "#### Imports"
   ]
  },
  {
   "cell_type": "code",
   "execution_count": 26,
   "metadata": {},
   "outputs": [],
   "source": [
    "import numpy as np\n",
    "import pandas as pd\n",
    "from packaging import version\n",
    "\n",
    "from sklearn.metrics import confusion_matrix, classification_report\n",
    "from sklearn.metrics import accuracy_score\n",
    "from sklearn.metrics import precision_score\n",
    "from sklearn.metrics import recall_score\n",
    "from sklearn.metrics import f1_score\n",
    "from sklearn.metrics import mean_squared_error as MSE\n",
    "from sklearn.model_selection import train_test_split\n",
    "\n",
    "import matplotlib.pyplot as plt\n",
    "import seaborn as sns\n",
    "\n",
    "import tensorflow as tf\n",
    "from tensorflow import keras\n",
    "from tensorflow.keras import models, layers\n",
    "from tensorflow.keras.models import Sequential\n",
    "from tensorflow.keras.layers import Conv2D, MaxPool2D, BatchNormalization, Dropout, Flatten, Dense\n",
    "from tensorflow.keras.callbacks import ModelCheckpoint, EarlyStopping\n",
    "from tensorflow.keras.preprocessing import image\n",
    "from tensorflow.keras.utils import to_categorical\n",
    "import tensorflow.keras.backend as k"
   ]
  },
  {
   "cell_type": "code",
   "execution_count": 27,
   "metadata": {},
   "outputs": [],
   "source": [
    "def create_results_dataframe(model_name,training_history,y_true,y_pred):\n",
    "\n",
    "    training_df = pd.DataFrame(training_history.history)\n",
    "    model_results_df = pd.DataFrame(training_df.iloc[-1,:]).transpose()\n",
    "    model_results_df = model_results_df.reset_index().rename(columns={'index':'epoch'})\n",
    "    model_results_df['model'] = model_name\n",
    "    model_results_df = model_results_df.iloc[:,[-1,0,1,2]]\n",
    "    model_results_df['precision_micro'] = precision_score(y_true,y_pred,average='micro')\n",
    "    model_results_df['recall_micro'] = recall_score(y_true,y_pred,average='micro')\n",
    "    model_results_df['f1_score_micro'] = f1_score(y_true,y_pred,average='micro')\n",
    "\n",
    "    return(model_results_df)"
   ]
  },
  {
   "cell_type": "markdown",
   "metadata": {},
   "source": [
    "#### EDA Functions"
   ]
  },
  {
   "cell_type": "code",
   "execution_count": 28,
   "metadata": {},
   "outputs": [],
   "source": [
    "def get_three_classes(x, y):\n",
    "    def indices_of(class_id):\n",
    "        indices, _ = np.where(y == float(class_id))\n",
    "        return indices\n",
    "\n",
    "    indices = np.concatenate([indices_of(0), indices_of(1), indices_of(2)], axis=0)\n",
    "\n",
    "    x = x[indices]\n",
    "    y = y[indices]\n",
    "\n",
    "    count = x.shape[0]\n",
    "    indices = np.random.choice(range(count), count, replace=False)\n",
    "\n",
    "    x = x[indices]\n",
    "    y = y[indices]\n",
    "\n",
    "    y = tf.keras.utils.to_categorical(y)\n",
    "\n",
    "    return x, y"
   ]
  },
  {
   "cell_type": "code",
   "execution_count": 29,
   "metadata": {},
   "outputs": [],
   "source": [
    "def show_random_examples(x, y, p):\n",
    "    indices = np.random.choice(range(x.shape[0]), 10, replace=False)\n",
    "\n",
    "    x = x[indices]\n",
    "    y = y[indices]\n",
    "    p = p[indices]\n",
    "\n",
    "    plt.figure(figsize=(10, 5))\n",
    "    for i in range(10):\n",
    "        plt.subplot(2, 5, i + 1)\n",
    "        plt.imshow(x[i])\n",
    "        plt.xticks([])\n",
    "        plt.yticks([])\n",
    "        col = 'green' if np.argmax(y[i]) == np.argmax(p[i]) else 'red'\n",
    "        plt.xlabel(class_names_preview[np.argmax(p[i])], color=col)\n",
    "    plt.show()"
   ]
  },
  {
   "cell_type": "markdown",
   "metadata": {},
   "source": [
    "#### Research Functions"
   ]
  },
  {
   "cell_type": "code",
   "execution_count": 4,
   "metadata": {},
   "outputs": [],
   "source": [
    "def plot_history(history):\n",
    "  losses = history.history['loss']\n",
    "  accs = history.history['accuracy']\n",
    "  val_losses = history.history['val_loss']\n",
    "  val_accs = history.history['val_accuracy']\n",
    "  epochs = len(losses)\n",
    "\n",
    "  plt.figure(figsize=(16, 4))\n",
    "  for i, metrics in enumerate(zip([losses, accs], [val_losses, val_accs], ['Loss', 'Accuracy'])):\n",
    "    plt.subplot(1, 2, i + 1)\n",
    "    plt.plot(range(epochs), metrics[0], label='Training {}'.format(metrics[2]))\n",
    "    plt.plot(range(epochs), metrics[1], label='Validation {}'.format(metrics[2]))\n",
    "    plt.legend()\n",
    "  plt.show()\n",
    "\n",
    "def display_training_curves(training, validation, title, subplot):\n",
    "  ax = plt.subplot(subplot)\n",
    "  ax.plot(training)\n",
    "  ax.plot(validation)\n",
    "  ax.set_title('model '+ title)\n",
    "  ax.set_ylabel(title)\n",
    "  ax.set_xlabel('epoch')\n",
    "  ax.legend(['training', 'validation'])"
   ]
  },
  {
   "cell_type": "code",
   "execution_count": 5,
   "metadata": {},
   "outputs": [],
   "source": [
    "def print_validation_report(y_test, predictions):\n",
    "    print(\"Classification Report\")\n",
    "    print(classification_report(y_test, predictions))\n",
    "    print('Accuracy Score: {}'.format(accuracy_score(y_test, predictions)))\n",
    "    print('Root Mean Square Error: {}'.format(np.sqrt(MSE(y_test, predictions))))"
   ]
  },
  {
   "cell_type": "code",
   "execution_count": 6,
   "metadata": {},
   "outputs": [],
   "source": [
    "def plot_confusion_matrix(y_true, y_pred):\n",
    "    mtx = confusion_matrix(y_true, y_pred)\n",
    "    fig, ax = plt.subplots(figsize=(16,12))\n",
    "    sns.heatmap(mtx, annot=True, fmt='d', linewidths=.75,  cbar=False, ax=ax,cmap='Blues',linecolor='white')\n",
    "    #  square=True,\n",
    "    plt.ylabel('true label')\n",
    "    plt.xlabel('predicted label')"
   ]
  },
  {
   "cell_type": "markdown",
   "metadata": {},
   "source": [
    "#### Model and Performance Functions"
   ]
  },
  {
   "cell_type": "code",
   "execution_count": 7,
   "metadata": {},
   "outputs": [],
   "source": [
    "def compile_train_model(model, x_train, y_train, x_valid, y_valid, epochs=200):\n",
    "  timestamp=int(time.time())\n",
    "\n",
    "  # Compile\n",
    "  model.compile(optimizer='rmsprop',\n",
    "                loss = 'SparseCategoricalCrossentropy',\n",
    "                metrics=['accuracy'])\n",
    "\n",
    "  # Train\n",
    "  start_time = time.time()\n",
    "  history = model.fit(\n",
    "    x_train,\n",
    "    y_train,\n",
    "    epochs=epochs,\n",
    "    batch_size=512,\n",
    "    validation_data=(x_valid, y_valid),\n",
    "    #verbose=0,\n",
    "    callbacks=[\n",
    "        tf.keras.callbacks.ModelCheckpoint(\"CNN_model.h5\",save_best_only=True,save_weights_only=False)\n",
    "        ,tf.keras.callbacks.EarlyStopping(monitor='val_accuracy', patience=3)\n",
    "        ]\n",
    "  )\n",
    "  end_time = time.time()\n",
    "  second_elapsed = round(end_time - start_time)\n",
    "\n",
    "  print(f'Finished model training in {second_elapsed}s')\n",
    "\n",
    "  print('Model performance with training set')\n",
    "  model.evaluate(x_train, y_train)\n",
    "\n",
    "  print('Evaluating model performance with validation set')\n",
    "  model.evaluate(x_valid, y_valid)\n",
    "\n",
    "  return history, model"
   ]
  },
  {
   "cell_type": "code",
   "execution_count": 8,
   "metadata": {},
   "outputs": [],
   "source": [
    "def plot_history(history):\n",
    "  losses = history.history['loss']\n",
    "  accs = history.history['accuracy']\n",
    "  val_losses = history.history['val_loss']\n",
    "  val_accs = history.history['val_accuracy']\n",
    "  epochs = len(losses)\n",
    "\n",
    "  plt.figure(figsize=(16, 4))\n",
    "  for i, metrics in enumerate(zip([losses, accs], [val_losses, val_accs], ['Loss', 'Accuracy'])):\n",
    "    plt.subplot(1, 2, i + 1)\n",
    "    plt.plot(range(epochs), metrics[0], label='Training {}'.format(metrics[2]))\n",
    "    plt.plot(range(epochs), metrics[1], label='Validation {}'.format(metrics[2]))\n",
    "    plt.legend()\n",
    "  plt.show()\n",
    "\n",
    "def display_training_curves(training, validation, title, subplot):\n",
    "  ax = plt.subplot(subplot)\n",
    "  ax.plot(training)\n",
    "  ax.plot(validation)\n",
    "  ax.set_title('model '+ title)\n",
    "  ax.set_ylabel(title)\n",
    "  ax.set_xlabel('epoch')\n",
    "  ax.legend(['training', 'validation'])"
   ]
  },
  {
   "cell_type": "code",
   "execution_count": 9,
   "metadata": {},
   "outputs": [],
   "source": [
    "def print_validation_report(y_test, predictions):\n",
    "    print(\"Classification Report\")\n",
    "    print(classification_report(y_test, predictions))\n",
    "    print('Accuracy Score: {}'.format(accuracy_score(y_test, predictions)))\n",
    "    print('Root Mean Square Error: {}'.format(np.sqrt(MSE(y_test, predictions))))"
   ]
  },
  {
   "cell_type": "code",
   "execution_count": 10,
   "metadata": {},
   "outputs": [],
   "source": [
    "def plot_confusion_matrix(y_true, y_pred):\n",
    "    mtx = confusion_matrix(y_true, y_pred)\n",
    "    fig, ax = plt.subplots(figsize=(16,12))\n",
    "    sns.heatmap(mtx, annot=True, fmt='d', linewidths=.75,  cbar=False, ax=ax,cmap='Blues',linecolor='white')\n",
    "    #  square=True,\n",
    "    plt.ylabel('true label')\n",
    "    plt.xlabel('predicted label')"
   ]
  },
  {
   "cell_type": "markdown",
   "metadata": {},
   "source": [
    "#### Import the CIFAR-10 Data Set"
   ]
  },
  {
   "cell_type": "code",
   "execution_count": 11,
   "metadata": {},
   "outputs": [],
   "source": [
    "(x_train, y_train), (x_test, y_test) = keras.datasets.cifar10.load_data()"
   ]
  },
  {
   "cell_type": "code",
   "execution_count": 12,
   "metadata": {},
   "outputs": [],
   "source": [
    "(train_images, train_labels),(test_images, test_labels)= tf.keras.datasets.cifar10.load_data()"
   ]
  },
  {
   "cell_type": "code",
   "execution_count": 13,
   "metadata": {},
   "outputs": [],
   "source": [
    "x_preview, y_preview = get_three_classes(train_images, train_labels)\n",
    "x_preview, y_preview = get_three_classes(test_images, test_labels)"
   ]
  },
  {
   "cell_type": "code",
   "execution_count": 14,
   "metadata": {},
   "outputs": [
    {
     "data": {
      "image/png": "[encoded data removed]",
      "text/plain": [
       "<Figure size 1000x500 with 10 Axes>"
      ]
     },
     "metadata": {},
     "output_type": "display_data"
    }
   ],
   "source": [
    "class_names_preview = ['aeroplane', 'car', 'bird']\n",
    "\n",
    "show_random_examples(x_preview, y_preview, y_preview)"
   ]
  },
  {
   "cell_type": "markdown",
   "metadata": {},
   "source": [
    "#### Pre-Processing"
   ]
  },
  {
   "cell_type": "code",
   "execution_count": 15,
   "metadata": {},
   "outputs": [],
   "source": [
    "# Create validation set\n",
    "x_train_split, x_valid_split, y_train_split, y_valid_split = train_test_split(x_train\n",
    "                                                                              ,y_train\n",
    "                                                                              ,test_size=.1\n",
    "                                                                              ,random_state=42\n",
    "                                                                              ,shuffle=True)"
   ]
  },
  {
   "cell_type": "code",
   "execution_count": 16,
   "metadata": {},
   "outputs": [],
   "source": [
    "# Rescale\n",
    "x_train_norm = x_train_split/255\n",
    "x_valid_norm = x_valid_split/255\n",
    "x_test_norm = x_test/255"
   ]
  },
  {
   "cell_type": "markdown",
   "metadata": {},
   "source": [
    "#### Experiment 1 - Dense Neural Network, 2 Layers, No Regularaziation"
   ]
  },
  {
   "cell_type": "code",
   "execution_count": 37,
   "metadata": {},
   "outputs": [
    {
     "name": "stderr",
     "output_type": "stream",
     "text": [
      "/Users/dylanhayashi/Library/Python/3.9/lib/python/site-packages/keras/src/engine/training.py:3000: UserWarning: You are saving your model as an HDF5 file via `model.save()`. This file format is considered legacy. We recommend using instead the native Keras format, e.g. `model.save('my_model.keras')`.\n",
      "  saving_api.save_model(\n"
     ]
    },
    {
     "name": "stdout",
     "output_type": "stream",
     "text": [
      "313/313 [==============================] - 0s 923us/step\n"
     ]
    }
   ],
   "source": [
    "model_one = Sequential([\n",
    "  Flatten(input_shape=x_train_norm.shape[1:]),\n",
    "  Dense(units=384,activation=tf.nn.relu),\n",
    "  Dense(units=768,activation=tf.nn.relu),\n",
    "  Dense(units=10, activation=tf.nn.softmax)       \n",
    "])\n",
    "\n",
    "model_one.compile(optimizer='adam',\n",
    "              loss=tf.keras.losses.SparseCategoricalCrossentropy(from_logits=False),\n",
    "              metrics=['accuracy'])\n",
    "\n",
    "training_one = model_one.fit(x_train_norm\n",
    "                    ,y_train_split\n",
    "                    ,epochs=200\n",
    "                    ,batch_size=64\n",
    "                    ,verbose=0\n",
    "                    ,validation_data=(x_valid_norm, y_valid_split)\n",
    "                    ,callbacks=[\n",
    "                     tf.keras.callbacks.ModelCheckpoint(\"model_one.h5\",save_best_only=True,save_weights_only=False) \n",
    "                     ,tf.keras.callbacks.EarlyStopping(monitor='val_accuracy', patience=2)]                                                                                                       \n",
    "                   )\n",
    "\n",
    "model_one = tf.keras.models.load_model(\"model_one.h5\")\n",
    "\n",
    "pred_one = model_one.predict(x_test_norm)\n",
    "\n",
    "pred_one = np.argmax(pred_one, axis=1)"
   ]
  },
  {
   "cell_type": "markdown",
   "metadata": {},
   "source": [
    "#### Experiment 2 - Dense Neural Network, 3 Layers, No Regularization"
   ]
  },
  {
   "cell_type": "code",
   "execution_count": 38,
   "metadata": {},
   "outputs": [
    {
     "name": "stdout",
     "output_type": "stream",
     "text": [
      "313/313 [==============================] - 0s 1ms/step\n"
     ]
    }
   ],
   "source": [
    "model_two = Sequential([\n",
    "  Flatten(input_shape=x_train_norm.shape[1:]),\n",
    "  Dense(units=384,activation=tf.nn.relu),\n",
    "  Dense(units=768,activation=tf.nn.relu),\n",
    "  Dense(units=10, activation=tf.nn.softmax)       \n",
    "])\n",
    "\n",
    "model_two.compile(optimizer='adam',\n",
    "              loss=tf.keras.losses.SparseCategoricalCrossentropy(from_logits=False),\n",
    "              metrics=['accuracy'])\n",
    "\n",
    "training_two = model_two.fit(x_train_norm\n",
    "                    ,y_train_split\n",
    "                    ,epochs=200\n",
    "                    ,batch_size=64\n",
    "                    ,verbose=0\n",
    "                    ,validation_data=(x_valid_norm, y_valid_split)\n",
    "                    ,callbacks=[\n",
    "                     tf.keras.callbacks.ModelCheckpoint(\"model_two.h5\",save_best_only=True,save_weights_only=False) \n",
    "                     ,tf.keras.callbacks.EarlyStopping(monitor='val_accuracy', patience=2)]                                                                                                       \n",
    "                   )\n",
    "\n",
    "model_two = tf.keras.models.load_model(\"model_two.h5\")\n",
    "\n",
    "pred_two = model_two.predict(x_test_norm)\n",
    "\n",
    "pred_two = np.argmax(pred_two, axis=1)"
   ]
  },
  {
   "cell_type": "markdown",
   "metadata": {},
   "source": [
    "#### Experiment 3 - Convolutional Neural Network, 2 Convolutional & Max Pooling Layers, No Regularization"
   ]
  },
  {
   "cell_type": "code",
   "execution_count": 39,
   "metadata": {},
   "outputs": [
    {
     "name": "stderr",
     "output_type": "stream",
     "text": [
      "/Users/dylanhayashi/Library/Python/3.9/lib/python/site-packages/keras/src/engine/training.py:3000: UserWarning: You are saving your model as an HDF5 file via `model.save()`. This file format is considered legacy. We recommend using instead the native Keras format, e.g. `model.save('my_model.keras')`.\n",
      "  saving_api.save_model(\n"
     ]
    },
    {
     "name": "stdout",
     "output_type": "stream",
     "text": [
      "313/313 [==============================] - 0s 986us/step\n"
     ]
    }
   ],
   "source": [
    "model_three = Sequential([\n",
    "  Flatten(input_shape=x_train_norm.shape[1:]),\n",
    "  Dense(units=384,activation=tf.nn.relu),\n",
    "  Dense(units=768,activation=tf.nn.relu),\n",
    "  Dense(units=10, activation=tf.nn.softmax)       \n",
    "])\n",
    "\n",
    "model_three.compile(optimizer='adam',\n",
    "              loss=tf.keras.losses.SparseCategoricalCrossentropy(from_logits=False),\n",
    "              metrics=['accuracy'])\n",
    "\n",
    "training_three = model_three.fit(x_train_norm\n",
    "                    ,y_train_split\n",
    "                    ,epochs=200\n",
    "                    ,batch_size=64\n",
    "                    ,verbose=0\n",
    "                    ,validation_data=(x_valid_norm, y_valid_split)\n",
    "                    ,callbacks=[\n",
    "                     tf.keras.callbacks.ModelCheckpoint(\"model_three.h5\",save_best_only=True,save_weights_only=False) \n",
    "                     ,tf.keras.callbacks.EarlyStopping(monitor='val_accuracy', patience=2)]                                                                                                       \n",
    "                   )\n",
    "\n",
    "model_three = tf.keras.models.load_model(\"model_three.h5\")\n",
    "\n",
    "pred_three = model_three.predict(x_test_norm)\n",
    "\n",
    "pred_three = np.argmax(pred_three, axis=1)"
   ]
  },
  {
   "cell_type": "markdown",
   "metadata": {},
   "source": [
    "#### Experiment 4 - Convolutional Neural Network, 3 Convolutional & Max Pooling Layers, No Regularization"
   ]
  },
  {
   "cell_type": "code",
   "execution_count": 40,
   "metadata": {},
   "outputs": [
    {
     "name": "stderr",
     "output_type": "stream",
     "text": [
      "/Users/dylanhayashi/Library/Python/3.9/lib/python/site-packages/keras/src/engine/training.py:3000: UserWarning: You are saving your model as an HDF5 file via `model.save()`. This file format is considered legacy. We recommend using instead the native Keras format, e.g. `model.save('my_model.keras')`.\n",
      "  saving_api.save_model(\n"
     ]
    },
    {
     "name": "stdout",
     "output_type": "stream",
     "text": [
      "313/313 [==============================] - 0s 991us/step\n"
     ]
    }
   ],
   "source": [
    "model_four = Sequential([\n",
    "  Flatten(input_shape=x_train_norm.shape[1:]),\n",
    "  Dense(units=384,activation=tf.nn.relu),\n",
    "  Dense(units=768,activation=tf.nn.relu),\n",
    "  Dense(units=10, activation=tf.nn.softmax)       \n",
    "])\n",
    "\n",
    "model_four.compile(optimizer='adam',\n",
    "              loss=tf.keras.losses.SparseCategoricalCrossentropy(from_logits=False),\n",
    "              metrics=['accuracy'])\n",
    "\n",
    "training_four = model_four.fit(x_train_norm\n",
    "                    ,y_train_split\n",
    "                    ,epochs=200\n",
    "                    ,batch_size=64\n",
    "                    ,verbose=0\n",
    "                    ,validation_data=(x_valid_norm, y_valid_split)\n",
    "                    ,callbacks=[\n",
    "                     tf.keras.callbacks.ModelCheckpoint(\"model_four.h5\",save_best_only=True,save_weights_only=False) \n",
    "                     ,tf.keras.callbacks.EarlyStopping(monitor='val_accuracy', patience=2)]                                                                                                       \n",
    "                   )\n",
    "\n",
    "model_four = tf.keras.models.load_model(\"model_four.h5\")\n",
    "\n",
    "pred_four = model_four.predict(x_test_norm)\n",
    "\n",
    "pred_four = np.argmax(pred_four, axis=1)"
   ]
  },
  {
   "cell_type": "markdown",
   "metadata": {},
   "source": [
    "#### Experiment 5"
   ]
  },
  {
   "cell_type": "code",
   "execution_count": 50,
   "metadata": {},
   "outputs": [
    {
     "name": "stdout",
     "output_type": "stream",
     "text": [
      "313/313 [==============================] - 0s 835us/step\n"
     ]
    }
   ],
   "source": [
    "model_five = Sequential([\n",
    "  Flatten(input_shape=x_train_norm.shape[1:]),\n",
    "  Dense(units=384,activation=tf.nn.relu),\n",
    "  Dense(units=768,activation=tf.nn.relu),\n",
    "  Dense(units=10, activation=tf.nn.softmax)       \n",
    "])\n",
    "\n",
    "model_five.compile(optimizer='adam',\n",
    "              loss=tf.keras.losses.SparseCategoricalCrossentropy(from_logits=False),\n",
    "              metrics=['accuracy'])\n",
    "\n",
    "training_five = model_five.fit(x_train_norm\n",
    "                    ,y_train_split\n",
    "                    ,epochs=200\n",
    "                    ,batch_size=64\n",
    "                    ,verbose=0\n",
    "                    ,validation_data=(x_valid_norm, y_valid_split)\n",
    "                    ,callbacks=[\n",
    "                     tf.keras.callbacks.ModelCheckpoint(\"model_five.h5\",save_best_only=True,save_weights_only=False) \n",
    "                     ,tf.keras.callbacks.EarlyStopping(monitor='val_accuracy', patience=2)]                                                                                                       \n",
    "                   )\n",
    "\n",
    "model_five = tf.keras.models.load_model(\"model_five.h5\")\n",
    "\n",
    "pred_five = model_five.predict(x_test_norm)\n",
    "\n",
    "pred_five = np.argmax(pred_five, axis=1)"
   ]
  },
  {
   "cell_type": "markdown",
   "metadata": {},
   "source": [
    "#### Experiment 6"
   ]
  },
  {
   "cell_type": "code",
   "execution_count": 49,
   "metadata": {},
   "outputs": [
    {
     "name": "stderr",
     "output_type": "stream",
     "text": [
      "/Users/dylanhayashi/Library/Python/3.9/lib/python/site-packages/keras/src/engine/training.py:3000: UserWarning: You are saving your model as an HDF5 file via `model.save()`. This file format is considered legacy. We recommend using instead the native Keras format, e.g. `model.save('my_model.keras')`.\n",
      "  saving_api.save_model(\n"
     ]
    },
    {
     "name": "stdout",
     "output_type": "stream",
     "text": [
      "313/313 [==============================] - 0s 872us/step\n"
     ]
    }
   ],
   "source": [
    "model_six = Sequential([\n",
    "  Flatten(input_shape=x_train_norm.shape[1:]),\n",
    "  Dense(units=384,activation=tf.nn.relu),\n",
    "  Dense(units=768,activation=tf.nn.relu),\n",
    "  Dense(units=10, activation=tf.nn.softmax)       \n",
    "])\n",
    "\n",
    "model_six.compile(optimizer='adam',\n",
    "              loss=tf.keras.losses.SparseCategoricalCrossentropy(from_logits=False),\n",
    "              metrics=['accuracy'])\n",
    "\n",
    "training_six = model_six.fit(x_train_norm\n",
    "                    ,y_train_split\n",
    "                    ,epochs=200\n",
    "                    ,batch_size=64\n",
    "                    ,verbose=0\n",
    "                    ,validation_data=(x_valid_norm, y_valid_split)\n",
    "                    ,callbacks=[\n",
    "                     tf.keras.callbacks.ModelCheckpoint(\"model_six.h5\",save_best_only=True,save_weights_only=False) \n",
    "                     ,tf.keras.callbacks.EarlyStopping(monitor='val_accuracy', patience=2)]                                                                                                       \n",
    "                   )\n",
    "\n",
    "model_six = tf.keras.models.load_model(\"model_six.h5\")\n",
    "\n",
    "pred_six = model_six.predict(x_test_norm)\n",
    "\n",
    "pred_six = np.argmax(pred_six, axis=1)"
   ]
  },
  {
   "cell_type": "markdown",
   "metadata": {},
   "source": [
    "#### Experiment 7"
   ]
  },
  {
   "cell_type": "code",
   "execution_count": 43,
   "metadata": {},
   "outputs": [
    {
     "name": "stdout",
     "output_type": "stream",
     "text": [
      "313/313 [==============================] - 0s 1ms/step\n"
     ]
    }
   ],
   "source": [
    "model_seven = Sequential([\n",
    "  Flatten(input_shape=x_train_norm.shape[1:]),\n",
    "  Dense(units=384,activation=tf.nn.relu),\n",
    "  Dense(units=768,activation=tf.nn.relu),\n",
    "  Dense(units=10, activation=tf.nn.softmax)       \n",
    "])\n",
    "\n",
    "model_seven.compile(optimizer='adam',\n",
    "              loss=tf.keras.losses.SparseCategoricalCrossentropy(from_logits=False),\n",
    "              metrics=['accuracy'])\n",
    "\n",
    "training_seven = model_seven.fit(x_train_norm\n",
    "                    ,y_train_split\n",
    "                    ,epochs=200\n",
    "                    ,batch_size=64\n",
    "                    ,verbose=0\n",
    "                    ,validation_data=(x_valid_norm, y_valid_split)\n",
    "                    ,callbacks=[\n",
    "                     tf.keras.callbacks.ModelCheckpoint(\"model_seven.h5\",save_best_only=True,save_weights_only=False) \n",
    "                     ,tf.keras.callbacks.EarlyStopping(monitor='val_accuracy', patience=2)]                                                                                                       \n",
    "                   )\n",
    "\n",
    "model_seven = tf.keras.models.load_model(\"model_seven.h5\")\n",
    "\n",
    "pred_seven = model_seven.predict(x_test_norm)\n",
    "\n",
    "pred_seven = np.argmax(pred_seven, axis=1)"
   ]
  },
  {
   "cell_type": "markdown",
   "metadata": {},
   "source": [
    "#### Experiment 8"
   ]
  },
  {
   "cell_type": "code",
   "execution_count": 44,
   "metadata": {},
   "outputs": [
    {
     "name": "stdout",
     "output_type": "stream",
     "text": [
      "313/313 [==============================] - 0s 923us/step\n"
     ]
    }
   ],
   "source": [
    "model_eight = Sequential([\n",
    "  Flatten(input_shape=x_train_norm.shape[1:]),\n",
    "  Dense(units=384,activation=tf.nn.relu),\n",
    "  Dense(units=768,activation=tf.nn.relu),\n",
    "  Dense(units=10, activation=tf.nn.softmax)       \n",
    "])\n",
    "\n",
    "model_eight.compile(optimizer='adam',\n",
    "              loss=tf.keras.losses.SparseCategoricalCrossentropy(from_logits=False),\n",
    "              metrics=['accuracy'])\n",
    "\n",
    "training_eight = model_eight.fit(x_train_norm\n",
    "                    ,y_train_split\n",
    "                    ,epochs=200\n",
    "                    ,batch_size=64\n",
    "                    ,verbose=0\n",
    "                    ,validation_data=(x_valid_norm, y_valid_split)\n",
    "                    ,callbacks=[\n",
    "                     tf.keras.callbacks.ModelCheckpoint(\"model_eight.h5\",save_best_only=True,save_weights_only=False) \n",
    "                     ,tf.keras.callbacks.EarlyStopping(monitor='val_accuracy', patience=2)]                                                                                                       \n",
    "                   )\n",
    "\n",
    "model_eight = tf.keras.models.load_model(\"model_eight.h5\")\n",
    "\n",
    "pred_eight = model_eight.predict(x_test_norm)\n",
    "\n",
    "pred_eight = np.argmax(pred_eight, axis=1)"
   ]
  },
  {
   "cell_type": "markdown",
   "metadata": {},
   "source": [
    "#### Experiment 9"
   ]
  },
  {
   "cell_type": "code",
   "execution_count": 45,
   "metadata": {},
   "outputs": [
    {
     "name": "stdout",
     "output_type": "stream",
     "text": [
      "313/313 [==============================] - 0s 836us/step\n"
     ]
    }
   ],
   "source": [
    "model_nine = Sequential([\n",
    "  Flatten(input_shape=x_train_norm.shape[1:]),\n",
    "  Dense(units=384,activation=tf.nn.relu),\n",
    "  Dense(units=768,activation=tf.nn.relu),\n",
    "  Dense(units=10, activation=tf.nn.softmax)       \n",
    "])\n",
    "\n",
    "model_nine.compile(optimizer='adam',\n",
    "              loss=tf.keras.losses.SparseCategoricalCrossentropy(from_logits=False),\n",
    "              metrics=['accuracy'])\n",
    "\n",
    "training_nine = model_nine.fit(x_train_norm\n",
    "                    ,y_train_split\n",
    "                    ,epochs=200\n",
    "                    ,batch_size=64\n",
    "                    ,verbose=0\n",
    "                    ,validation_data=(x_valid_norm, y_valid_split)\n",
    "                    ,callbacks=[\n",
    "                     tf.keras.callbacks.ModelCheckpoint(\"model_nine.h5\",save_best_only=True,save_weights_only=False) \n",
    "                     ,tf.keras.callbacks.EarlyStopping(monitor='val_accuracy', patience=2)]                                                                                                       \n",
    "                   )\n",
    "\n",
    "model_nine = tf.keras.models.load_model(\"model_nine.h5\")\n",
    "\n",
    "pred_nine = model_nine.predict(x_test_norm)\n",
    "\n",
    "pred_nine = np.argmax(pred_nine, axis=1)"
   ]
  },
  {
   "cell_type": "markdown",
   "metadata": {},
   "source": [
    "#### Experiment 10"
   ]
  },
  {
   "cell_type": "code",
   "execution_count": 46,
   "metadata": {},
   "outputs": [
    {
     "name": "stdout",
     "output_type": "stream",
     "text": [
      "313/313 [==============================] - 0s 880us/step\n"
     ]
    }
   ],
   "source": [
    "model_ten = Sequential([\n",
    "  Flatten(input_shape=x_train_norm.shape[1:]),\n",
    "  Dense(units=384,activation=tf.nn.relu),\n",
    "  Dense(units=768,activation=tf.nn.relu),\n",
    "  Dense(units=10, activation=tf.nn.softmax)       \n",
    "])\n",
    "\n",
    "model_ten.compile(optimizer='adam',\n",
    "              loss=tf.keras.losses.SparseCategoricalCrossentropy(from_logits=False),\n",
    "              metrics=['accuracy'])\n",
    "\n",
    "training_ten = model_ten.fit(x_train_norm\n",
    "                    ,y_train_split\n",
    "                    ,epochs=200\n",
    "                    ,batch_size=64\n",
    "                    ,verbose=0\n",
    "                    ,validation_data=(x_valid_norm, y_valid_split)\n",
    "                    ,callbacks=[\n",
    "                     tf.keras.callbacks.ModelCheckpoint(\"model_ten.h5\",save_best_only=True,save_weights_only=False) \n",
    "                     ,tf.keras.callbacks.EarlyStopping(monitor='val_accuracy', patience=2)]                                                                                                       \n",
    "                   )\n",
    "\n",
    "model_ten = tf.keras.models.load_model(\"model_ten.h5\")\n",
    "\n",
    "pred_ten = model_ten.predict(x_test_norm)\n",
    "\n",
    "pred_ten = np.argmax(pred_ten, axis=1)"
   ]
  },
  {
   "cell_type": "markdown",
   "metadata": {},
   "source": [
    "#### Results"
   ]
  },
  {
   "cell_type": "code",
   "execution_count": 48,
   "metadata": {},
   "outputs": [
    {
     "data": {
      "text/html": [
       "<div>\n",
       "<style scoped>\n",
       "    .dataframe tbody tr th:only-of-type {\n",
       "        vertical-align: middle;\n",
       "    }\n",
       "\n",
       "    .dataframe tbody tr th {\n",
       "        vertical-align: top;\n",
       "    }\n",
       "\n",
       "    .dataframe thead th {\n",
       "        text-align: right;\n",
       "    }\n",
       "</style>\n",
       "<table border=\"1\" class=\"dataframe\">\n",
       "  <thead>\n",
       "    <tr style=\"text-align: right;\">\n",
       "      <th></th>\n",
       "      <th>model</th>\n",
       "      <th>epoch</th>\n",
       "      <th>accuracy</th>\n",
       "      <th>loss</th>\n",
       "      <th>precision_micro</th>\n",
       "      <th>recall_micro</th>\n",
       "      <th>f1_score_micro</th>\n",
       "    </tr>\n",
       "  </thead>\n",
       "  <tbody>\n",
       "    <tr>\n",
       "      <th>0</th>\n",
       "      <td>model_one</td>\n",
       "      <td>5</td>\n",
       "      <td>0.477644</td>\n",
       "      <td>1.460503</td>\n",
       "      <td>0.4576</td>\n",
       "      <td>0.4576</td>\n",
       "      <td>0.4576</td>\n",
       "    </tr>\n",
       "    <tr>\n",
       "      <th>1</th>\n",
       "      <td>model_two</td>\n",
       "      <td>13</td>\n",
       "      <td>0.552556</td>\n",
       "      <td>1.249869</td>\n",
       "      <td>0.4943</td>\n",
       "      <td>0.4943</td>\n",
       "      <td>0.4943</td>\n",
       "    </tr>\n",
       "    <tr>\n",
       "      <th>2</th>\n",
       "      <td>model_three</td>\n",
       "      <td>6</td>\n",
       "      <td>0.478533</td>\n",
       "      <td>1.453834</td>\n",
       "      <td>0.4736</td>\n",
       "      <td>0.4736</td>\n",
       "      <td>0.4736</td>\n",
       "    </tr>\n",
       "    <tr>\n",
       "      <th>3</th>\n",
       "      <td>model_four</td>\n",
       "      <td>5</td>\n",
       "      <td>0.484578</td>\n",
       "      <td>1.446051</td>\n",
       "      <td>0.4676</td>\n",
       "      <td>0.4676</td>\n",
       "      <td>0.4676</td>\n",
       "    </tr>\n",
       "    <tr>\n",
       "      <th>4</th>\n",
       "      <td>model_five</td>\n",
       "      <td>4</td>\n",
       "      <td>0.466956</td>\n",
       "      <td>1.495672</td>\n",
       "      <td>0.4533</td>\n",
       "      <td>0.4533</td>\n",
       "      <td>0.4533</td>\n",
       "    </tr>\n",
       "    <tr>\n",
       "      <th>5</th>\n",
       "      <td>model_six</td>\n",
       "      <td>10</td>\n",
       "      <td>0.516689</td>\n",
       "      <td>1.350900</td>\n",
       "      <td>0.4842</td>\n",
       "      <td>0.4842</td>\n",
       "      <td>0.4842</td>\n",
       "    </tr>\n",
       "    <tr>\n",
       "      <th>6</th>\n",
       "      <td>model_seven</td>\n",
       "      <td>15</td>\n",
       "      <td>0.545133</td>\n",
       "      <td>1.267755</td>\n",
       "      <td>0.4823</td>\n",
       "      <td>0.4823</td>\n",
       "      <td>0.4823</td>\n",
       "    </tr>\n",
       "    <tr>\n",
       "      <th>7</th>\n",
       "      <td>model_eight</td>\n",
       "      <td>13</td>\n",
       "      <td>0.529622</td>\n",
       "      <td>1.316504</td>\n",
       "      <td>0.4879</td>\n",
       "      <td>0.4879</td>\n",
       "      <td>0.4879</td>\n",
       "    </tr>\n",
       "    <tr>\n",
       "      <th>8</th>\n",
       "      <td>model_nine</td>\n",
       "      <td>6</td>\n",
       "      <td>0.488533</td>\n",
       "      <td>1.431188</td>\n",
       "      <td>0.4570</td>\n",
       "      <td>0.4570</td>\n",
       "      <td>0.4570</td>\n",
       "    </tr>\n",
       "    <tr>\n",
       "      <th>9</th>\n",
       "      <td>model_ten</td>\n",
       "      <td>10</td>\n",
       "      <td>0.509444</td>\n",
       "      <td>1.363044</td>\n",
       "      <td>0.4801</td>\n",
       "      <td>0.4801</td>\n",
       "      <td>0.4801</td>\n",
       "    </tr>\n",
       "  </tbody>\n",
       "</table>\n",
       "</div>"
      ],
      "text/plain": [
       "         model epoch  accuracy      loss  precision_micro  recall_micro  \\\n",
       "0    model_one     5  0.477644  1.460503           0.4576        0.4576   \n",
       "1    model_two    13  0.552556  1.249869           0.4943        0.4943   \n",
       "2  model_three     6  0.478533  1.453834           0.4736        0.4736   \n",
       "3   model_four     5  0.484578  1.446051           0.4676        0.4676   \n",
       "4   model_five     4  0.466956  1.495672           0.4533        0.4533   \n",
       "5    model_six    10  0.516689  1.350900           0.4842        0.4842   \n",
       "6  model_seven    15  0.545133  1.267755           0.4823        0.4823   \n",
       "7  model_eight    13  0.529622  1.316504           0.4879        0.4879   \n",
       "8   model_nine     6  0.488533  1.431188           0.4570        0.4570   \n",
       "9    model_ten    10  0.509444  1.363044           0.4801        0.4801   \n",
       "\n",
       "   f1_score_micro  \n",
       "0          0.4576  \n",
       "1          0.4943  \n",
       "2          0.4736  \n",
       "3          0.4676  \n",
       "4          0.4533  \n",
       "5          0.4842  \n",
       "6          0.4823  \n",
       "7          0.4879  \n",
       "8          0.4570  \n",
       "9          0.4801  "
      ]
     },
     "execution_count": 48,
     "metadata": {},
     "output_type": "execute_result"
    }
   ],
   "source": [
    "experiment_results = pd.DataFrame(columns=['model','epoch','accuracy','loss','precision_micro','recall_micro','f1_score_micro'])\n",
    "\n",
    "experiment_1_results = create_results_dataframe('model_one',training_one,y_test,pred_one)\n",
    "experiment_2_results = create_results_dataframe('model_two',training_two,y_test,pred_two)\n",
    "experiment_3_results = create_results_dataframe('model_three',training_three,y_test,pred_three)\n",
    "experiment_4_results = create_results_dataframe('model_four',training_four,y_test,pred_four)\n",
    "experiment_5_results = create_results_dataframe('model_five',training_five,y_test,pred_five)\n",
    "experiment_6_results = create_results_dataframe('model_six',training_six,y_test,pred_six)\n",
    "experiment_7_results = create_results_dataframe('model_seven',training_seven,y_test,pred_seven)\n",
    "experiment_8_results = create_results_dataframe('model_eight',training_eight,y_test,pred_eight)\n",
    "experiment_9_results = create_results_dataframe('model_nine',training_nine,y_test,pred_nine)\n",
    "experiment_10_results = create_results_dataframe('model_ten',training_ten,y_test,pred_ten)\n",
    "\n",
    "\n",
    "experiment_results = pd.concat([\n",
    "    experiment_results,\n",
    "    experiment_1_results,\n",
    "    experiment_2_results,\n",
    "    experiment_3_results,\n",
    "    experiment_4_results,\n",
    "    experiment_5_results,\n",
    "    experiment_6_results,\n",
    "    experiment_7_results,\n",
    "    experiment_8_results,\n",
    "    experiment_9_results,\n",
    "    experiment_10_results,\n",
    "    ]).reset_index(drop=True)\n",
    "    \n",
    "experiment_results"
   ]
  }
 ],
 "metadata": {
  "kernelspec": {
   "display_name": "Python 3.9.6 64-bit",
   "language": "python",
   "name": "python3"
  },
  "language_info": {
   "codemirror_mode": {
    "name": "ipython",
    "version": 3
   },
   "file_extension": ".py",
   "mimetype": "text/x-python",
   "name": "python",
   "nbconvert_exporter": "python",
   "pygments_lexer": "ipython3",
   "version": "3.9.6"
  },
  "orig_nbformat": 4,
  "vscode": {
   "interpreter": {
    "hash": "31f2aee4e71d21fbe5cf8b01ff0e069b9275f58929596ceb00d14d90e3e16cd6"
   }
  }
 },
 "nbformat": 4,
 "nbformat_minor": 2
}
