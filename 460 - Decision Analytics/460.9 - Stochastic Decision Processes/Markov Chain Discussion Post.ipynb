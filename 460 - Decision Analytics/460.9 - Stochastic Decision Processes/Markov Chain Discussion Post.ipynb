{
 "cells": [
  {
   "cell_type": "code",
   "execution_count": 111,
   "id": "fc0917a2-60ef-49c8-bf4e-ff1b16d03944",
   "metadata": {},
   "outputs": [],
   "source": [
    "import pandas as pd\n",
    "pd.set_option('display.float_format', lambda x: '%.2f' % x)"
   ]
  },
  {
   "cell_type": "code",
   "execution_count": 112,
   "id": "9df31d61-08ec-483e-8397-08817bec4b8e",
   "metadata": {},
   "outputs": [
    {
     "data": {
      "text/html": [
       "<div>\n",
       "<style scoped>\n",
       "    .dataframe tbody tr th:only-of-type {\n",
       "        vertical-align: middle;\n",
       "    }\n",
       "\n",
       "    .dataframe tbody tr th {\n",
       "        vertical-align: top;\n",
       "    }\n",
       "\n",
       "    .dataframe thead th {\n",
       "        text-align: right;\n",
       "    }\n",
       "</style>\n",
       "<table border=\"1\" class=\"dataframe\">\n",
       "  <thead>\n",
       "    <tr style=\"text-align: right;\">\n",
       "      <th></th>\n",
       "      <th>0</th>\n",
       "      <th>1</th>\n",
       "    </tr>\n",
       "  </thead>\n",
       "  <tbody>\n",
       "    <tr>\n",
       "      <th>0</th>\n",
       "      <td>0.90</td>\n",
       "      <td>0.90</td>\n",
       "    </tr>\n",
       "    <tr>\n",
       "      <th>1</th>\n",
       "      <td>0.10</td>\n",
       "      <td>0.20</td>\n",
       "    </tr>\n",
       "  </tbody>\n",
       "</table>\n",
       "</div>"
      ],
      "text/plain": [
       "     0    1\n",
       "0 0.90 0.90\n",
       "1 0.10 0.20"
      ]
     },
     "execution_count": 112,
     "metadata": {},
     "output_type": "execute_result"
    }
   ],
   "source": [
    "matrix = pd.DataFrame({0:[0.9,0.1],1:[0.9,0.2]})\n",
    "matrix"
   ]
  },
  {
   "cell_type": "code",
   "execution_count": 124,
   "id": "3754b9c1-fc03-4a8d-9b3f-37395775bb4c",
   "metadata": {},
   "outputs": [],
   "source": [
    "def simulate_markov(dataframe):\n",
    "                                                                                                                                                        \n",
    "    i = 0\n",
    "    while i < 1:\n",
    "        dataframe = dataframe.dot(dataframe)\n",
    "        i += 1\n",
    "        \n",
    "    display(dataframe)"
   ]
  },
  {
   "cell_type": "code",
   "execution_count": 125,
   "id": "f440a9e1-ed4d-4668-8f28-ba5f373ca740",
   "metadata": {},
   "outputs": [
    {
     "data": {
      "text/html": [
       "<div>\n",
       "<style scoped>\n",
       "    .dataframe tbody tr th:only-of-type {\n",
       "        vertical-align: middle;\n",
       "    }\n",
       "\n",
       "    .dataframe tbody tr th {\n",
       "        vertical-align: top;\n",
       "    }\n",
       "\n",
       "    .dataframe thead th {\n",
       "        text-align: right;\n",
       "    }\n",
       "</style>\n",
       "<table border=\"1\" class=\"dataframe\">\n",
       "  <thead>\n",
       "    <tr style=\"text-align: right;\">\n",
       "      <th></th>\n",
       "      <th>0</th>\n",
       "      <th>1</th>\n",
       "    </tr>\n",
       "  </thead>\n",
       "  <tbody>\n",
       "    <tr>\n",
       "      <th>0</th>\n",
       "      <td>0.90</td>\n",
       "      <td>0.99</td>\n",
       "    </tr>\n",
       "    <tr>\n",
       "      <th>1</th>\n",
       "      <td>0.11</td>\n",
       "      <td>0.13</td>\n",
       "    </tr>\n",
       "  </tbody>\n",
       "</table>\n",
       "</div>"
      ],
      "text/plain": [
       "     0    1\n",
       "0 0.90 0.99\n",
       "1 0.11 0.13"
      ]
     },
     "metadata": {},
     "output_type": "display_data"
    }
   ],
   "source": [
    "simulate_markov(matrix)"
   ]
  },
  {
   "cell_type": "code",
   "execution_count": 109,
   "id": "41e17ecd-c11f-4293-b396-4593a6b053ac",
   "metadata": {},
   "outputs": [],
   "source": [
    "def simulate_markov(dataframe):\n",
    "                                                                                                                                                           \n",
    "    print('Initial Matrix:')\n",
    "    display(dataframe)\n",
    "          \n",
    "    i = 0\n",
    "    while i < 5:\n",
    "        dataframe = dataframe.dot(dataframe)\n",
    "        i += 1\n",
    "    \n",
    "    dataframe['sum'] = dataframe.loc[:,['Argentina', \n",
    "                                        'Bolivia', \n",
    "                                        'Brazil', \n",
    "                                        'Chile', \n",
    "                                        'Colombia', \n",
    "                                        'Ecuador',\n",
    "                                        'French Guiana', \n",
    "                                        'Guyana', \n",
    "                                        'Paraguay', \n",
    "                                        'Peru', \n",
    "                                        'Suriname', \n",
    "                                        'Uruguay',\n",
    "                                        'Venezuela']].sum()\n",
    "                                                                                                                                                            \n",
    "    print('Final Matrix:')\n",
    "    display(dataframe)\n",
    "                                                                                                                                                                    \n",
    "    results = pd.DataFrame({'probability' : dataframe.loc[:,'Argentina']}).set_index(dataframe.index).sort_values('probability', ascending = False)\n",
    "    display(round(results,2))"
   ]
  },
  {
   "cell_type": "code",
   "execution_count": 110,
   "id": "a5234d99-4443-4fcf-979f-c9e296e57b18",
   "metadata": {},
   "outputs": [
    {
     "ename": "NameError",
     "evalue": "name 'south_america' is not defined",
     "output_type": "error",
     "traceback": [
      "\u001b[0;31m---------------------------------------------------------------------------\u001b[0m",
      "\u001b[0;31mNameError\u001b[0m                                 Traceback (most recent call last)",
      "\u001b[0;32m/var/folders/hb/_tr1b6d918vdtcwmymd4p0v80000gn/T/ipykernel_1546/4170133984.py\u001b[0m in \u001b[0;36m<module>\u001b[0;34m\u001b[0m\n\u001b[0;32m----> 1\u001b[0;31m \u001b[0msimulate_markov\u001b[0m\u001b[0;34m(\u001b[0m\u001b[0msouth_america\u001b[0m\u001b[0;34m)\u001b[0m\u001b[0;34m\u001b[0m\u001b[0;34m\u001b[0m\u001b[0m\n\u001b[0m",
      "\u001b[0;31mNameError\u001b[0m: name 'south_america' is not defined"
     ]
    }
   ],
   "source": [
    "simulate_markov(south_america)                                                                                                        "
   ]
  },
  {
   "cell_type": "code",
   "execution_count": 100,
   "id": "97654c1f-2be9-4988-a326-faa3aa288a1c",
   "metadata": {},
   "outputs": [],
   "source": [
    "results = pd.DataFrame(columns = [simulation.columns])"
   ]
  },
  {
   "cell_type": "code",
   "execution_count": 107,
   "id": "90e280e0-e005-4645-95fa-7c3418fab215",
   "metadata": {},
   "outputs": [
    {
     "data": {
      "text/plain": [
       "1.2999634409351914"
      ]
     },
     "metadata": {},
     "output_type": "display_data"
    },
    {
     "data": {
      "text/plain": [
       "1.299964527454283"
      ]
     },
     "metadata": {},
     "output_type": "display_data"
    },
    {
     "data": {
      "text/plain": [
       "2.600020972788375"
      ]
     },
     "metadata": {},
     "output_type": "display_data"
    },
    {
     "data": {
      "text/plain": [
       "0.7799731219578777"
      ]
     },
     "metadata": {},
     "output_type": "display_data"
    },
    {
     "data": {
      "text/plain": [
       "1.0400109054097315"
      ]
     },
     "metadata": {},
     "output_type": "display_data"
    },
    {
     "data": {
      "text/plain": [
       "0.519993873023712"
      ]
     },
     "metadata": {},
     "output_type": "display_data"
    },
    {
     "data": {
      "text/plain": [
       "0.520026716542762"
      ]
     },
     "metadata": {},
     "output_type": "display_data"
    },
    {
     "data": {
      "text/plain": [
       "0.7800410459882567"
      ]
     },
     "metadata": {},
     "output_type": "display_data"
    },
    {
     "data": {
      "text/plain": [
       "0.7799838042934671"
      ]
     },
     "metadata": {},
     "output_type": "display_data"
    },
    {
     "data": {
      "text/plain": [
       "1.2999777702985362"
      ]
     },
     "metadata": {},
     "output_type": "display_data"
    },
    {
     "data": {
      "text/plain": [
       "0.7800312852761734"
      ]
     },
     "metadata": {},
     "output_type": "display_data"
    },
    {
     "data": {
      "text/plain": [
       "0.5199946557133245"
      ]
     },
     "metadata": {},
     "output_type": "display_data"
    },
    {
     "data": {
      "text/plain": [
       "0.7800178803183122"
      ]
     },
     "metadata": {},
     "output_type": "display_data"
    }
   ],
   "source": [
    "for column in simulation.columns:\n",
    "    display(simulation[column].sum())"
   ]
  },
  {
   "cell_type": "code",
   "execution_count": 110,
   "id": "3440425a-1da8-41e6-b068-8768c5acddb2",
   "metadata": {},
   "outputs": [
    {
     "data": {
      "text/html": [
       "<div>\n",
       "<style scoped>\n",
       "    .dataframe tbody tr th:only-of-type {\n",
       "        vertical-align: middle;\n",
       "    }\n",
       "\n",
       "    .dataframe tbody tr th {\n",
       "        vertical-align: top;\n",
       "    }\n",
       "\n",
       "    .dataframe thead tr th {\n",
       "        text-align: left;\n",
       "    }\n",
       "</style>\n",
       "<table border=\"1\" class=\"dataframe\">\n",
       "  <thead>\n",
       "    <tr>\n",
       "      <th>Country</th>\n",
       "      <th>Argentina</th>\n",
       "      <th>Bolivia</th>\n",
       "      <th>Brazil</th>\n",
       "      <th>Chile</th>\n",
       "      <th>Colombia</th>\n",
       "      <th>Ecuador</th>\n",
       "      <th>French Guiana</th>\n",
       "      <th>Guyana</th>\n",
       "      <th>Paraguay</th>\n",
       "      <th>Peru</th>\n",
       "      <th>Suriname</th>\n",
       "      <th>Uruguay</th>\n",
       "      <th>Venezuela</th>\n",
       "    </tr>\n",
       "  </thead>\n",
       "  <tbody>\n",
       "  </tbody>\n",
       "</table>\n",
       "</div>"
      ],
      "text/plain": [
       "Empty DataFrame\n",
       "Columns: [(Argentina,), (Bolivia,), (Brazil,), (Chile,), (Colombia,), (Ecuador,), (French Guiana,), (Guyana,), (Paraguay,), (Peru,), (Suriname,), (Uruguay,), (Venezuela,)]\n",
       "Index: []"
      ]
     },
     "execution_count": 110,
     "metadata": {},
     "output_type": "execute_result"
    }
   ],
   "source": [
    "results"
   ]
  }
 ],
 "metadata": {
  "kernelspec": {
   "display_name": "Python 3 (ipykernel)",
   "language": "python",
   "name": "python3"
  },
  "language_info": {
   "codemirror_mode": {
    "name": "ipython",
    "version": 3
   },
   "file_extension": ".py",
   "mimetype": "text/x-python",
   "name": "python",
   "nbconvert_exporter": "python",
   "pygments_lexer": "ipython3",
   "version": "3.9.7"
  }
 },
 "nbformat": 4,
 "nbformat_minor": 5
}
