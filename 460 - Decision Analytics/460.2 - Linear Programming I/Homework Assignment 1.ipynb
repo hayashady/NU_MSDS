{
 "cells": [
  {
   "cell_type": "markdown",
   "metadata": {},
   "source": [
    "#### Homework Assignment 1 (Module 2)"
   ]
  },
  {
   "cell_type": "code",
   "execution_count": 123,
   "metadata": {},
   "outputs": [],
   "source": [
    "from pulp import LpVariable, LpProblem, LpMaximize, LpStatus, value, LpMinimize\n",
    "import matplotlib.pyplot \n",
    "from matplotlib.pyplot import *\n",
    "import numpy\n",
    "from numpy import *"
   ]
  },
  {
   "cell_type": "code",
   "execution_count": 2,
   "metadata": {},
   "outputs": [
    {
     "name": "stdout",
     "output_type": "stream",
     "text": [
      "Defaulting to user installation because normal site-packages is not writeable\n",
      "Collecting pulp\n",
      "  Downloading PuLP-2.6.0-py3-none-any.whl (14.2 MB)\n",
      "Installing collected packages: pulp\n",
      "Successfully installed pulp-2.6.0\n",
      "Note: you may need to restart the kernel to use updated packages.\n"
     ]
    }
   ],
   "source": [
    "pip install pulp"
   ]
  },
  {
   "cell_type": "markdown",
   "metadata": {},
   "source": [
    "#### Problem 1"
   ]
  },
  {
   "cell_type": "raw",
   "metadata": {},
   "source": [
    "Model\n",
    "\n",
    "Variables\n",
    "C = Total Cost of P\n",
    "s1m1 = Production Time Steel 1 Mill 1\n",
    "s2m1 = Production Time Steel 2 Mill 1\n",
    "s3m1 = Production Time Steel 3 Mill 1\n",
    "s1m2 = Production Time Steel 1 Mill 2\n",
    "s2m2 = Production Time Steel 2 Mill 2\n",
    "s3m2 = Production Time Steel 3 Mill 2\n",
    "\n",
    "Objective Function (Minimize)\n",
    "C = 0.5s1m1 + 0.5s2m1 + 0.5s3m1 + 0.5s2m1 + 0.5s2m2 + 0.334s3m2\n",
    "\n",
    "Functional Constraints\n",
    "(1/20)s1m1 + (1/24)s1m2 >= 400\n",
    "(1/22)s2m1 + (1/18)s2m2 >= 1500\n",
    "(1/28)s3m1 + (1/30)s3m2 >= 300\n",
    "(s1m1 + s2m1 + s3m1) = (2/3)(s1m2 + s2m2 + s3m2)\n",
    "\n",
    "Non-Negativity Constraints\n",
    "s1m1, s2m1, s3m1, s1m2, s2m2, s3m2 >= 0"
   ]
  },
  {
   "cell_type": "code",
   "execution_count": 63,
   "metadata": {},
   "outputs": [
    {
     "name": "stdout",
     "output_type": "stream",
     "text": [
      "s1m1 = 8000.0\n",
      "s1m2 = 0.0\n",
      "s2m1 = 10820.408\n",
      "s2m2 = 18146.939\n",
      "s3m1 = 8400.0\n",
      "s3m2 = 0.0\n",
      "Objective = 28093.8775\n",
      "\n"
     ]
    }
   ],
   "source": [
    "s1m1 = LpVariable('s1m1',0,None)\n",
    "s1m2 = LpVariable('s1m2',0,None)\n",
    "s2m1 = LpVariable('s2m1',0,None)\n",
    "s2m2 = LpVariable('s2m2',0,None)\n",
    "s3m1 = LpVariable('s3m1',0,None)\n",
    "s3m2 = LpVariable('s3m2',0,None)\n",
    "\n",
    "prob = LpProblem(\"problem\", LpMinimize)\n",
    "\n",
    "prob += s1m1 + s2m1 + s3m1 <= 12000\n",
    "prob += s1m2 + s2m2 + s3m2 <= 18000\n",
    "\n",
    "prob += (1/20)*s1m1 + (1/24)*s1m2 >= 400\n",
    "prob += (1/22)*s2m1 + (1/18)*s2m2 >= 1500\n",
    "prob += (1/28)*s3m1 + (1/30)*s3m2 >= 300\n",
    "\n",
    "prob += (s1m1 + s2m1 + s3m1) * 12000 == (s1m2 + s2m2 + s3m2) * 18000\n",
    "\n",
    "prob += 0.5*s1m1 + 0.5*s2m1 + 0.5*s3m1 + 0.5*s2m1 + 0.5*s2m2 + (1/3)*s3m2\n",
    "\n",
    "status = prob.solve()\n",
    "\n",
    "for variable in prob.variables():\n",
    "    print(f\"{variable.name} = {variable.varValue}\")\n",
    "    \n",
    "print(f\"Objective = {value(prob.objective)}\")\n",
    "print(f\"\")"
   ]
  },
  {
   "cell_type": "markdown",
   "metadata": {},
   "source": [
    "#### Problem 2"
   ]
  },
  {
   "cell_type": "raw",
   "metadata": {},
   "source": [
    "Equations\n",
    "Max\n",
    "Z = -4x1 + 2x2 \n",
    "\n",
    "\n",
    "Subject To\n",
    "-2x1 + 2x2 ≤ 7  \n",
    "x1 ≥ 2\n",
    "x1 - 4x2 ≤ 0 \n",
    "2x1 + 2x2 ≥ 10 \n",
    "x1, x2 ≥ 0"
   ]
  },
  {
   "cell_type": "raw",
   "metadata": {},
   "source": [
    "Standard Form\n",
    "\n",
    "Objective Function (Maximize)\n",
    "-4x1 + 2x2 + s1 - s2 + s3 - s4= Z\n",
    "\n",
    "Functional Constraints\n",
    "-2x1 + 2x2 + s1 = 7\n",
    "x1 - s2 = 2\n",
    "x1 - 4x2 + s3 = 0\n",
    "2x1 + 2x2 - s4 = 10\n",
    "\n",
    "Non-Negativity Constraints\n",
    "x1, x2 >= 0"
   ]
  },
  {
   "cell_type": "raw",
   "metadata": {},
   "source": [
    "Critical Points: (2, 5.5), (2, 3), (4, 1)"
   ]
  },
  {
   "cell_type": "code",
   "execution_count": 122,
   "metadata": {},
   "outputs": [
    {
     "name": "stdout",
     "output_type": "stream",
     "text": [
      "Point (2,5.5) has a Z = 3.0\n",
      "Point (2,3) has a Z = -2\n",
      "Point (4,1) has a Z = -14\n",
      "\n",
      "Solution is x = 2 and y = 5.5\n"
     ]
    }
   ],
   "source": [
    "x1 = 2 \n",
    "y1 = 5.5\n",
    "x2 = 2\n",
    "y2 = 3\n",
    "x3 = 4\n",
    "y3 = 1\n",
    "\n",
    "def Z(x,y):\n",
    "    print(f'Point ({x},{y}) has a Z = {(-4*x + 2*y)}')\n",
    "    \n",
    "Z(x1, y1)\n",
    "Z(x2, y2)\n",
    "Z(x3, y3)\n",
    "\n",
    "print('\\nSolution is x = 2 and y = 5.5')"
   ]
  },
  {
   "cell_type": "markdown",
   "metadata": {},
   "source": [
    "#### Problem 3"
   ]
  },
  {
   "cell_type": "raw",
   "metadata": {},
   "source": [
    "Model\n",
    "\n",
    "Variables\n",
    "\n",
    "C = Cash\n",
    "m = month, first digit = which month, second digit = term\n",
    "\n",
    "m11 = month one @ one month      m21 = month two @ one month       m31 = month three @ one month     m41 = month four @ one month\n",
    "m12 = month one @ two months     m22 = month two @ two months      m32 = month three @ two months \n",
    "m13 = month one @ three months   m23 = month two @ three months  \n",
    "m14 = month one @ four months\n",
    "\n",
    "Objective Function (Maximize)\n",
    "C = 1.08m14 + 1.03(m13 + m23) + 1.02(m12 + m22 + m32) + 1.001(m11 + m21 + m31 + m41)\n",
    "\n",
    "Functional Constraints\n",
    "m14 + m13 + m12 + m11 < 200\n",
    "m23 + m22 + m21 < 300 + 1.001m11\n",
    "m12 + m21 < 200 + 1.02m12 + 1.001m21\n",
    "m41 < 50 + 1.03m13 + 1.02m22+ 1.001m31\n",
    "\n",
    "Non-Negativity Constraints\n",
    "m11, m12, m13, m14, m21, m22, m23, m31, m32, m41 >= 0"
   ]
  },
  {
   "cell_type": "code",
   "execution_count": 133,
   "metadata": {},
   "outputs": [
    {
     "name": "stdout",
     "output_type": "stream",
     "text": [
      "m11 = 0.0\n",
      "m12 = 0.0\n",
      "m13 = 0.0\n",
      "m14 = 200.0\n",
      "m21 = 0.0\n",
      "m22 = 0.0\n",
      "m23 = 300.0\n",
      "m31 = 0.0\n",
      "m32 = 0.0\n",
      "m41 = 50.0\n",
      "Objective = 575.05\n",
      "\n"
     ]
    }
   ],
   "source": [
    "m11 = LpVariable('m11',0,None)\n",
    "m12 = LpVariable('m12',0,None)\n",
    "m13 = LpVariable('m13',0,None)\n",
    "m14 = LpVariable('m14',0,None)\n",
    "m21 = LpVariable('m21',0,None)\n",
    "m22 = LpVariable('m22',0,None)\n",
    "m23 = LpVariable('m23',0,None)\n",
    "m31 = LpVariable('m31',0,None)\n",
    "m32 = LpVariable('m32',0,None)\n",
    "m41 = LpVariable('m41',0,None)\n",
    "\n",
    "prob = LpProblem(\"problem\", LpMaximize)\n",
    "\n",
    "prob += m14 + m13 + m12 + m11 == 200\n",
    "prob += m23 + m22 + m21 == 300 + 1.001*m11\n",
    "prob += m12 + m21 == 200 + 1.02*m12 + 1.001*m21\n",
    "prob += m41 == 50 + 1.03*m13 + 1.02*m22+ 1.001*m31\n",
    "\n",
    "prob += 1.08*m14 + 1.03*m13 + 1.03*m23 + 1.02*m12 + 1.01*m22 + 1.01*m32 + 1.001*m11 + 1.001*m21 + 1.001*m31 + 1.001*m41\n",
    "\n",
    "status = prob.solve()\n",
    "\n",
    "for variable in prob.variables():\n",
    "    print(f\"{variable.name} = {variable.varValue}\")\n",
    "    \n",
    "print(f\"Objective = {value(prob.objective)}\")\n",
    "print(f\"\")"
   ]
  },
  {
   "cell_type": "markdown",
   "metadata": {},
   "source": [
    "#### Problem 4"
   ]
  },
  {
   "cell_type": "raw",
   "metadata": {},
   "source": [
    "Model\n",
    "\n",
    "Variables\n",
    "P = Total Cost\n",
    "C1 = Number of Type 1 Cutlets\n",
    "C2 = Number of Type 2 Cutlets\n",
    "T1 = Number of Type 1 Turkeys\n",
    "T2 = Number of Type 2 Turkeys\n",
    "\n",
    "Objective Function (Maximize)\n",
    "P = 4C1 + 3C2 - 10T1 - 8T2\n",
    "\n",
    "Functional Constraints\n",
    "C1 <= 50\n",
    "C2 <= 30\n",
    "5T1 + 3T2 >= 0.7C1 + 0.6C2\n",
    "2T1 + 3T2 <= 0.3C1 + 0.4C2\n",
    "\n",
    "Non-Negativity Constraints\n",
    "C1, C2, T1, T2 >= 0"
   ]
  },
  {
   "cell_type": "code",
   "execution_count": 53,
   "metadata": {},
   "outputs": [
    {
     "name": "stdout",
     "output_type": "stream",
     "text": [
      "C1 = 50.0\n",
      "C2 = 30.0\n",
      "T1 = 10.6\n",
      "T2 = 0.0\n",
      "Objective = 184.0\n",
      "\n"
     ]
    }
   ],
   "source": [
    "C1 = LpVariable('C1',0,None)\n",
    "C2 = LpVariable('C2',0,None)\n",
    "T1 = LpVariable('T1',0,None)\n",
    "T2 = LpVariable('T2',0,None)\n",
    "\n",
    "prob = LpProblem(\"problem\", LpMaximize)\n",
    "\n",
    "prob += 5*T1 + 3*T2 >= 0.7*C1 + 0.6*C2\n",
    "prob += 2*T1 + 3*T2 <= 0.3*C1 + 0.4*C2\n",
    "\n",
    "prob += C1 <= 50\n",
    "prob += C2 <= 30\n",
    "\n",
    "prob += 4*C1 + 3*C2 - 10*T1 - 8*T2\n",
    "status = prob.solve()\n",
    "\n",
    "for variable in prob.variables():\n",
    "    print(f\"{variable.name} = {variable.varValue}\")\n",
    "    \n",
    "print(f\"Objective = {value(prob.objective)}\")\n",
    "print(f\"\")"
   ]
  },
  {
   "cell_type": "markdown",
   "metadata": {},
   "source": [
    "#### Problem 5"
   ]
  },
  {
   "cell_type": "raw",
   "metadata": {},
   "source": [
    "Model\n",
    "\n",
    "Variables\n",
    "C = Total Cost of Production\n",
    "P1 = Production Q1\n",
    "P2 = Production Q2\n",
    "P3 = Production Q3\n",
    "P4 = Production 04\n",
    "S1 = Storage Q1\n",
    "S2 = Storage Q2\n",
    "S3 = Storage Q3\n",
    "\n",
    "Objective Function (Minimize)\n",
    "C = 15P1 + 16P2 + 17P3 + 18P4 + 1.5(S1 + S2 + S3)\n",
    "\n",
    "Functional Contraints\n",
    "\n",
    "130 <= P1 <= 190\n",
    "100 <= P2 <= 200\n",
    "190 <= P3 <= 200\n",
    "140 <= P4 <= 150\n",
    "340 <= P1 + P2 <= 350\n",
    "\n",
    "S1 = P1 - 130\n",
    "S2 = S1 + P2 - 160\n",
    "S3 = S2 + P3 - 250\n",
    "\n",
    "50 <= S2 <= 60\n",
    "S3 <= 10\n",
    "P4 + S3 = 150\n",
    "\n",
    "Non-Negativity Constraints\n",
    "P1, P2, P3, P4, S1, S2, S3 >= 0"
   ]
  },
  {
   "cell_type": "code",
   "execution_count": 64,
   "metadata": {},
   "outputs": [
    {
     "name": "stdout",
     "output_type": "stream",
     "text": [
      "Q1 = 140.0\n",
      "Q2 = 200.0\n",
      "Q3 = 200.0\n",
      "Q4 = 150.0\n",
      "S1 = 10.0\n",
      "S2 = 50.0\n",
      "S3 = 0.0\n",
      "Objective = 11490.0\n",
      "\n"
     ]
    }
   ],
   "source": [
    "P1 = LpVariable('Q1',130,190)\n",
    "P2 = LpVariable('Q2',100,200)\n",
    "P3 = LpVariable('Q3',190,200)\n",
    "P4 = LpVariable('Q4',140,150)\n",
    "S1 = LpVariable('S1',0,60) # Max storage of 60\n",
    "S2 = LpVariable('S2',50,60) # Max storage of 60\n",
    "S3 = LpVariable('S3',0,10) # Max storage of 60\n",
    "\n",
    "prob = LpProblem(\"problem\", LpMinimize)\n",
    "\n",
    "prob += 15*P1 + 16*P2 + 17*P3 + 18*P4 + 1.5*S1 + 1.5*S2 + 1.5*S3\n",
    "\n",
    "prob += S1 == P1 - 130\n",
    "prob += P1 + P2 >= 340\n",
    "prob += P1 + P2 <= 350\n",
    "prob += P4 + S3 == 150\n",
    "\n",
    "prob += S2 == S1 + P2 - 160\n",
    "prob += S3 == S2 + P3 - 250\n",
    "\n",
    "status = prob.solve()\n",
    "\n",
    "for variable in prob.variables():\n",
    "    print(f\"{variable.name} = {variable.varValue}\")\n",
    "    \n",
    "print(f\"Objective = {value(prob.objective)}\")\n",
    "print(f\"\")"
   ]
  }
 ],
 "metadata": {
  "kernelspec": {
   "display_name": "Python 3 (ipykernel)",
   "language": "python",
   "name": "python3"
  },
  "language_info": {
   "codemirror_mode": {
    "name": "ipython",
    "version": 3
   },
   "file_extension": ".py",
   "mimetype": "text/x-python",
   "name": "python",
   "nbconvert_exporter": "python",
   "pygments_lexer": "ipython3",
   "version": "3.9.7"
  }
 },
 "nbformat": 4,
 "nbformat_minor": 4
}
