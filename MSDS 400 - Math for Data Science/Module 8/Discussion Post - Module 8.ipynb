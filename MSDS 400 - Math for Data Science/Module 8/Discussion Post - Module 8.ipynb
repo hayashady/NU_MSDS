{
 "cells": [
  {
   "cell_type": "code",
   "execution_count": 6,
   "metadata": {},
   "outputs": [
    {
     "name": "stdout",
     "output_type": "stream",
     "text": [
      "1518\n"
     ]
    }
   ],
   "source": [
    "from sympy import *\n",
    "\n",
    "t = Symbol('t')\n",
    "c = (ln(t)**3) + (t ** (1/2)) - (t / 1.25)\n",
    "cases = integrate(c,(t,0,75)).evalf()\n",
    "print(round(cases))"
   ]
  }
 ],
 "metadata": {
  "kernelspec": {
   "display_name": "Python 3",
   "language": "python",
   "name": "python3"
  },
  "language_info": {
   "codemirror_mode": {
    "name": "ipython",
    "version": 3
   },
   "file_extension": ".py",
   "mimetype": "text/x-python",
   "name": "python",
   "nbconvert_exporter": "python",
   "pygments_lexer": "ipython3",
   "version": "3.8.3"
  }
 },
 "nbformat": 4,
 "nbformat_minor": 4
}
