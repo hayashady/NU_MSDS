{
 "cells": [
  {
   "cell_type": "code",
   "execution_count": 9,
   "metadata": {},
   "outputs": [],
   "source": [
    "# Discussion Post - Module 4\n",
    "# Setup: There are 52 cards in a deck, with 4 different suits, each with 13 ranks\n",
    "\n",
    "def factorial(n):\n",
    "        if n == 0:\n",
    "            return 1\n",
    "        else:\n",
    "            recurse = factorial(n-1)\n",
    "            result = n * recurse\n",
    "            return result\n",
    "\n",
    "def permutation(n,k):\n",
    "    if n == 0:\n",
    "        return 1\n",
    "    elif k > n:\n",
    "        return -1\n",
    "    else: return (factorial(n)/factorial(n-k))\n",
    "    \n",
    "def combination(n,k):\n",
    "    result = permutation(n,k)\n",
    "    result = result / factorial(k)\n",
    "    result = int(result)\n",
    "    return result"
   ]
  },
  {
   "cell_type": "code",
   "execution_count": 26,
   "metadata": {},
   "outputs": [
    {
     "name": "stdout",
     "output_type": "stream",
     "text": [
      "There are a total of 1287 possible flushes.\n",
      "There are a total of 2598960 possible hands.\n",
      "For a given suit, the probability of being dealt a flush is: 0.0005\n",
      "The probability of being dealt a flush of any suit is: 0.00198\n"
     ]
    }
   ],
   "source": [
    "# Event 1: Being dealt a flush in five card draw (meaning that all cards in a hand have the same suit.)\n",
    "    #Note: for this example, I will include straight flushes and royal flushes.\n",
    "    \n",
    "# All possible flush hands that can be drawn from a suit can be represented by:\n",
    "    # Combinations of 13 cards taken 5 at a time\n",
    "\n",
    "totalflushes = combination(13,5)\n",
    "print('There are a total of {} possible flushes.'.format(totalflushes))\n",
    "        \n",
    "# All possible hands can be represented by:\n",
    "    # Combinations of 52 cards taken 5 at a time\n",
    "    \n",
    "totalhands = combination(52,5)\n",
    "print('There are a total of {} possible hands.'.format(totalhands))\n",
    "        \n",
    "# So, the probability of getting a flush of a given suit is:\n",
    "flushgivensuit = totalflushes / totalhands\n",
    "print('For a given suit, the probability of being dealt a flush is:',round(flushgivensuit,5))\n",
    "\n",
    "# However, there are four suits, so this figure needs to multiplied by four\n",
    "probofflush = flushgivensuit * 4\n",
    "print('The probability of being dealt a flush of any suit is:',round(probofflush,5))"
   ]
  },
  {
   "cell_type": "code",
   "execution_count": 32,
   "metadata": {},
   "outputs": [
    {
     "name": "stdout",
     "output_type": "stream",
     "text": [
      "10\n",
      "4\n",
      "There are a total of 10240 combinations of straights.\n",
      "The probability of being dealt a straight is: 0.0039\n"
     ]
    }
   ],
   "source": [
    "# Event 2: Being dealt a straight in five card draw (meaning that cards have sequential value, i.e. 2,3,4,5, and 6)\n",
    "    # Note: for this example, I will include straight flushes and royal flushes.\n",
    "\n",
    "# There are ten possible combinations of ranks that count as straights (Ace - Five through 10 - Ace).\n",
    "    # This can be represented by combinations of 10 hands taken 1 at a time.\n",
    "    \n",
    "rankcombinations = combination(10,1)\n",
    "print(rankcombinations)\n",
    "\n",
    "# Each card can be in any of the four suits. Each card then can represented by:\n",
    "    # Combinations of 4 suits taken 1 at a time.\n",
    "    \n",
    "suitcombinations = combination(4,1)\n",
    "print(suitcombinations)\n",
    "    \n",
    "# The total number of possible straight hands can then be represented by:\n",
    "    # 10C4 * (4C1)**5\n",
    "\n",
    "straighthands = rankcombinations * (suitcombinations**5)\n",
    "print('There are a total of {} combinations of straights.'.format(straighthands))\n",
    "\n",
    "# As stated earlier, the total number of possible hands can be represented by:\n",
    "    # Combinations of 52 cards taken 4 at a time, equal to totalhands in previous section\n",
    "    \n",
    "probofstraight = straighthands / totalhands\n",
    "print('The probability of being dealt a straight is: {}'.format(round(probofstraight,4)))"
   ]
  },
  {
   "cell_type": "code",
   "execution_count": 58,
   "metadata": {},
   "outputs": [
    {
     "name": "stdout",
     "output_type": "stream",
     "text": [
      "4\n",
      "The total number of possible straight flushes is: 40\n",
      "The probability of being dealt a straight flush is: 2e-05\n"
     ]
    }
   ],
   "source": [
    "# The intersection of Flushes and Straights are... you guessed it... straight flushes! This means that a hand has\n",
    "# cards of sequential order, all in the same suit. I will calculate the probability of being dealt a straight flush, \n",
    "# which represents the intersection of the two events described above. \n",
    "\n",
    "# As stated above, there are ten combinations of ranks that can result in a straight.\n",
    "    # This can again be represented by combinations of 10 hands taken 1 at a time. This is equal to variable\n",
    "    # rankcombinations in the section above.\n",
    "    \n",
    "# Each combination of ranks can be in any one of four suits. This can be represented by:\n",
    "    # Combinations of 4 suits taken 1 at a time.\n",
    "    \n",
    "suitprob = combination(4,1)\n",
    "print(suitprob)\n",
    "\n",
    "# The two variables can then be multiplied to calculate the total number of possible straight flushes.\n",
    "\n",
    "straightflushes = rankcombinations * suitprob\n",
    "print('The total number of possible straight flushes is: {}'.format(straightflushes))\n",
    "probofstraightflush = straightflushes / totalhands\n",
    "print('The probability of being dealt a straight flush is: {}'.format(round(probofstraightflush,5)))"
   ]
  },
  {
   "cell_type": "code",
   "execution_count": 59,
   "metadata": {},
   "outputs": [
    {
     "name": "stdout",
     "output_type": "stream",
     "text": [
      "These events are not independant\n"
     ]
    }
   ],
   "source": [
    "# Proving Dependance\n",
    "\n",
    "# If flushes are straights are independent, then P(straightflush) should equal to P(flush) * P(straight)\n",
    "# Lets see...\n",
    "\n",
    "probflushtimesstraight = probofflush * probofstraight\n",
    "\n",
    "if probflushtimesstraight == probofstraightflush:\n",
    "    print('These events are independant')\n",
    "else:\n",
    "    print('These events are not independant')"
   ]
  }
 ],
 "metadata": {
  "kernelspec": {
   "display_name": "Python 3",
   "language": "python",
   "name": "python3"
  },
  "language_info": {
   "codemirror_mode": {
    "name": "ipython",
    "version": 3
   },
   "file_extension": ".py",
   "mimetype": "text/x-python",
   "name": "python",
   "nbconvert_exporter": "python",
   "pygments_lexer": "ipython3",
   "version": "3.8.3"
  }
 },
 "nbformat": 4,
 "nbformat_minor": 4
}
