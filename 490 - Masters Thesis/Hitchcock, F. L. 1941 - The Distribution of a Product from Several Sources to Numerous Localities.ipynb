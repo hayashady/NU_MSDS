{
 "cells": [
  {
   "cell_type": "code",
   "execution_count": 1,
   "metadata": {},
   "outputs": [],
   "source": [
    "from scipy import optimize\n",
    "from pulp import LpVariable, LpProblem, LpStatus, value, LpMinimize"
   ]
  },
  {
   "cell_type": "code",
   "execution_count": null,
   "metadata": {},
   "outputs": [],
   "source": [
    "objective_function_coefficients = [10,5,6,7,8,2,7,6,9,3,4,8]\n",
    "\n",
    "contraints = [\n",
    "    [1,1,1,1,0,0,0,0,0,0,0,0],\n",
    "    [0,0,0,0,1,1,1,1,0,0,0,0],\n",
    "    [0,0,0,0,0,0,0,0,1,1,1,1],\n",
    "    [1,0,0,0,1,0,0,0,1,0,0,0],\n",
    "    [0,1,0,0,0,1,0,0,0,1,0,0],\n",
    "    [0,0,1,0,0,0,1,0,0,0,1,0],\n",
    "    [0,0,0,1,0,0,0,1,0,0,0,1],\n",
    "]\n",
    "\n",
    "rhs = [25,25,50,15,20,30,35]"
   ]
  },
  {
   "cell_type": "code",
   "execution_count": 14,
   "metadata": {},
   "outputs": [],
   "source": [
    "# Objective Function: y = 10x[0] + 5x[1] + 6x[2] + 7x[3] + 8x[4] + 2x[5] + 7x[6] + 6x[7] + 9x[8] + 3x[9] + 4x[10] + 8x[11]\n",
    "objective_function = lambda x: 10*x[0] + 5*x[1] + 6*x[2] + 7*x[3] + 8*x[4] + 2*x[5] + 7*x[6] + 6*x[7] + 9*x[8] + 3*x[9] + 4*x[10] + 8*x[11]\n",
    "\n",
    "# Non-negativity constraints\n",
    "# x[0], x[1], x[2], x[3], x[4], x[5], x[6], x[7], x[8], x[9], x[10], x[11] >= 0\n",
    "nonnegativity_constraints = ((0,15),(0,20),(0,25),(0,25),\n",
    "                            (0,15),(0,20),(0,25),(0,25),\n",
    "                            (0,15),(0,20),(0,30),(0,35))\n",
    "\n",
    "# Constraints\n",
    "# x[0] + x[1] + x[2] + x[3] = 25\n",
    "# x[4] + x[5] + x[6] + x[7] = 25\n",
    "# x[8] + x[9] + x[10] + x[11] = 50\n",
    "# x[0] + x[4] + x[8] = 15\n",
    "# x[1] + x[5] + x[9] = 20\n",
    "# x[2] + x[6] + x[10] = 30\n",
    "# x[3] + x[7] + x[11] = 35\n",
    "constraints = {\n",
    "    'type':'eq','fun':lambda x: x[0] + x[1] + x[2] + x[3] - 25,\n",
    "    'type':'eq','fun':lambda x: x[4] + x[5] + x[6] + x[7] - 25,\n",
    "    'type':'eq','fun':lambda x: x[8] + x[9] + x[10] + x[11] - 50,\n",
    "    'type':'eq','fun':lambda x: x[0] + x[4] + x[8] - 15,\n",
    "    'type':'eq','fun':lambda x: x[1] + x[5] + x[9] - 20,\n",
    "    'type':'eq','fun':lambda x: x[2] + x[6] + x[10] - 30,\n",
    "    'type':'eq','fun':lambda x: x[3] + x[7] + x[11] - 35,\n",
    "}\n",
    "\n",
    "# Starting Point\n",
    "x0 = [0,0,0,25,0,0,25,0,15,20,5,10]\n",
    "\n",
    "solution = optimize.minimize(objective_function,x0=x0,bounds=nonnegativity_constraints,constraints=constraints)"
   ]
  },
  {
   "cell_type": "code",
   "execution_count": 15,
   "metadata": {},
   "outputs": [
    {
     "data": {
      "text/plain": [
       " message: Optimization terminated successfully\n",
       " success: True\n",
       "  status: 0\n",
       "     fun: 210.00000000007003\n",
       "       x: [ 0.000e+00  0.000e+00  0.000e+00  0.000e+00  0.000e+00\n",
       "            0.000e+00  0.000e+00  3.500e+01  0.000e+00  0.000e+00\n",
       "            0.000e+00  0.000e+00]\n",
       "     nit: 10\n",
       "     jac: [ 1.000e+01  5.000e+00  6.000e+00  7.000e+00  8.000e+00\n",
       "            2.000e+00  7.000e+00  6.000e+00  9.000e+00  3.000e+00\n",
       "            4.000e+00  8.000e+00]\n",
       "    nfev: 130\n",
       "    njev: 10"
      ]
     },
     "execution_count": 15,
     "metadata": {},
     "output_type": "execute_result"
    }
   ],
   "source": [
    "solution"
   ]
  },
  {
   "cell_type": "code",
   "execution_count": 30,
   "metadata": {},
   "outputs": [
    {
     "name": "stdout",
     "output_type": "stream",
     "text": [
      "Welcome to the CBC MILP Solver \n",
      "Version: 2.10.3 \n",
      "Build Date: Dec 15 2019 \n",
      "\n",
      "command line - /Users/dylanhayashi/Library/Python/3.9/lib/python/site-packages/pulp/solverdir/cbc/osx/64/cbc /var/folders/hb/_tr1b6d918vdtcwmymd4p0v80000gn/T/389accb452644583b382ec5456cddf89-pulp.mps timeMode elapsed branch printingOptions all solution /var/folders/hb/_tr1b6d918vdtcwmymd4p0v80000gn/T/389accb452644583b382ec5456cddf89-pulp.sol (default strategy 1)\n",
      "At line 2 NAME          MODEL\n",
      "At line 3 ROWS\n",
      "At line 12 COLUMNS\n",
      "At line 49 RHS\n",
      "At line 57 BOUNDS\n",
      "At line 70 ENDATA\n",
      "Problem MODEL has 7 rows, 12 columns and 24 elements\n",
      "Coin0008I MODEL read with 0 errors\n",
      "Option for timeMode changed from cpu to elapsed\n",
      "Presolve 7 (0) rows, 12 (0) columns and 24 (0) elements\n",
      "0  Obj 0 Primal inf 200 (7)\n",
      "7  Obj 535\n",
      "Optimal - objective value 535\n",
      "Optimal objective 535 - 7 iterations time 0.002\n",
      "Option for printingOptions changed from normal to all\n",
      "Total time (CPU seconds):       0.00   (Wallclock seconds):       0.00\n",
      "\n",
      "x11 = 0.0\n",
      "x12 = 0.0\n",
      "x13 = 0.0\n",
      "x14 = 25.0\n",
      "x21 = 15.0\n",
      "x22 = 0.0\n",
      "x23 = 0.0\n",
      "x24 = 10.0\n",
      "x31 = 0.0\n",
      "x32 = 20.0\n",
      "x33 = 30.0\n",
      "x34 = 0.0\n",
      "Objective = 535.0\n",
      "\n"
     ]
    }
   ],
   "source": [
    "x11 = LpVariable('x11',0,15)\n",
    "x12 = LpVariable('x12',0,20)\n",
    "x13 = LpVariable('x13',0,25)\n",
    "x14 = LpVariable('x14',0,25)\n",
    "x21 = LpVariable('x21',0,15)\n",
    "x22 = LpVariable('x22',0,20)\n",
    "x23 = LpVariable('x23',0,25)\n",
    "x24 = LpVariable('x24',0,25)\n",
    "x31 = LpVariable('x31',0,15)\n",
    "x32 = LpVariable('x32',0,20)\n",
    "x33 = LpVariable('x33',0,30)\n",
    "x34 = LpVariable('x34',0,35)\n",
    "\n",
    "prob = LpProblem(\"problem\", LpMinimize)\n",
    "\n",
    "prob += x11 + x12 + x13 + x14 == 25\n",
    "prob += x21 + x22 + x23 + x24 == 25\n",
    "prob += x31 + x32 + x33 + x34 == 50\n",
    "prob += x11 + x21 + x31 == 15\n",
    "prob += x12 + x22 + x32 == 20\n",
    "prob += x13 + x23 + x33 == 30\n",
    "prob += x14 + x24 + x34 == 35\n",
    "\n",
    "prob += 10*x11 + 5*x12 + 6*x13 + 7*x14 + 8*x21 + 2*x22 + 7*x23 + 6*x24 + 9*x31 + 3*x32 + 4*x33 + 8*x34\n",
    "\n",
    "status = prob.solve()\n",
    "\n",
    "for variable in prob.variables():\n",
    "    print(f\"{variable.name} = {variable.varValue}\")\n",
    "    \n",
    "print(f\"Objective = {value(prob.objective)}\")\n",
    "print(f\"\")"
   ]
  },
  {
   "cell_type": "code",
   "execution_count": null,
   "metadata": {},
   "outputs": [],
   "source": []
  }
 ],
 "metadata": {
  "kernelspec": {
   "display_name": "Python 3.9.6 64-bit",
   "language": "python",
   "name": "python3"
  },
  "language_info": {
   "codemirror_mode": {
    "name": "ipython",
    "version": 3
   },
   "file_extension": ".py",
   "mimetype": "text/x-python",
   "name": "python",
   "nbconvert_exporter": "python",
   "pygments_lexer": "ipython3",
   "version": "3.9.6"
  },
  "orig_nbformat": 4,
  "vscode": {
   "interpreter": {
    "hash": "31f2aee4e71d21fbe5cf8b01ff0e069b9275f58929596ceb00d14d90e3e16cd6"
   }
  }
 },
 "nbformat": 4,
 "nbformat_minor": 2
}
