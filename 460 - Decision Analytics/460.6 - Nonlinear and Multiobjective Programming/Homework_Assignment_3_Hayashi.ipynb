{
 "cells": [
  {
   "cell_type": "markdown",
   "metadata": {},
   "source": [
    "#### Problem Set 3"
   ]
  },
  {
   "cell_type": "markdown",
   "metadata": {},
   "source": [
    "#### Imports"
   ]
  },
  {
   "cell_type": "code",
   "execution_count": 6,
   "metadata": {},
   "outputs": [],
   "source": [
    "import pandas as pd\n",
    "import numpy as np\n",
    "from numpy import sqrt\n",
    "from scipy.optimize import minimize\n",
    "from pulp import LpVariable, LpProblem, LpStatus, value, LpMinimize"
   ]
  },
  {
   "cell_type": "markdown",
   "metadata": {},
   "source": [
    "#### Problem 1\n"
   ]
  },
  {
   "cell_type": "raw",
   "metadata": {},
   "source": [
    "Objective Function\n",
    "Maximize: (q) = 4x1 + 2x2 - 0.5x1^2 - 0.25x2^2\n",
    "Subject to: 8x1 + 4x2 <= 40\n",
    "Non-negativity: x1, x2 >= 0"
   ]
  },
  {
   "cell_type": "code",
   "execution_count": 10,
   "metadata": {},
   "outputs": [
    {
     "name": "stdout",
     "output_type": "stream",
     "text": [
      "Optimal Units of x1: 3.158\n",
      "Optimal Units of x2: 2.947\n",
      "Objective Function Value: 11.368\n"
     ]
    }
   ],
   "source": [
    "objective_function = lambda x: -4 * x[0] - 2 * x[1] + 0.5 * x[0] ** 2 + 0.25 * x[1] ** 2\n",
    "\n",
    "constraints = [{\"type\": \"ineq\", \"fun\": lambda x: (-8 * x[0] - 5 * x[1] + 40)}]\n",
    "\n",
    "bounds = ((0, 5), (0, 8))\n",
    "x0 = [1, 1]\n",
    "\n",
    "solution = minimize(objective_function, x0=x0, bounds=bounds, constraints=constraints)\n",
    "\n",
    "print(f'Optimal Units of x1: {round(solution.x[0],3)}')\n",
    "print(f'Optimal Units of x2: {round(solution.x[1],3)}')\n",
    "print(f'Objective Function Value: {round(-1*solution.fun,3)}')"
   ]
  },
  {
   "cell_type": "markdown",
   "metadata": {},
   "source": [
    "#### Problem 2"
   ]
  },
  {
   "cell_type": "raw",
   "metadata": {},
   "source": [
    "Maximize (a) = sqrt(s(s-a)(s-b)(s-c)\n",
    "Subject to: a + b + c <= 60\n",
    "            s <= 30\n",
    "Non-negativity: a, b, c >= 0"
   ]
  },
  {
   "cell_type": "code",
   "execution_count": 14,
   "metadata": {},
   "outputs": [
    {
     "name": "stdout",
     "output_type": "stream",
     "text": [
      "Optimal length of x1: 20.0\n",
      "Optimal length of x2: 20.0\n",
      "Optimal length of x3: 20.0\n",
      "Optimal value of x4: 30.0\n",
      "Objective function value: 173.205\n"
     ]
    }
   ],
   "source": [
    "objective_function = lambda x: -sqrt(-x[3] * -(x[3] - x[0]) * -(x[3] - x[1]) * -(x[3] - x[2]))\n",
    "\n",
    "constraints = [{\"type\": \"ineq\", \"fun\": lambda x: -x[0] - x[1] - x[2] + 60},\n",
    "              {\"type\": \"eq\", \"fun\": lambda x: -x[3] + 0.5 * (x[0] + x[1] + x[2])},]\n",
    "\n",
    "bounds = ((0, 60), (0, 60), (0, 60), (0, 30))\n",
    "x0 = [1, 1, 1, 1.5]\n",
    "\n",
    "solution = minimize(objective_function, x0=x0, bounds=bounds, constraints=constraints)\n",
    "\n",
    "print(f'Optimal length of x1: {round(solution.x[0],3)}')\n",
    "print(f'Optimal length of x2: {round(solution.x[1],3)}')\n",
    "print(f'Optimal length of x3: {round(solution.x[2],3)}')\n",
    "print(f'Optimal value of x4: {round(solution.x[3],3)}')\n",
    "print(f'Objective function value: {round(-solution.fun,3)}')"
   ]
  },
  {
   "cell_type": "markdown",
   "metadata": {},
   "source": [
    "#### Problem 5"
   ]
  },
  {
   "cell_type": "code",
   "execution_count": 15,
   "metadata": {},
   "outputs": [
    {
     "name": "stdout",
     "output_type": "stream",
     "text": [
      "Optimal B1 (x1 coefficient) : 47.773\n",
      "Optimal B0 (intercept) : 4393.129\n",
      "Sum of Squared Errors: 9083164.38\n",
      "\n",
      "Equation: y = 47.773x + 4393.129\n",
      "\n",
      "Estimated Average Revenue at 120 hours: $10125.89\n"
     ]
    }
   ],
   "source": [
    "objective_function = (\n",
    "    lambda x: (40 * x[0] + x[1] - 5958) ** 2\n",
    "    + (44 * x[0] + x[1] - 6662) ** 2\n",
    "    + (48 * x[0] + x[1] - 6004) ** 2\n",
    "    + (48 * x[0] + x[1] - 6011) ** 2\n",
    "    + (60 * x[0] + x[1] - 7250) ** 2\n",
    "    + (70 * x[0] + x[1] - 8632) ** 2\n",
    "    + (72 * x[0] + x[1] - 6964) ** 2\n",
    "    + (90 * x[0] + x[1] - 11097) ** 2\n",
    "    + (100 * x[0] + x[1] - 9107) ** 2\n",
    "    + (168 * x[0] + x[1] - 11598) ** 2)\n",
    "\n",
    "bounds = ((0, None), (0, None))\n",
    "x0 = [0, 0]\n",
    "\n",
    "solution = minimize(objective_function, x0=x0, bounds=bounds)\n",
    "print(f\"Optimal B1 (x1 coefficient) : {round(solution.x[0],3)}\")\n",
    "print(f\"Optimal B0 (intercept) : {round(solution.x[1],3)}\")\n",
    "print(f\"Sum of Squared Errors: {round(solution.fun,3)}\\n\")\n",
    "print(\"Equation: y = 47.773x + 4393.129\\n\")\n",
    "\n",
    "def estimate_average_revenue(hours):\n",
    "    return(round(47.773 * hours + 4393.129,2))\n",
    "\n",
    "print(f\"Estimated Average Revenue at 120 hours: ${estimate_average_revenue(120)}\")"
   ]
  },
  {
   "cell_type": "code",
   "execution_count": 28,
   "metadata": {},
   "outputs": [
    {
     "name": "stdout",
     "output_type": "stream",
     "text": [
      "Optimal B1 (x1 coefficient) : 836.737\n",
      "Optimal B0 (intercept) : 4716.961\n",
      "Sum of Squared Errors: 27169224.816\n",
      "\n",
      "Equation: y = 836.737ln(x) + 4716.961.7\n",
      "\n",
      "Estimated Average Revenue at 120 hours: $8722.83\n"
     ]
    }
   ],
   "source": [
    "# General Form: y = a*ln(x)+b\n",
    "\n",
    "objective_function = (\n",
    "    lambda x: (np.log(40) + x[1] - 5958) ** 2\n",
    "    + (x[0] * np.log(44) + x[1] - 6662) ** 2\n",
    "    + (x[0] * np.log(48) + x[1] - 6004) ** 2\n",
    "    + (x[0] * np.log(48) + x[1] - 6011) ** 2\n",
    "    + (x[0] * np.log(60) + x[1] - 7250) ** 2\n",
    "    + (x[0] * np.log(70) + x[1] - 8632) ** 2\n",
    "    + (x[0] * np.log(72) + x[1] - 6964) ** 2\n",
    "    + (x[0] * np.log(90) + x[1] - 11097) ** 2\n",
    "    + (x[0] * np.log(100) + x[1] - 9107) ** 2\n",
    "    + (x[0] * np.log(168) + x[1] - 11598) ** 2)\n",
    "\n",
    "bounds = ((0, None), (0, None))\n",
    "x0 = [1,1]\n",
    "\n",
    "solution = minimize(objective_function, x0=x0, bounds=bounds)\n",
    "print(f\"Optimal B1 (x1 coefficient) : {round(solution.x[0],3)}\")\n",
    "print(f\"Optimal B0 (intercept) : {round(solution.x[1],3)}\")\n",
    "print(f\"Sum of Squared Errors: {round(solution.fun,3)}\\n\")\n",
    "print(\"Equation: y = 836.737ln(x) + 4716.961.7\\n\")\n",
    "\n",
    "def estimate_average_revenue(hours):\n",
    "    return(round(836.737 * np.log(hours) + 4716.961,2))\n",
    "\n",
    "print(f\"Estimated Average Revenue at 120 hours: ${estimate_average_revenue(120)}\")"
   ]
  }
 ],
 "metadata": {
  "kernelspec": {
   "display_name": "Python 3 (ipykernel)",
   "language": "python",
   "name": "python3"
  },
  "language_info": {
   "codemirror_mode": {
    "name": "ipython",
    "version": 3
   },
   "file_extension": ".py",
   "mimetype": "text/x-python",
   "name": "python",
   "nbconvert_exporter": "python",
   "pygments_lexer": "ipython3",
   "version": "3.9.7"
  }
 },
 "nbformat": 4,
 "nbformat_minor": 4
}
