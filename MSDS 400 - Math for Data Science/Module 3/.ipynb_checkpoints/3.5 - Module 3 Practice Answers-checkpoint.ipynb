{
 "cells": [
  {
   "cell_type": "markdown",
   "metadata": {},
   "source": [
    "# MSDS Module 3 Answers"
   ]
  },
  {
   "cell_type": "markdown",
   "metadata": {},
   "source": [
    "## Practice 1\n",
    "\n",
    "Write and execute code for the following exercises. Compare to the answer sheets. These problems can be solved using the interpreter.\n",
    "\n",
    "**Exercise:** Refer to Lial Section 3.1 page 129. Write the code to reproduce Figure 13.  Compare your code and the resulting plot to the answer sheet."
   ]
  },
  {
   "cell_type": "markdown",
   "metadata": {},
   "source": [
    "**Note:** It is possible to fill the feasible region by specifying the corner points of the polygon.  The solution shown below uses the fill_between() command with the where= statement to specify the plotting region.  Also, the xlim() and ylim() commands give horizontal and vertical boundaries."
   ]
  },
  {
   "cell_type": "code",
   "execution_count": 1,
   "metadata": {},
   "outputs": [
    {
     "data": {
      "text/plain": [
       "<Figure size 640x480 with 1 Axes>"
      ]
     },
     "metadata": {},
     "output_type": "display_data"
    }
   ],
   "source": [
    "import matplotlib.pyplot \n",
    "from matplotlib.pyplot import *\n",
    "import numpy \n",
    "from numpy import *\n",
    "\n",
    "figure()\n",
    "x= arange(0,10.1,0.1)\n",
    "y1= 12.0 - 2.0*x\n",
    "y2= 6.0 - 0.5*x\n",
    "xlim(0,10)\n",
    "ylim(0,10)\n",
    "xlabel('x-axis')\n",
    "ylabel('y-axis')\n",
    "plot(x,y1, c='r', label='y=12-2x')\n",
    "plot(x,y2, c='b', label='y=6-0.5x')\n",
    "legend(['y=12-2*x','y=6-0.5x'],loc='best')\n",
    "fill_between(x,y2,where=(y2<=y1), color= 'b')\n",
    "fill_between(x,y1,where=(y1<=y2), color= 'b')\n",
    "title ('Shaded Area Shows the Feasible Region') \n",
    "show()"
   ]
  },
  {
   "cell_type": "markdown",
   "metadata": {},
   "source": [
    "## Practice 2\n",
    "\n",
    "**Exercise:**  Refer to Lial Section 3.2 Example 3.  Using matrix methods evaluate the objective function at each corner point and determine both the maximum and the minimum.  Compare your code and solutions with the answer sheet. "
   ]
  },
  {
   "cell_type": "code",
   "execution_count": 2,
   "metadata": {},
   "outputs": [
    {
     "name": "stdout",
     "output_type": "stream",
     "text": [
      "Value of Objective Function at Each Corner Point:\n",
      " [[66.]\n",
      " [36.]\n",
      " [24.]\n",
      " [30.]]\n"
     ]
    }
   ],
   "source": [
    "from numpy import matrix, transpose, dot\n",
    "\n",
    "x= [6,6,4,0]\n",
    "y= [6,3,2,3]\n",
    "obj= matrix([1.0,10.0])\n",
    "obj= transpose(obj)\n",
    "corners= matrix([x,y])\n",
    "corners= transpose(corners)\n",
    "result= dot(corners,obj)\n",
    "print ('Value of Objective Function at Each Corner Point:\\n',result)  "
   ]
  },
  {
   "cell_type": "markdown",
   "metadata": {},
   "source": [
    "## Practice 3\n",
    "\n",
    "**Exercise:** Using the matrix methods shown above, verify the calculations in Lial Section 4.3 Example 1. Compare your code to the answer sheet."
   ]
  },
  {
   "cell_type": "code",
   "execution_count": 3,
   "metadata": {},
   "outputs": [
    {
     "name": "stdout",
     "output_type": "stream",
     "text": [
      "\n",
      "Minimization Problem\n",
      "Value of Objective Function at Each Corner Point\n",
      " [[80.]\n",
      " [48.]\n",
      " [72.]]\n",
      "\n",
      "Minimum = 48.0\n",
      "\n",
      "Maximization Problem\n",
      "Value of Objective Function at Each Corner Point\n",
      " [[40. ]\n",
      " [48. ]\n",
      " [28.8]]\n",
      "\n",
      "Maximum =  48.0\n"
     ]
    }
   ],
   "source": [
    "from numpy import matrix, transpose, dot\n",
    "\n",
    "print ('\\nMinimization Problem')\n",
    "x=[0,4,9]\n",
    "y=[5,1,0]\n",
    "obj= matrix([8.0,16.0])\n",
    "obj= transpose(obj)\n",
    "corners= matrix([x,y])\n",
    "corners= transpose(corners)\n",
    "result= dot(corners,obj)\n",
    "print ('Value of Objective Function at Each Corner Point\\n', result)\n",
    "print ('\\nMinimum =',result.min())\n",
    "print ('\\nMaximization Problem')\n",
    "x=[0,2,3.2]\n",
    "y=[4,3,0]\n",
    "obj= matrix([9.0,10.0])\n",
    "obj= transpose(obj)\n",
    "corners= matrix([x,y])\n",
    "corners= transpose(corners)\n",
    "result= dot(corners,obj) \n",
    "print ('Value of Objective Function at Each Corner Point\\n', result)\n",
    "print ('\\nMaximum = ',result.max())"
   ]
  },
  {
   "cell_type": "code",
   "execution_count": null,
   "metadata": {},
   "outputs": [],
   "source": []
  }
 ],
 "metadata": {
  "kernelspec": {
   "display_name": "Python 3",
   "language": "python",
   "name": "python3"
  },
  "language_info": {
   "codemirror_mode": {
    "name": "ipython",
    "version": 3
   },
   "file_extension": ".py",
   "mimetype": "text/x-python",
   "name": "python",
   "nbconvert_exporter": "python",
   "pygments_lexer": "ipython3",
   "version": "3.8.3"
  },
  "varInspector": {
   "cols": {
    "lenName": 16,
    "lenType": 16,
    "lenVar": 40
   },
   "kernels_config": {
    "python": {
     "delete_cmd_postfix": "",
     "delete_cmd_prefix": "del ",
     "library": "var_list.py",
     "varRefreshCmd": "print(var_dic_list())"
    },
    "r": {
     "delete_cmd_postfix": ") ",
     "delete_cmd_prefix": "rm(",
     "library": "var_list.r",
     "varRefreshCmd": "cat(var_dic_list()) "
    }
   },
   "types_to_exclude": [
    "module",
    "function",
    "builtin_function_or_method",
    "instance",
    "_Feature"
   ],
   "window_display": false
  }
 },
 "nbformat": 4,
 "nbformat_minor": 2
}
