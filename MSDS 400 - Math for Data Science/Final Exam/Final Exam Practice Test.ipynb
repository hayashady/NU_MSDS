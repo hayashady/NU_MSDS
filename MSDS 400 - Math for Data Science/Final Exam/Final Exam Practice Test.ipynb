{
 "cells": [
  {
   "cell_type": "code",
   "execution_count": 1,
   "metadata": {},
   "outputs": [],
   "source": [
    "# Imports\n",
    "import numpy as num\n",
    "from numpy import *\n",
    "\n",
    "import sympy as sym\n",
    "from sympy import *\n",
    "\n",
    "from scipy import *\n",
    "from scipy.stats import *\n",
    "from scipy.optimize import *\n",
    "\n",
    "from pulp import *\n",
    "\n",
    "from math import *\n",
    "\n",
    "# Definitions\n",
    "def double_check(answerone,answertwo):\n",
    "    if answerone == answertwo:\n",
    "        print('The math checks out!')\n",
    "    else:\n",
    "        print('You did something wrong!')"
   ]
  },
  {
   "cell_type": "code",
   "execution_count": 22,
   "metadata": {},
   "outputs": [
    {
     "name": "stdout",
     "output_type": "stream",
     "text": [
      "The breakeven point will occur at: 1504.0\n",
      "slope =  -0.506\n",
      "intercept =  87.9\n",
      "The death rate in 2020 will be approximately 27.2 per 100,000 population.\n",
      "correlation coefficient =  -0.941\n"
     ]
    }
   ],
   "source": [
    "# Problem 1\n",
    "# Break-Even Point\n",
    "\n",
    "x,y = sym.symbols('x,y')\n",
    "solution = sym.solve([3*x - y,\n",
    "           3008 + 1*x - y],\n",
    "            [x,y])\n",
    "breakeven_quantity = round(float(solution[x]),2)\n",
    "print('The breakeven point will occur at: {}'.format(breakeven_quantity))\n",
    "\n",
    "#Finding OLS line\n",
    "x = [20, 30, 40, 50, 60, 70, 80, 90, 100, 110]\n",
    "y = [71.2, 80.5, 73.4, 60.3, 52.1, 56.2, 46.5, 36.9, 34.0, 39.1]\n",
    "slope, intercept, r_value, p_value, std_err = stats.linregress(x, y)\n",
    "predict_2020 = 120 * slope + intercept\n",
    "print(\"slope = \", round(slope, 3))\n",
    "print(\"intercept = \", round(intercept, 1))\n",
    "print(\"The death rate in 2020 will be approximately\", round(predict_2020, 1), \"per 100,000 population.\")\n",
    "print(\"correlation coefficient = \", round(r_value, 3))"
   ]
  },
  {
   "cell_type": "code",
   "execution_count": 3,
   "metadata": {},
   "outputs": [
    {
     "name": "stdout",
     "output_type": "stream",
     "text": [
      "numpy: Correlation of x and y is 0.989\n",
      "Eq(y, 0.544*x - 0.093)\n",
      "5.891\n"
     ]
    }
   ],
   "source": [
    "# Problem 2\n",
    "# Correlation, Calculating Least Squares Line, Making Predictions\n",
    "\n",
    "# Correlation\n",
    "x = [1,2,3,4,5,6,7,8,9,10]\n",
    "y = [0.3,1.0,1.3,2.3,3.1,3.3,3.3,4.3,4.8,5.3]\n",
    "print('numpy: Correlation of x and y is',(round(num.corrcoef(x,y)[0,1],3)))\n",
    "\n",
    "# Calculating OLS Line\n",
    "slope, intercept, r_value, p_value, std_err = stats.linregress(x,y)\n",
    "sym.init_printing()\n",
    "x,y=sym.symbols('x,y')\n",
    "f = sym.Eq(y,round(slope,3)*x+round(intercept,3))\n",
    "print(f)\n",
    "\n",
    "# Prediction\n",
    "def makeprediction(x):\n",
    "    prediction = 0.544 * x - 0.093\n",
    "    print(prediction)\n",
    "makeprediction(11)"
   ]
  },
  {
   "cell_type": "code",
   "execution_count": 21,
   "metadata": {},
   "outputs": [
    {
     "name": "stdout",
     "output_type": "stream",
     "text": [
      "\n",
      " [[120.]\n",
      " [ 60.]\n",
      " [ 50.]]\n"
     ]
    }
   ],
   "source": [
    "# Problem 3\n",
    "# Systems of Equations\n",
    "\n",
    "lhs = ([130,140,150],[170,70,70],[4.97,4.45,4.65])\n",
    "lhs = matrix(lhs)\n",
    "rhs = [31500,28100,1095.9]\n",
    "rhs = num.transpose(matrix(rhs))\n",
    "solution = linalg.solve(lhs,rhs)\n",
    "print('\\n',solution)"
   ]
  },
  {
   "cell_type": "code",
   "execution_count": 5,
   "metadata": {},
   "outputs": [
    {
     "name": "stdout",
     "output_type": "stream",
     "text": [
      "193636.36363636365\n",
      "8.545454545454547 12.727272727272727\n",
      "8.5454545\n",
      "12.727273\n"
     ]
    }
   ],
   "source": [
    "# Problem 5\n",
    "# Linear Programming\n",
    "\n",
    "# Minimize Objective Function: C = 10000 * x + 8500 * y\n",
    "# Constraints:\n",
    "    # 20 * x + 18 * y > 400\n",
    "    # 50 * x + 30 * y > 750\n",
    "    # 110 * x + 44 * y > 1500\n",
    "\n",
    "f = [10000,8500]\n",
    "lhs = [[-20,-18],[-50,-30],[-110,-44]]\n",
    "rhs = [-400,-750,-1500]\n",
    "x1_bound = (0,None)\n",
    "x2_bound = (0,None)\n",
    "solution = linprog(c=f, A_ub=lhs, b_ub=rhs, bounds = (x1_bound,x2_bound), method = 'simplex')\n",
    "print(solution.fun)\n",
    "print(solution.x[0],solution.x[1])\n",
    "\n",
    "\n",
    "x1 = LpVariable(\"x1\", 0, None) \n",
    "x2 = LpVariable(\"x2\", 0, None)\n",
    "prob = LpProblem(\"problem\", LpMinimize)\n",
    "prob += 20*x1 + 18*x2 >= 400\n",
    "prob += 50*x1 + 30*x2 >= 750\n",
    "prob += 110*x1 + 44*x2 >= 1500\n",
    "prob += 10000*x1 + 8500*x2\n",
    "status = prob.solve()\n",
    "LpStatus[status]\n",
    "print(value(x1))\n",
    "print(value(x2))"
   ]
  },
  {
   "cell_type": "code",
   "execution_count": 6,
   "metadata": {},
   "outputs": [
    {
     "name": "stdout",
     "output_type": "stream",
     "text": [
      "-11830.0\n",
      "14.0 18.0 4.0\n",
      "14.0\n",
      "18.0\n",
      "4.0\n"
     ]
    }
   ],
   "source": [
    "# Problem 6\n",
    "# Linear Programming\n",
    "\n",
    "# Maximize Objective Function: C = 200*x1 + 445*x2 + 255*x3\n",
    "# Constraints\n",
    "    # x1 + x2 + x3 <= 36\n",
    "    # x3 =< 4\n",
    "    # -x1 + x2 -x3 <=0\n",
    "    \n",
    "f = f = [-200,-445,-255]\n",
    "lhs = [[1,1,1],[0,0,1],[-1,1,-1]]\n",
    "rhs = [[36,4,0]]\n",
    "x1_bound = (0,None)\n",
    "x2_bound = (0,None)\n",
    "x3_bound = (0,None)\n",
    "solution = linprog(c=f, A_ub=lhs, b_ub=rhs, bounds = (x1_bound,x2_bound,x3_bound), method = 'simplex')\n",
    "print(solution.fun)\n",
    "print(solution.x[0],solution.x[1],solution.x[2])\n",
    "\n",
    "x1 = LpVariable(\"x1\", 0, None) \n",
    "x2 = LpVariable(\"x2\", 0, None)\n",
    "x3 = LpVariable(\"x3\", 0, None)\n",
    "prob = LpProblem(\"problem\", LpMaximize)\n",
    "prob += x1 + x2 + x3 <= 36\n",
    "prob += 0*x1 + 0*x2 + x3 <= 4\n",
    "prob += -x1 + x2 -x3 <=0\n",
    "prob += 200*x1 + 445*x2 + 255*x3\n",
    "status = prob.solve()\n",
    "LpStatus[status]\n",
    "print(value(x1))\n",
    "print(value(x2))\n",
    "print(value(x3))"
   ]
  },
  {
   "cell_type": "code",
   "execution_count": 7,
   "metadata": {},
   "outputs": [
    {
     "name": "stdout",
     "output_type": "stream",
     "text": [
      "-936.0\n",
      "1800.0 2880.0 4320.0\n",
      "1800.0\n",
      "2880.0\n",
      "4320.0\n"
     ]
    }
   ],
   "source": [
    "# Problem 7\n",
    "# Linear Programming\n",
    "\n",
    "# Maximize Objective Function: C = 0.12*x1 + 0.16*x2 + 0.06*x3\n",
    "# Constraints\n",
    "    # x1 + x2 + x3 >= 9000\n",
    "    # x1 + 0*x2 + 0*x3 >= 1800\n",
    "    # (3/2)*x2 - x3 >= 0\n",
    "    \n",
    "f = f = [-0.12,-0.16,-0.06]\n",
    "lhs = [[-1,-1,-1],[-1,-0,-0],[0,-1.5,1]]\n",
    "rhs = [[-9000,-1800,0]]\n",
    "x1_bound = (0,None)\n",
    "x2_bound = (0,None)\n",
    "x3_bound = (0,None)\n",
    "solution = linprog(c=f, A_ub=lhs, b_ub=rhs, bounds = (x1_bound,x2_bound,x3_bound), method = 'simplex')\n",
    "print(solution.fun)\n",
    "print(solution.x[0],solution.x[1],solution.x[2])\n",
    "\n",
    "x1 = LpVariable(\"x1\", 0, None) \n",
    "x2 = LpVariable(\"x2\", 0, None)\n",
    "x3 = LpVariable(\"x3\", 0, None)\n",
    "prob = LpProblem(\"problem\", LpMinimize)\n",
    "prob += x1 + x2 + x3 >= 9000\n",
    "prob += x1 + 0*x2 + 0*x3 >= 1800\n",
    "prob += (3/2)*x2 - x3 >= 0\n",
    "prob += 0.12*x1 + 0.16*x2 + 0.06*x3\n",
    "status = prob.solve()\n",
    "LpStatus[status]\n",
    "print(value(x1))\n",
    "print(value(x2))\n",
    "print(value(x3))"
   ]
  },
  {
   "cell_type": "code",
   "execution_count": 8,
   "metadata": {},
   "outputs": [
    {
     "data": {
      "image/png": "[encoded data removed]",
      "text/latex": [
       "$\\displaystyle 0.7347254447022428$"
      ],
      "text/plain": [
       "0.7347254447022428"
      ]
     },
     "execution_count": 8,
     "metadata": {},
     "output_type": "execute_result"
    }
   ],
   "source": [
    "# Problem 8\n",
    "# Probability - Bayes / Theorem\n",
    "\n",
    "def bayes_theorem(a,abar,bgiva,bgivabar):\n",
    "    return ((a)*(bgiva)) / (((a)*(bgiva))+(abar)*(bgivabar))\n",
    "\n",
    "# P(D|P) = 0.95\n",
    "# P(D|NP) = 0.007\n",
    "# P(P) = 0.02\n",
    "# P(NP) = 0.98\n",
    "\n",
    "dgivp = 0.95\n",
    "dgivnp = 0.007\n",
    "p = 0.02\n",
    "np = 0.98\n",
    "bayes_theorem(p,np,dgivp,dgivnp)"
   ]
  },
  {
   "cell_type": "code",
   "execution_count": 9,
   "metadata": {},
   "outputs": [
    {
     "name": "stdout",
     "output_type": "stream",
     "text": [
      "d/dx= 0.452455371087114*1.013**x\n",
      "F'(x)= 0.5148\n"
     ]
    }
   ],
   "source": [
    "# Problem 10\n",
    "# Derivatives\n",
    "\n",
    "def ddx(function):\n",
    "    derivative = sym.diff(function)\n",
    "    print(\"d/dx= {}\".format(derivative))\n",
    "    \n",
    "def fprime(function,x):\n",
    "    x1 = Symbol('x')\n",
    "    derivative = sym.diff(function)\n",
    "    derivativeatx = lambdify(x1, derivative)\n",
    "    print(\"F'(x)=\",round(derivativeatx(x),4))\n",
    "\n",
    "# 𝑝(𝑡) = 35.03(1.013)𝑡\n",
    "# t0 = 2000\n",
    "# 0 < t < 50\n",
    "\n",
    "x = Symbol('x')\n",
    "f = 35.03*1.013**x + 2000\n",
    "ddx(f)\n",
    "fprime(f,10)"
   ]
  },
  {
   "cell_type": "code",
   "execution_count": 10,
   "metadata": {},
   "outputs": [
    {
     "name": "stdout",
     "output_type": "stream",
     "text": [
      "F'(x)= -1.158\n",
      "F'(x)= -0.2316\n",
      "F'(x)= -0.1287\n"
     ]
    }
   ],
   "source": [
    "# Problem 11\n",
    "# Derivatives\n",
    "\n",
    "x = Symbol('x')\n",
    "f = 30.95 - 5.79*sym.ln(x)\n",
    "\n",
    "# a = 21.63, b = 12.31, c = 8.91\n",
    "\n",
    "fprime(f,5)\n",
    "fprime(f,25)\n",
    "fprime(f,45)"
   ]
  },
  {
   "cell_type": "code",
   "execution_count": 11,
   "metadata": {},
   "outputs": [
    {
     "name": "stdout",
     "output_type": "stream",
     "text": [
      "\n",
      "Maximum is 3/8 and occurs at 4\n",
      "Extrema occur at x = FiniteSet(4) and their respective y-values are y = [3/8]\n"
     ]
    }
   ],
   "source": [
    "# Problem 12\n",
    "# Applications of the Derivative\n",
    "\n",
    "x = Symbol('x')\n",
    "f = (3*x)/(x**2+16)\n",
    "fprime = f.diff(x)\n",
    "roots = solveset(fprime,x,Interval(0,oo))\n",
    "ff = lambdify(x,f)\n",
    "maxim = ff(roots.args[0])\n",
    "print(f\"\\nMaximum is {maxim} and occurs at {roots.args[0]}\")\n",
    "\n",
    "def maxmininrange(function,lowerbound,upperbound):\n",
    "    x = Symbol('x')\n",
    "    setup = lambdify(x,function)\n",
    "    derivative = function.diff(x)\n",
    "    roots = solveset(derivative,x,Interval(lowerbound,upperbound))\n",
    "    yvalues = [setup(z) for z in roots]\n",
    "    print('Extrema occur at x = {} and their respective y-values are y = {}'.format(roots,yvalues))\n",
    "    \n",
    "maxmininrange(f,0,oo)"
   ]
  },
  {
   "cell_type": "code",
   "execution_count": 12,
   "metadata": {},
   "outputs": [
    {
     "name": "stdout",
     "output_type": "stream",
     "text": [
      "Extrema occur at x = FiniteSet(412/9) and their respective y-values are y = [244770848/243]\n"
     ]
    }
   ],
   "source": [
    "# Problem 13\n",
    "# Applications of the Derivative\n",
    "\n",
    "x = Symbol('x')\n",
    "f = -21 * x**3 + 1442 * x**2\n",
    "maxmininrange(f,2,oo)"
   ]
  },
  {
   "cell_type": "code",
   "execution_count": 13,
   "metadata": {},
   "outputs": [
    {
     "name": "stdout",
     "output_type": "stream",
     "text": [
      "373.001816733154\n",
      "172.263731647138\n"
     ]
    }
   ],
   "source": [
    "# Problem 15\n",
    "# Integration\n",
    "\n",
    "x = Symbol('x')\n",
    "f = ((72*sym.ln(x+1))/(x+1))\n",
    "dayone = integrate(f,(x,0,24)).evalf()\n",
    "daytwo = integrate(f,(x,24,48)).evalf()\n",
    "print(dayone)\n",
    "print(daytwo)"
   ]
  },
  {
   "cell_type": "code",
   "execution_count": 20,
   "metadata": {},
   "outputs": [
    {
     "name": "stdout",
     "output_type": "stream",
     "text": [
      "-14\n",
      "-8\n",
      "-6\n",
      "-14*x - 6*y + 278\n",
      "-6*x - 8*y + 206\n",
      "FiniteSet((13, 16))\n",
      "Analyzing critical point (13, 16)\n"
     ]
    }
   ],
   "source": [
    "# Problem 17\n",
    "# Multivariable Calculus\n",
    "\n",
    "# R(x,y) = 14 + 278x + 206y - 7x^2 - 4y^2 - 6xy\n",
    "x,y = symbols('x,y')\n",
    "r = 14 + 278*x + 206*y - 7*x**2 - 4*y**2 - 6*x*y\n",
    "rxx = Derivative(r,x,2).doit()\n",
    "print(rxx)\n",
    "ryy = Derivative(r,y,2).doit()\n",
    "print(ryy)\n",
    "rxy = Derivative(Derivative(r,x),y).doit()\n",
    "print(rxy)\n",
    "\n",
    "partialx = Derivative(r,x).doit()\n",
    "partialy = Derivative(r,y).doit()\n",
    "print(partialx)\n",
    "print(partialy)\n",
    "results = nonlinsolve([partialx, partialy], x, y)\n",
    "print(results)\n",
    "\n",
    "for result in list(results):\n",
    "    if result[0].is_real and result[1].is_real:  # Ignore any solutions that are not real numbers\n",
    "        print(f\"Analyzing critical point {result}\")"
   ]
  }
 ],
 "metadata": {
  "kernelspec": {
   "display_name": "Python 3",
   "language": "python",
   "name": "python3"
  },
  "language_info": {
   "codemirror_mode": {
    "name": "ipython",
    "version": 3
   },
   "file_extension": ".py",
   "mimetype": "text/x-python",
   "name": "python",
   "nbconvert_exporter": "python",
   "pygments_lexer": "ipython3",
   "version": "3.8.3"
  }
 },
 "nbformat": 4,
 "nbformat_minor": 4
}
