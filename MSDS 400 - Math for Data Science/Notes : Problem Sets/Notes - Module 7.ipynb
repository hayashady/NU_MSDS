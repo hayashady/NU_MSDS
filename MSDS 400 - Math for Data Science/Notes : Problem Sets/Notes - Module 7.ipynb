{
 "cells": [
  {
   "cell_type": "code",
   "execution_count": 7,
   "metadata": {},
   "outputs": [
    {
     "data": {
      "image/png": "[encoded data removed]",
      "text/plain": [
       "<Figure size 432x288 with 1 Axes>"
      ]
     },
     "metadata": {
      "needs_background": "light"
     },
     "output_type": "display_data"
    }
   ],
   "source": [
    "# 7.1 - Relative and Absolute Extrema\n",
    "\n",
    "import numpy as np\n",
    "from numpy import *\n",
    "import matplotlib.pyplot as plt\n",
    "\n",
    "# This is a function that will assess if a point is a relative max/min\n",
    "def extrema(a, b, c):\n",
    "    x = max(a, b, c)\n",
    "    z = min(a, b, c)\n",
    "    epsilon = 0.0000001\n",
    "    result = False\n",
    "    if abs(b - x) < epsilon:\n",
    "        result = True\n",
    "    if abs(b - z) < epsilon:\n",
    "        result = True\n",
    "    return result\n",
    "\n",
    "# This is the function that will be evaluated\n",
    "def f(x):\n",
    "    y = sin(x)+(x/3)\n",
    "    return y\n",
    "\n",
    "# This is the range over which the function will be evaluated\n",
    "xa = -1.0\n",
    "xb = +11\n",
    "\n",
    "############## YA LOST ME AFTER THIS POINT ################\n",
    "# This adds specifications to the range\n",
    "n = 1000\n",
    "delta = (xb - xa) / n\n",
    "x = np.arange(xa, xb + delta, delta)\n",
    "y = f(x)\n",
    "\n",
    "value = [False]  # This defines the list value which will contain Boolean values.\n",
    "value = value * len(x)  # This expands the list to the length of x.\n",
    "\n",
    "L = len(x)\n",
    "value[0] = True  # This will correspond to one endpoint.\n",
    "value[L - 1] = True  # This corresponds to the other.\n",
    "\n",
    "for x_index in range(L - 2):\n",
    "    first_x = x[x_index]\n",
    "    second_x = x[x_index + 1]\n",
    "    third_x = x[x_index + 2]\n",
    "    a = f(first_x)\n",
    "    b = f(second_x)\n",
    "    c = f(third_x)\n",
    "    is_second_x_extrema = extrema(a, b, c)\n",
    "    value[x_index + 1] = is_second_x_extrema\n",
    "\n",
    "for k in range(L - 2):\n",
    "    value[k + 1] = extrema(f(x[k]), f(x[k + 1]), f(x[k + 2]))\n",
    "\n",
    "max_value = max(y)  # We check the list to find the global maxima.\n",
    "min_value = min(y)  # We check the list to find the global minima.\n",
    "\n",
    "error = 0.0000001  # The error parameter guards against roundoff error.\n",
    "# The code which follows assigns colors to maxima and minima and plots them.\n",
    "\n",
    "plt.figure()\n",
    "for k in range(L):\n",
    "    if value[k] is True:\n",
    "        plt.scatter(x[k], y[k], s=60, c='y')\n",
    "        if abs(max_value - y[k]) < error:\n",
    "            plt.scatter(x[k], y[k], s=60, c='r')\n",
    "        if abs(min_value - y[k]) < error:\n",
    "            plt.scatter(x[k], y[k], s=60, c='b')\n",
    "\n",
    "plt.plot(x, y, c='k')  # This plots the line on the chart.\n",
    "plt.xlabel('x-axis')\n",
    "plt.ylabel('y-axis')\n",
    "plt.title('Plot Showing Absolute and Relative Extrema')\n",
    "plt.show()"
   ]
  },
  {
   "cell_type": "code",
   "execution_count": 32,
   "metadata": {},
   "outputs": [
    {
     "name": "stdout",
     "output_type": "stream",
     "text": [
      "   2\n",
      "1 x + 2 x + 3\n",
      " \n",
      "2 x + 2\n",
      " \n",
      "2\n",
      "   2\n",
      "1 x + 2 x + 3\n",
      "\n",
      "\n",
      "[-1.]\n"
     ]
    }
   ],
   "source": [
    "# 7.2 - Higher Order Derivatives\n",
    "from numpy import *\n",
    "from matplotlib import *\n",
    "\n",
    "# Creating Polynomials\n",
    "    # It is possible to use any order, the elements in the list \n",
    "    # will be the coefficients in the function\n",
    "    \n",
    "f = poly1d([1,2,3])\n",
    "print(f)\n",
    "\n",
    "# Calculating Derivatives and Higher Order Derivatives\n",
    "    # m = the order of differentiation\n",
    "    \n",
    "fp = f.deriv(m=1)\n",
    "fpp = f.deriv(m=2)\n",
    "print(fp)\n",
    "print(fpp)\n",
    "\n",
    "    # The original function can be restored if the missing coefficients are provided\n",
    "fi = fp.integ(m=1,k=[3,2])\n",
    "print(fi)\n",
    "\n",
    "# Calculating Critical Points\n",
    "roots = fp.roots\n",
    "print('\\n')\n",
    "print(roots)\n",
    "\n",
    "##### Need to inlude #####\n",
    "# Graphing Functions and Derivatives"
   ]
  }
 ],
 "metadata": {
  "kernelspec": {
   "display_name": "Python 3",
   "language": "python",
   "name": "python3"
  },
  "language_info": {
   "codemirror_mode": {
    "name": "ipython",
    "version": 3
   },
   "file_extension": ".py",
   "mimetype": "text/x-python",
   "name": "python",
   "nbconvert_exporter": "python",
   "pygments_lexer": "ipython3",
   "version": "3.8.3"
  }
 },
 "nbformat": 4,
 "nbformat_minor": 4
}
