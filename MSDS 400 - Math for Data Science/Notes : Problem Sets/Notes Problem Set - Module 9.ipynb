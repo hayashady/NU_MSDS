{
 "cells": [
  {
   "cell_type": "code",
   "execution_count": 2,
   "metadata": {},
   "outputs": [],
   "source": [
    "import numpy as num\n",
    "from numpy import *\n",
    "\n",
    "import sympy as sym\n",
    "from sympy import *\n",
    "from sympy.calculus import *\n",
    "\n",
    "from scipy import *\n",
    "from scipy.stats import *\n",
    "from scipy.optimize import *\n",
    "\n",
    "\n",
    "from pulp import *\n",
    "\n",
    "from math import *"
   ]
  },
  {
   "cell_type": "code",
   "execution_count": 8,
   "metadata": {},
   "outputs": [
    {
     "name": "stdout",
     "output_type": "stream",
     "text": [
      "6*y/(6*x + 3*y)\n",
      "3*y/(6*x + 3*y) + log(6*x + 3*y)\n"
     ]
    }
   ],
   "source": [
    "# Problem 4\n",
    "# Finding Partial Derivatives\n",
    "\n",
    "# f(x,y) = yln(6x)\n",
    "x,y = symbols('x,y')\n",
    "fxy = y * sym.log(6*x+3*y)\n",
    "\n",
    "partderx = Derivative(fxy,x)\n",
    "partderx = partderx.doit()\n",
    "partdery = Derivative(fxy,y)\n",
    "partdery = partdery.doit()\n",
    "print(partderx)\n",
    "print(partdery)"
   ]
  },
  {
   "cell_type": "code",
   "execution_count": 16,
   "metadata": {},
   "outputs": [
    {
     "name": "stdout",
     "output_type": "stream",
     "text": [
      "Fx: 25*x**4 - 4*x*y**6\n",
      "Fy: -12*x**2*y**5 - 12*y**2\n",
      "Fxx: 4*(25*x**3 - y**6)\n",
      "Fxy: -24*x*y**5\n"
     ]
    }
   ],
   "source": [
    "# Problem 5\n",
    "# Finding First and Second Order Partial-Derivatives\n",
    "\n",
    "# f(x) = 5x^4 + 6x^2y^5 + y^2\n",
    "\n",
    "F = 5*x**5 - (2*x**2)*(y**6) - 4*y**3\n",
    "Fx = Derivative(F,x).doit()\n",
    "print('Fx:',Fx)\n",
    "Fy = Derivative(F,y).doit()\n",
    "print('Fy:',Fy)\n",
    "Fxx = Derivative(F,x,2).doit()\n",
    "print('Fxx:',Fxx)\n",
    "Fxy = Derivative(Derivative(F,x),y).doit()\n",
    "print('Fxy:',Fxy)"
   ]
  },
  {
   "cell_type": "code",
   "execution_count": 40,
   "metadata": {},
   "outputs": [
    {
     "name": "stdout",
     "output_type": "stream",
     "text": [
      "d/dx= 4.0*2.71828182845905**(4*x + 4)*x**6 + 6*2.71828182845905**(4*x + 4)*x**5\n"
     ]
    }
   ],
   "source": [
    "# Problem 8\n",
    "\n",
    "def ddx(function):\n",
    "    derivative = sym.diff(function)\n",
    "    print(\"d/dx= {}\".format(derivative))\n",
    "\n",
    "f = (x**6)*(e**(2*(2+2*x)))\n",
    "ddx(f)"
   ]
  },
  {
   "cell_type": "code",
   "execution_count": 38,
   "metadata": {},
   "outputs": [
    {
     "name": "stdout",
     "output_type": "stream",
     "text": [
      "-8.31*t/(p*v**2)\n"
     ]
    }
   ],
   "source": [
    "# Problem 9\n",
    "\n",
    "# PV = 8.31T\n",
    "# 13V = 8.31(290)\n",
    "# 13.01V = 8.31(290.05)\n",
    "t,p,v = symbols('t,p,v')\n",
    "f = (8.31*t) / (p*v)\n",
    "fv = Derivative(f,v).doit()\n",
    "print(fv)\n"
   ]
  },
  {
   "cell_type": "code",
   "execution_count": 58,
   "metadata": {},
   "outputs": [
    {
     "name": "stdout",
     "output_type": "stream",
     "text": [
      "16*x**3 - 2*y\n",
      "-2*x + 16*y**3\n",
      "x= (0, 0)\n",
      "y= (-sqrt(2)/4, -sqrt(2)/4)\n"
     ]
    }
   ],
   "source": [
    "# Problem 10\n",
    "\n",
    "from sympy import symbols, S, linsolve\n",
    "# f(x,y) = 2x^4 + 2y^4 - 2xy\n",
    "x,y = symbols('x,y')\n",
    "f = 4*x**4 + 4*y**4 - 2*(x * y)\n",
    "partialx = Derivative(f,x).doit()\n",
    "partialy = Derivative(f,y).doit()\n",
    "print(partialx)\n",
    "print(partialy)\n",
    "\n",
    "x,y = sym.symbols('x,y')\n",
    "solution = sym.solve([16*x**3 - 2*y,\n",
    "                      -2*x+16*y**3],\n",
    "                     [x,y])\n",
    "print('x=',solution[0])\n",
    "print('y=',solution[1])\n"
   ]
  },
  {
   "cell_type": "code",
   "execution_count": 70,
   "metadata": {},
   "outputs": [
    {
     "name": "stdout",
     "output_type": "stream",
     "text": [
      "3*x**2 + 6*x\n",
      "3*y**2 - 24*y\n",
      "FiniteSet((-2, 0), (-2, 8), (0, 0), (0, 8))\n",
      "Analyzing critical point (-2, 0)\n",
      "Analyzing critical point (-2, 8)\n",
      "Analyzing critical point (0, 0)\n",
      "Analyzing critical point (0, 8)\n"
     ]
    }
   ],
   "source": [
    "# Problem 11\n",
    "\n",
    "# f(x) = x^3+ y^3 +3x^2 -12y^2 -1\n",
    "x,y = symbols('x,y')\n",
    "f = x**3 + y**3 + 3*x**2 - 12*y**2 - 1\n",
    "partialx = Derivative(f,x).doit()\n",
    "partialy = Derivative(f,y).doit()\n",
    "print(partialx)\n",
    "print(partialy)\n",
    "results = nonlinsolve([partialx, partialy], x, y)\n",
    "print(results)\n",
    "\n",
    "for result in list(results):\n",
    "    if result[0].is_real and result[1].is_real:  # Ignore any solutions that are not real numbers\n",
    "        print(f\"Analyzing critical point {result}\")\n",
    "        D(f, x, y, result[0], result[1]) "
   ]
  },
  {
   "cell_type": "code",
   "execution_count": 73,
   "metadata": {},
   "outputs": [
    {
     "name": "stdout",
     "output_type": "stream",
     "text": [
      "3*x**2 + 36*x\n",
      "3*y**2 - 48*y\n",
      "FiniteSet((-12, 0), (-12, 16), (0, 0), (0, 16))\n",
      "Analyzing critical point (-12, 0)\n",
      "The discriminant of our critical value is 1728\n",
      "This is relative maxima\n",
      "Analyzing critical point (-12, 16)\n",
      "The discriminant of our critical value is -1728\n",
      "This is a saddle point\n",
      "Analyzing critical point (0, 0)\n",
      "The discriminant of our critical value is -1728\n",
      "This is a saddle point\n",
      "Analyzing critical point (0, 16)\n",
      "The discriminant of our critical value is 1728\n",
      "This is a relative minima\n"
     ]
    }
   ],
   "source": [
    "def D(func, x_sym, y_sym, x_crit, y_crit):\n",
    "    # Calculate the discriminant for a given function\n",
    "    f_x_x = func.diff(x_sym, x_sym)\n",
    "    f_y_y = func.diff(y_sym, y_sym)\n",
    "    f_x_y = func.diff(x_sym, y_sym)\n",
    "    \n",
    "    # Create callable functions for each of the derivitives we created\n",
    "    lambd_x_x = lambdify([x_sym, y_sym], f_x_x)\n",
    "    lambd_y_y = lambdify([x_sym, y_sym], f_y_y)\n",
    "    lambd_x_y = lambdify([x_sym, y_sym], f_x_y)\n",
    "\n",
    "    fxx_ab = lambd_x_x(x_crit, y_crit)\n",
    "    fyy_ab = lambd_y_y(x_crit, y_crit) \n",
    "    fxy_ab = lambd_x_y(x_crit, y_crit)\n",
    "\n",
    "    d = fxx_ab * fyy_ab - Abs(fxy_ab)**2\n",
    "\n",
    "    print(f\"The discriminant of our critical value is {d}\")\n",
    "\n",
    "    if d < 0:\n",
    "        print(\"This is a saddle point\")\n",
    "    elif d > 0:\n",
    "        if fxx_ab < 0:\n",
    "            print(\"This is relative maxima\")\n",
    "        else:\n",
    "            print(\"This is a relative minima\")\n",
    "            \n",
    "            \n",
    "# Problem 11\n",
    "\n",
    "# f(x) = x^3+ y^3 +3x^2 -12y^2 -1\n",
    "x,y = symbols('x,y')\n",
    "f = x**3 + y**3 + 18*x**2 - 24*y**2 - 1\n",
    "partialx = Derivative(f,x).doit()\n",
    "partialy = Derivative(f,y).doit()\n",
    "print(partialx)\n",
    "print(partialy)\n",
    "results = nonlinsolve([partialx, partialy], x, y)\n",
    "print(results)\n",
    "\n",
    "for result in list(results):\n",
    "    if result[0].is_real and result[1].is_real:  # Ignore any solutions that are not real numbers\n",
    "        print(f\"Analyzing critical point {result}\")\n",
    "        D(f, x, y, result[0], result[1]) "
   ]
  },
  {
   "cell_type": "code",
   "execution_count": 76,
   "metadata": {},
   "outputs": [
    {
     "name": "stdout",
     "output_type": "stream",
     "text": [
      "-8*x - 9*y + 2\n",
      "-9*x - 10*y + 3\n",
      "FiniteSet((7, -6))\n",
      "Analyzing critical point (7, -6)\n",
      "The discriminant of our critical value is -1\n",
      "This is a saddle point\n"
     ]
    }
   ],
   "source": [
    "# Problem 12\n",
    "\n",
    "x,y = symbols('x,y')\n",
    "f = 2*x + 3*y - 4*x**2 - 5*y**2 - 9*(x*y)\n",
    "partialx = Derivative(f,x).doit()\n",
    "partialy = Derivative(f,y).doit()\n",
    "print(partialx)\n",
    "print(partialy)\n",
    "results = nonlinsolve([partialx, partialy], x, y)\n",
    "print(results)\n",
    "\n",
    "for result in list(results):\n",
    "    if result[0].is_real and result[1].is_real:  # Ignore any solutions that are not real numbers\n",
    "        print(f\"Analyzing critical point {result}\")\n",
    "        D(f, x, y, result[0], result[1]) "
   ]
  },
  {
   "cell_type": "code",
   "execution_count": 89,
   "metadata": {},
   "outputs": [
    {
     "name": "stdout",
     "output_type": "stream",
     "text": [
      "13*h + 6*w\n",
      "4*h + 6*l\n",
      "13*l + 4*w\n",
      "FiniteSet((0, 0, 0))\n"
     ]
    }
   ],
   "source": [
    "# Problem 13\n",
    "# Lagrange Multipliers\n",
    "\n",
    "# V = lwh\n",
    "# V = 6(lw) + 11(lh) + 2(2(wh)) + 2(lh)\n",
    "l,w,h = symbols('l,w,h')\n",
    "f = 6*l*w + 11*l*h + 4*w*h + 2*l*h\n",
    "partiall = Derivative(f,l).doit()\n",
    "partialw = Derivative(f,w).doit()\n",
    "partialh = Derivative(f,h).doit()\n",
    "print(partiall)\n",
    "print(partialw)\n",
    "print(partialh)\n",
    "\n",
    "results = linsolve([partiall, partialw, partialh], l, w, h)\n",
    "print(results)"
   ]
  },
  {
   "cell_type": "code",
   "execution_count": 96,
   "metadata": {},
   "outputs": [
    {
     "name": "stdout",
     "output_type": "stream",
     "text": [
      "6*y - 2100/x**2\n",
      "6*x - 5600/y**2\n",
      "Analyzing critical point (1050**(1/3)/2, 4*1050**(1/3)/3)\n",
      "The discriminant of our critical value is 0\n"
     ]
    }
   ],
   "source": [
    "# Problem 13\n",
    "\n",
    "# V = lwh\n",
    "# V = xyh\n",
    "# h = 400 / xy\n",
    "x,y = symbols('x,y')\n",
    "V = 6*(x*y) + 12*(x*(350/(x*y))) + 6*(y*(350/(x*y))) + 4*(x*(350/(x*y)))\n",
    "partialx = Derivative(V,x).doit()\n",
    "partialy = Derivative(V,y).doit()\n",
    "print(partialx)\n",
    "print(partialy)\n",
    "results = nonlinsolve([partialx, partialy], x,y)\n",
    "for result in list(results):\n",
    "    if result[0].is_real and result[1].is_real:  # Ignore any solutions that are not real numbers\n",
    "        print(f\"Analyzing critical point {result}\")\n",
    "        D(f, x, y, result[0], result[1]) "
   ]
  },
  {
   "cell_type": "code",
   "execution_count": 116,
   "metadata": {},
   "outputs": [
    {
     "name": "stdout",
     "output_type": "stream",
     "text": [
      "y = [75]\n",
      "x = 525\n",
      "Minimal costs will be $ 338600\n"
     ]
    }
   ],
   "source": [
    "# Problem 14\n",
    "\n",
    "x,y = symbols('x,y')\n",
    "# x + y = 600\n",
    "x = 600 - y\n",
    "\n",
    "# C = 1*x**2 + x*y + 4*y**2 + 1100\n",
    "C = 1*(600 - y)**2 + (600 - y)*y + 4*y**2 + 1100\n",
    "dC = Derivative(C, y).doit()\n",
    "\n",
    "y_value = sym.solve(dC,y)\n",
    "print(\"y =\", (y_value))\n",
    "\n",
    "# Calculate p by substituting the value for r\n",
    "x_value = x.subs({y:y_value[0]})\n",
    "print(\"x =\",x_value)\n",
    "\n",
    "# Calculate z by substituting the value for r\n",
    "C_value = C.subs({y:y_value[0]})\n",
    "#print(\"C = \",round(C_value[0]))\n",
    "print(\"Minimal costs will be $\",C_value)"
   ]
  },
  {
   "cell_type": "code",
   "execution_count": 146,
   "metadata": {},
   "outputs": [
    {
     "name": "stdout",
     "output_type": "stream",
     "text": [
      "r = 40\n",
      "p = 1470\n",
      "z =  123870\n"
     ]
    }
   ],
   "source": [
    "# Problem 15\n",
    "\n",
    "# z = 150 p^0.84 r^0.16\n",
    "p,r = symbols('p,r')\n",
    "\n",
    "# 200p + 1400r = 350000\n",
    "# 200 p = 350000 - 1400r\n",
    "# p = 1750 - 7r\n",
    "p = 1750 - 7*r\n",
    "\n",
    "z = 150*(1750-7*r)**0.84*r**0.16\n",
    "dz = Derivative(z,r).doit()\n",
    "\n",
    "r_value = sym.solve(dz, r)\n",
    "print(\"r =\", round(r_value[0]))\n",
    "\n",
    "# Calculate p by substituting the value for r\n",
    "p_value = p.subs({r:r_value[0]})\n",
    "print(\"p =\",round(p_value))\n",
    "\n",
    "# Calculate z by substituting the value for r\n",
    "z_value = z.subs({r:r_value[0]})\n",
    "print(\"z = \",round(z_value))"
   ]
  }
 ],
 "metadata": {
  "kernelspec": {
   "display_name": "Python 3",
   "language": "python",
   "name": "python3"
  },
  "language_info": {
   "codemirror_mode": {
    "name": "ipython",
    "version": 3
   },
   "file_extension": ".py",
   "mimetype": "text/x-python",
   "name": "python",
   "nbconvert_exporter": "python",
   "pygments_lexer": "ipython3",
   "version": "3.8.3"
  }
 },
 "nbformat": 4,
 "nbformat_minor": 4
}
