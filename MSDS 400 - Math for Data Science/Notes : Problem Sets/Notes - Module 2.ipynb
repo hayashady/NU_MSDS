{
 "cells": [
  {
   "cell_type": "code",
   "execution_count": 8,
   "metadata": {},
   "outputs": [
    {
     "data": {
      "image/png": "[encoded data removed]",
      "text/plain": [
       "<Figure size 432x288 with 1 Axes>"
      ]
     },
     "metadata": {
      "needs_background": "light"
     },
     "output_type": "display_data"
    }
   ],
   "source": [
    "# 2.1 - Graphing Linear Systems\n",
    "\n",
    "import matplotlib.pyplot as plt\n",
    "from numpy import linspace\n",
    "\n",
    "x = linspace(0,10,100)\n",
    "y1 = 15 - (3/10)*x\n",
    "y2 = 20 - (11/4)*x\n",
    "plt.xlabel('x-axis')\n",
    "plt.ylabel('y-axis')\n",
    "plt.plot(x,y1)\n",
    "plt.plot(x,y2)\n",
    "plt.legend(['y = 0.3x + 15','y = 20 + (4/11)x'])\n",
    "plt.title('My graph')\n",
    "plt.show()"
   ]
  },
  {
   "cell_type": "code",
   "execution_count": 29,
   "metadata": {},
   "outputs": [
    {
     "name": "stdout",
     "output_type": "stream",
     "text": [
      "Concatenated List Version\n",
      "[1, 2, 3, 4, 5, 6] \n",
      "\n",
      "Array Version\n",
      "[[1 2 3]\n",
      " [4 5 6]] \n",
      "\n",
      "[4 5 6] \n",
      "\n",
      "2\n",
      "[1 4]\n",
      "[1 2 3] \n",
      "\n",
      "[[1 2 3]\n",
      " [4 5 6]] \n",
      "\n",
      "[[ 2  4  6]\n",
      " [ 8 10 12]] \n",
      "\n",
      "[[ 3  6  9]\n",
      " [12 15 18]] \n",
      "\n",
      "[[1 2 3]\n",
      " [4 5 6]] \n",
      "\n",
      "[[ 2  4  6]\n",
      " [ 8 10 12]] \n",
      "\n",
      "[[ 2  4  6]\n",
      " [ 8 10 12]]\n"
     ]
    }
   ],
   "source": [
    "# 2.2 - Matrix Operations\n",
    "\n",
    "from numpy import array, absolute\n",
    "\n",
    "#Creating an array\n",
    "array_name = [1,2,3,4,5]\n",
    "\n",
    "# Concatenating Lists vs. Forming an Array\n",
    "list_one = [1,2,3]\n",
    "list_two = [4,5,6]\n",
    "\n",
    "concatenated_list = list_one + list_two\n",
    "print('Concatenated List Version')\n",
    "print(concatenated_list,'\\n')\n",
    "\n",
    "formed_array = array([list_one,list_two])\n",
    "print('Array Version')\n",
    "print(formed_array,'\\n')\n",
    "\n",
    "# The lists that comprise the new formed array become elements and are indexed\n",
    "print(formed_array[1],'\\n')\n",
    "\n",
    "\n",
    "# Array Slicing is a means of returning part of an array\n",
    "print(formed_array[0,1])\n",
    "print(formed_array[:,0])\n",
    "print(formed_array[0,:],'\\n')\n",
    "\n",
    "# Arrays can be operated on in ways similar to matrices\n",
    "array_one = array([[1,2,3],[4,5,6]])\n",
    "print(array_one,'\\n')\n",
    "array_two = array([[2,4,6],[8,10,12]])\n",
    "print(array_two,'\\n')\n",
    "array_three = array_one + array_two\n",
    "print(array_three,'\\n')\n",
    "array_four = array_two - array_one\n",
    "print(array_four,'\\n')\n",
    "array_five = 2 * array_four\n",
    "print(array_five,'\\n')\n",
    "array_six = absolute(array_five)\n",
    "print(array_six)"
   ]
  },
  {
   "cell_type": "code",
   "execution_count": 42,
   "metadata": {},
   "outputs": [
    {
     "name": "stdout",
     "output_type": "stream",
     "text": [
      "Right hand side\n",
      "\n",
      "[[96]\n",
      " [87]\n",
      " [74]] \n",
      "\n",
      "Left hand side\n",
      "\n",
      "[[1 3 4]\n",
      " [2 1 3]\n",
      " [4 2 1]] \n",
      "\n",
      "Inverse of left hand side\n",
      "\n",
      "[[-0.2  0.2  0.2]\n",
      " [ 0.4 -0.6  0.2]\n",
      " [ 0.   0.4 -0.2]] \n",
      "\n",
      "[[ 1.  0.  0.]\n",
      " [ 0.  1. -0.]\n",
      " [ 0.  0.  1.]] \n",
      "\n",
      "The solution is:\n",
      "\n",
      "[[13.]\n",
      " [ 1.]\n",
      " [20.]] \n",
      "\n",
      "[[13.]\n",
      " [ 1.]\n",
      " [20.]] \n",
      "\n"
     ]
    }
   ],
   "source": [
    "# 2.3 - Matrix Inverses\n",
    "\n",
    "import numpy as np\n",
    "from numpy.linalg import linalg, inv\n",
    "\n",
    "# The following is a method to solve a system of equations\n",
    "right_hand_side = [96,87,74]\n",
    "rhs = np.matrix(right_hand_side)\n",
    "rhs = np.transpose(rhs)\n",
    "print('Right hand side\\n')\n",
    "print(rhs,'\\n')\n",
    "\n",
    "left_hand_side = [[1,3,4],[2,1,3],[4,2,1]]\n",
    "lhs = np.matrix(left_hand_side)\n",
    "print('Left hand side\\n')\n",
    "print(lhs,'\\n')\n",
    "\n",
    "# Numpy has functions for matrix calculations\n",
    "lhs_inverse = inv(lhs)\n",
    "print('Inverse of left hand side\\n')\n",
    "print(lhs_inverse,'\\n')\n",
    "\n",
    "# To verify that this is the inverse, multiply the two to get identity matrix\n",
    "identity_matrix = np.dot(lhs,lhs_inverse)\n",
    "identity_matrix = np.rint(identity_matrix)\n",
    "print(identity_matrix,'\\n')\n",
    "\n",
    "# Solving the system\n",
    "solution = np.dot(lhs_inverse,rhs)\n",
    "solution = np.rint(solution)\n",
    "print('The solution is:\\n')\n",
    "print(solution,'\\n')\n",
    "\n",
    "# A more efficient method is using linalg.solve()\n",
    "solution_two = linalg.solve(lhs,rhs)\n",
    "print(np.rint(solution_two),'\\n')"
   ]
  },
  {
   "cell_type": "code",
   "execution_count": 65,
   "metadata": {},
   "outputs": [
    {
     "name": "stdout",
     "output_type": "stream",
     "text": [
      "x= -110/63\n",
      "y= -34/9\n"
     ]
    },
    {
     "data": {
      "image/png": "[encoded data removed]",
      "text/plain": [
       "<Figure size 432x288 with 1 Axes>"
      ]
     },
     "metadata": {
      "needs_background": "light"
     },
     "output_type": "display_data"
    }
   ],
   "source": [
    "# Problem Set\n",
    "\n",
    "# Question 2\n",
    "# Solving a system of linear equations that has two equations and two variables\n",
    "x = linspace(0,4,10)\n",
    "y1 = -7*x + 16\n",
    "y2 = (7/8)*x + (18/8)\n",
    "plt.plot(x,y1)\n",
    "plt.plot(x,y2)\n",
    "plt.title('Problem 2')\n",
    "\n",
    "import sympy as sym\n",
    "x,y = sym.symbols('x,y')\n",
    "solution = sym.solve([-7*x - y -16,\n",
    "                      7*x - 8*y -18],\n",
    "                     [x,y])\n",
    "print('x=',solution[x])\n",
    "print('y=',solution[y])"
   ]
  },
  {
   "cell_type": "code",
   "execution_count": 69,
   "metadata": {},
   "outputs": [
    {
     "name": "stdout",
     "output_type": "stream",
     "text": [
      "Solution: (1,3)\n"
     ]
    }
   ],
   "source": [
    "# Question 3\n",
    "\n",
    "x,y = sym.symbols('x,y')\n",
    "solution = sym.solve([-x + y -2,\n",
    "                     3*x + 3*y -12],\n",
    "                    [x,y])\n",
    "print(f'Solution: ({solution[x]},{solution[y]})')"
   ]
  },
  {
   "cell_type": "code",
   "execution_count": 74,
   "metadata": {},
   "outputs": [
    {
     "name": "stdout",
     "output_type": "stream",
     "text": [
      "Solution is: (4,5)\n"
     ]
    }
   ],
   "source": [
    "# Question 4\n",
    "x,y=sym.symbols('x,y')\n",
    "solution = sym.solve([2*x + 6*y - 38,\n",
    "                     -5*x + 5*y -5],\n",
    "                    [x,y])\n",
    "print(f'Solution is: ({solution[x]},{solution[y]})')"
   ]
  },
  {
   "cell_type": "code",
   "execution_count": 77,
   "metadata": {},
   "outputs": [
    {
     "name": "stdout",
     "output_type": "stream",
     "text": [
      "Pre-1982 pennies: 674.000000000000\n",
      "ost-1982 pennies: 643.000000000000\n"
     ]
    }
   ],
   "source": [
    "# Question 5\n",
    "# Word problem with weights of pennies\n",
    "\n",
    "x,y = sym.symbols('x,y')\n",
    "solution = sym.solve([x + y - 1317,\n",
    "                     3.1*x + 2.5*y - 3696.9],\n",
    "                    [x,y])\n",
    "print(f'Pre-1982 pennies: {solution[x]}')\n",
    "print(f'ost-1982 pennies: {solution[y]}')"
   ]
  },
  {
   "cell_type": "code",
   "execution_count": 81,
   "metadata": {},
   "outputs": [
    {
     "name": "stdout",
     "output_type": "stream",
     "text": [
      "Number of tacos: 4\n",
      "Number of burritos: 7\n"
     ]
    }
   ],
   "source": [
    "# Question 6\n",
    "# Word problems with food items, calories, total items, total calories\n",
    "\n",
    "x,y = sym.symbols('x,y')\n",
    "solution = sym.solve([x + y - 11,\n",
    "                     210*x + 430*y -3850],\n",
    "                    [x,y])\n",
    "print(f'Number of tacos: {solution[x]}')\n",
    "print(f'Number of burritos: {solution[y]}')"
   ]
  },
  {
   "cell_type": "code",
   "execution_count": 86,
   "metadata": {},
   "outputs": [
    {
     "name": "stdout",
     "output_type": "stream",
     "text": [
      "[[10.]\n",
      " [14.]]\n"
     ]
    }
   ],
   "source": [
    "# Question 7\n",
    "# Word problem with different size fruit boxes and prices\n",
    "# The solution here uses matrices\n",
    "from numpy import matrix, transpose\n",
    "from numpy import linalg\n",
    "\n",
    "sales_quantity = [[15,24],[10,14]]\n",
    "quantity_matrix = matrix(sales_quantity)\n",
    "\n",
    "sales_revenue = [486,296]\n",
    "revenue_matrix = transpose(matrix(sales_revenue))\n",
    "\n",
    "\n",
    "solution = linalg.solve(quantity_matrix,revenue_matrix)\n",
    "print(solution)"
   ]
  },
  {
   "cell_type": "code",
   "execution_count": 89,
   "metadata": {},
   "outputs": [
    {
     "name": "stdout",
     "output_type": "stream",
     "text": [
      "[[2.]\n",
      " [2.]\n",
      " [2.]]\n"
     ]
    }
   ],
   "source": [
    "# Question 8\n",
    "\n",
    "left_hand_side = ([1,-2,1],[0,1,2],[1,1,3])\n",
    "lhs_matrix = matrix(left_hand_side)\n",
    "\n",
    "right_hand_side = [0,6,10]\n",
    "rhs_matrix = transpose(matrix(right_hand_side))\n",
    "\n",
    "solution = linalg.solve(lhs_matrix,rhs_matrix)\n",
    "print(solution)"
   ]
  },
  {
   "cell_type": "code",
   "execution_count": 108,
   "metadata": {},
   "outputs": [
    {
     "name": "stdout",
     "output_type": "stream",
     "text": [
      "[[52.]\n",
      " [26.]\n",
      " [26.]]\n"
     ]
    }
   ],
   "source": [
    "# Question 9\n",
    "\n",
    "left_hand_side = ([1,1,1],[741,1489,1905],[1,-2,0])\n",
    "lhs = matrix(left_hand_side)\n",
    "\n",
    "right_hand_side = [104,126776,0]\n",
    "rhs = transpose(matrix(right_hand_side))\n",
    "\n",
    "solution = linalg.solve(lhs,rhs)\n",
    "print(solution)"
   ]
  },
  {
   "cell_type": "code",
   "execution_count": 138,
   "metadata": {},
   "outputs": [
    {
     "name": "stdout",
     "output_type": "stream",
     "text": [
      "[[0.1  0.   0.   0.  ]\n",
      " [0.   0.09 0.   0.  ]\n",
      " [0.   0.   0.11 0.  ]\n",
      " [0.   0.   0.   0.19]] \n",
      "\n",
      "[[17 11]\n",
      " [22 20]\n",
      " [35 28]\n",
      " [47 46]] \n",
      "\n",
      "[[1700. 1100.]\n",
      " [1980. 1800.]\n",
      " [3850. 3080.]\n",
      " [8930. 8740.]]\n",
      "11550.0\n"
     ]
    }
   ],
   "source": [
    "# Question 11\n",
    "\n",
    "margin_matrix = [[0.1,0,0,0],[0,0.09,0,0],[0,0,0.11,0],[0,0,0,0.19]]\n",
    "margin = matrix(margin_matrix)\n",
    "print(margin,'\\n')\n",
    "\n",
    "retail_matrix = [[17,11],[22,20],[35,28],[47,46]]\n",
    "retail = matrix(retail_matrix)\n",
    "print(retail,'\\n')\n",
    "\n",
    "profit_matrix = margin * retail\n",
    "real_profit = profit_matrix * 1000\n",
    "print(real_profit)\n",
    "\n"
   ]
  },
  {
   "cell_type": "code",
   "execution_count": 142,
   "metadata": {},
   "outputs": [
    {
     "name": "stdout",
     "output_type": "stream",
     "text": [
      "[[0.1  0.   0.   0.  ]\n",
      " [0.   0.09 0.   0.  ]\n",
      " [0.   0.   0.11 0.  ]\n",
      " [0.   0.   0.   0.19]] \n",
      "\n",
      "[[17 11]\n",
      " [22 20]\n",
      " [35 28]\n",
      " [47 46]] \n",
      "\n",
      "[[1700. 1100.]\n",
      " [1980. 1800.]\n",
      " [3850. 3080.]\n",
      " [8930. 8740.]]\n",
      "7199.999999999999\n"
     ]
    }
   ],
   "source": [
    "# Question 11\n",
    "\n",
    "margin_matrix = [[0.1,0,0,0],[0,0.09,0,0],[0,0,0.11,0],[0,0,0,0.19]]\n",
    "margin = matrix(margin_matrix)\n",
    "print(margin,'\\n')\n",
    "\n",
    "retail_matrix = [[17,11],[22,20],[35,28],[47,46]]\n",
    "retail = matrix(retail_matrix)\n",
    "print(retail,'\\n')\n",
    "\n",
    "profit_matrix = margin * retail\n",
    "real_profit = profit_matrix * 1000\n",
    "print(real_profit)\n",
    "\n",
    "carb_profit = real_profit[1,1]*4\n",
    "print(carb_profit)"
   ]
  },
  {
   "cell_type": "code",
   "execution_count": 158,
   "metadata": {},
   "outputs": [
    {
     "name": "stdout",
     "output_type": "stream",
     "text": [
      "[[  7 -33]\n",
      " [ -1   5]] \n",
      "\n",
      "[[-3]\n",
      " [-2]] \n",
      "\n",
      "[[ 2.5 16.5]\n",
      " [ 0.5  3.5]] \n",
      "\n",
      "[[-40.5]\n",
      " [ -8.5]]\n"
     ]
    }
   ],
   "source": [
    "# Question 12\n",
    "\n",
    "left_hand_side = [[7,-33],[-1,5]]\n",
    "right_hand_side = [-3,-2]\n",
    "rhs_matrix = transpose(matrix(right_hand_side))\n",
    "lhs_matrix = matrix(left_hand_side)\n",
    "print(lhs_matrix,'\\n')\n",
    "print(rhs_matrix,'\\n')\n",
    "\n",
    "inv_matrix = np.linalg.inv(lhs_matrix)\n",
    "print(inv_matrix,'\\n')\n",
    "\n",
    "solution = np.dot(inv_matrix,rhs_matrix)\n",
    "print(solution)"
   ]
  },
  {
   "cell_type": "code",
   "execution_count": 176,
   "metadata": {},
   "outputs": [
    {
     "name": "stdout",
     "output_type": "stream",
     "text": [
      "[[43  4 34]\n",
      " [ 0 13 66]\n",
      " [ 5 17 27]] \n",
      "\n",
      "[[294]\n",
      " [263]\n",
      " [186]] \n",
      "\n",
      "[[4.]\n",
      " [5.]\n",
      " [3.]] \n",
      "\n"
     ]
    }
   ],
   "source": [
    "# Question 13\n",
    "\n",
    "nutrition = [[43,4,34],[0,13,66],[5,17,27]]\n",
    "macro_matrix = np.matrix(nutrition)\n",
    "print(macro_matrix,'\\n')\n",
    "\n",
    "gains = [294,263,186]\n",
    "gains_matrix = transpose(np.matrix(gains))\n",
    "print(gains_matrix,'\\n')\n",
    "\n",
    "solution = np.linalg.solve(macro_matrix,gains_matrix)\n",
    "print(solution,'\\n')"
   ]
  },
  {
   "cell_type": "code",
   "execution_count": 179,
   "metadata": {},
   "outputs": [
    {
     "name": "stdout",
     "output_type": "stream",
     "text": [
      "D is 3\n",
      "\n",
      "Dx is 3\n",
      "\n",
      "Dy is 15\n",
      "\n",
      "solution is (1.0,5.0)\n",
      "\n"
     ]
    }
   ],
   "source": [
    "# Question 14\n",
    "a1 = -4\n",
    "a2 = -1\n",
    "b1 = -5\n",
    "b2 = -2\n",
    "c1 = -29\n",
    "c2 = -11\n",
    "\n",
    "D = (a1 * b2) - (a2 * b1)\n",
    "print(f'D is {D}\\n')\n",
    "\n",
    "Dx = (c1 * b2) - (c2 * b1)\n",
    "Dy = (a1 * c2) - (a2 * c1)\n",
    "print(f'Dx is {Dx}\\n')\n",
    "print(f'Dy is {Dy}\\n')\n",
    "\n",
    "x = Dx/D\n",
    "y = Dy/D\n",
    "print(f'solution is ({x},{y})\\n')"
   ]
  },
  {
   "cell_type": "code",
   "execution_count": 223,
   "metadata": {},
   "outputs": [
    {
     "name": "stdout",
     "output_type": "stream",
     "text": [
      "[[ 5 -1  5]\n",
      " [-3  3  6]\n",
      " [ 4 -6  4]] \n",
      "\n",
      "[[ 14]\n",
      " [-24]\n",
      " [ 32]] \n",
      "\n",
      "[[ 14  -1   5]\n",
      " [-24   3   6]\n",
      " [ 32  -6   4]] \n",
      "\n",
      "[[  5  14   5]\n",
      " [ -3 -24   6]\n",
      " [  4  32   4]] \n",
      "\n",
      "[[  5  -1  14]\n",
      " [ -3   3 -24]\n",
      " [  4  -6  32]] \n",
      "\n",
      "[[5 1 5]\n",
      " [3 3 6]\n",
      " [4 6 4]] \n",
      "\n",
      "[[14  1  5]\n",
      " [24  3  6]\n",
      " [32  6  4]] \n",
      "\n",
      "[[ 5 14  5]\n",
      " [ 3 24  6]\n",
      " [ 4 32  4]] \n",
      "\n",
      "[[ 5  1 14]\n",
      " [ 3  3 24]\n",
      " [ 4  6 32]] \n",
      "\n",
      "[[2.8 1.  1. ]\n",
      " [8.  1.  1. ]\n",
      " [8.  1.  1. ]] \n",
      "\n",
      "[[ 1.         14.          1.        ]\n",
      " [ 1.          8.          1.        ]\n",
      " [ 1.          5.33333333  1.        ]] \n",
      "\n",
      "[[1.  1.  2.8]\n",
      " [1.  1.  4. ]\n",
      " [1.  1.  8. ]] \n",
      "\n",
      "-77.99999999999993 \n",
      "\n",
      "8.65973959207622e-15 \n",
      "\n",
      "-311.9999999999998 \n",
      "\n",
      "-155.99999999999986 \n",
      "\n",
      "-1.1102230246251573e-16 \n",
      "\n",
      "4.000000000000001 \n",
      "\n",
      "2.0 \n",
      "\n"
     ]
    }
   ],
   "source": [
    "# Question 15\n",
    "a1 = 5\n",
    "b1 = -1\n",
    "c1 = 5\n",
    "\n",
    "a1 = -3\n",
    "b2 = 3\n",
    "c2 = 6\n",
    "\n",
    "a3 = 4\n",
    "b3 = -6\n",
    "c3 = -4\n",
    "\n",
    "lhs = [[5,-1,5],[-3,3,6],[4,-6,4]]\n",
    "lhs = matrix(lhs)\n",
    "print(lhs,'\\n')\n",
    "\n",
    "rhs = [14,-24,32]\n",
    "rhs = transpose(matrix(rhs))\n",
    "print(rhs,'\\n')\n",
    "\n",
    "dx = [[14,-1,5],[-24,3,6],[32,-6,4]]\n",
    "dx = matrix(dx)\n",
    "print(dx,'\\n')\n",
    "\n",
    "dy = [[5,14,5],[-3,-24,6],[4,32,4]]\n",
    "dy = matrix(dy)\n",
    "print(dy,'\\n')\n",
    "\n",
    "dz = [[5,-1,14],[-3,3,-24],[4,-6,32]]\n",
    "dz = matrix(dz)\n",
    "print(dz,'\\n')\n",
    "\n",
    "abs_lhs = abs(lhs)\n",
    "print(abs_lhs,'\\n')\n",
    "\n",
    "abs_dx = abs(dx)\n",
    "print(abs_dx,'\\n')\n",
    "\n",
    "abs_dy = abs(dy)\n",
    "print(abs_dy,'\\n')\n",
    "\n",
    "abs_dz = abs(dz)\n",
    "print(abs_dz,'\\n')\n",
    "\n",
    "x = abs_dx / abs_lhs\n",
    "print(x,'\\n')\n",
    "\n",
    "y = abs_dy / abs_lhs\n",
    "print(y,'\\n')\n",
    "\n",
    "z = abs_dz / abs_lhs\n",
    "print(z,'\\n')\n",
    "\n",
    "det = linalg.det(abs_lhs)\n",
    "print(det,'\\n')\n",
    "\n",
    "detx = linalg.det(abs_dx)\n",
    "print(detx,'\\n')\n",
    "\n",
    "dety = linalg.det(abs_dy)\n",
    "print(dety,'\\n')\n",
    "\n",
    "detz = linalg.det(abs_dz)\n",
    "print(detz,'\\n')\n",
    "\n",
    "sol_x = detx / det\n",
    "print(sol_x,'\\n')\n",
    "\n",
    "sol_y = dety / det\n",
    "print(sol_y,'\\n')\n",
    "\n",
    "sol_z = detz / det\n",
    "print(sol_z,'\\n')"
   ]
  }
 ],
 "metadata": {
  "kernelspec": {
   "display_name": "Python 3",
   "language": "python",
   "name": "python3"
  },
  "language_info": {
   "codemirror_mode": {
    "name": "ipython",
    "version": 3
   },
   "file_extension": ".py",
   "mimetype": "text/x-python",
   "name": "python",
   "nbconvert_exporter": "python",
   "pygments_lexer": "ipython3",
   "version": "3.8.3"
  }
 },
 "nbformat": 4,
 "nbformat_minor": 4
}
