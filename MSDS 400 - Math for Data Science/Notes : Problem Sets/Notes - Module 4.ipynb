{
 "cells": [
  {
   "cell_type": "code",
   "execution_count": 2,
   "metadata": {},
   "outputs": [
    {
     "name": "stdout",
     "output_type": "stream",
     "text": [
      "Union of B & C: {1, 2, 4, 5, 6, 7, 8, 10}\n",
      "Intersection of B & C: {8, 2, 4}\n",
      "Complement of B: {9, 10, 3, 6}\n",
      "The symmetric difference of B & C: {1, 5, 6, 7, 10}\n",
      "The symmetric difference of B & C: {1, 5, 6, 7, 10}\n",
      "A and Join joined: {1, 2, 3, 4, 5, 6, 7, 8, 9, 10, 12, 13, 14}\n",
      "A without Join: {1, 2, 3, 4, 5, 6, 7, 8, 9, 10}\n",
      "A3, list: [1, 2, 3, 4, 5, 6, 7, 8, 9, 10]\n"
     ]
    }
   ],
   "source": [
    "# 4.1 - Sets and Probability\n",
    "    # Part 1: Set Operators\n",
    "\n",
    "# Sets are created using the syntax set = {1,2,3}\n",
    "\n",
    "A = {1,2,3,4,5,6,7,8,9,10}\n",
    "B = {1,2,4,5,7,8}\n",
    "C = {2,4,6,8,10}\n",
    "\n",
    "# Union\n",
    "unionbc = B | C\n",
    "print('Union of B & C:',unionbc)\n",
    "\n",
    "# Intersection\n",
    "intersectbc = B & C\n",
    "print('Intersection of B & C:',intersectbc)\n",
    "\n",
    "# Complements\n",
    "bbar = A - B\n",
    "print('Complement of B:',bbar)\n",
    "\n",
    "# Symmetric Difference\n",
    "symdiffbc = B ^ C\n",
    "print('The symmetric difference of B & C:',symdiffbc)\n",
    "\n",
    "# Alternative Method of Symmetric Difference\n",
    "altsymdiffbc = (B|C) - (B&C)\n",
    "print('The symmetric difference of B & C:',altsymdiffbc)\n",
    "\n",
    "# Sets can be added to using the union operator\n",
    "join = {12,13,14}\n",
    "A = A | join\n",
    "print('A and Join joined:',A)\n",
    "\n",
    "#Substraction is done by using the complement operation\n",
    "A2 = A - join\n",
    "print('A without Join:',A2)\n",
    "\n",
    "#Conversion to List\n",
    "A3 = list(A2)\n",
    "print('A3, list:',A3)"
   ]
  },
  {
   "cell_type": "code",
   "execution_count": 3,
   "metadata": {},
   "outputs": [
    {
     "name": "stdout",
     "output_type": "stream",
     "text": [
      "The probability of null intersection: 0.0\n",
      "\n",
      "The intersection of A & C: {8, 9, 10, 11, 12, 13}\n",
      "The union of A & C: {1, 2, 3, 4, 5, 6, 7, 8, 9, 10, 11, 12, 13, 14, 15, 16, 17, 18, 19, 20}\n",
      "\n",
      "The probability of Union A C: 0.769\n",
      "The probability of Union A C: 0.769\n",
      "\n",
      "Probability of C excluding Cbar from U: 1.0\n",
      "\n",
      "Probability of A intersection C: 0.231\n",
      "\n",
      "Conditional Probability of A given C: 0.462\n"
     ]
    }
   ],
   "source": [
    "# 4.1 - Sets and Probability\n",
    "    # Part 2 - Probability\n",
    "    \n",
    "# Establish Universe U by using range, remember that 27 is not included\n",
    "U = range(1,27,1)\n",
    "A = U[0:13]\n",
    "B = U[13:]\n",
    "C = U[7:20]\n",
    "\n",
    "A = set(A)\n",
    "B = set(B)\n",
    "C = set(C)\n",
    "U = set(U)\n",
    "\n",
    "# These sets can now be operated on to demonstrate features of probability\n",
    "T = float(len(U))\n",
    "\n",
    "# Null intersection occurs when there is no intersection\n",
    "Null = A & B\n",
    "print('The probability of null intersection:',round((len(Null)/T),3))\n",
    "\n",
    "# Creating Union, Demonstrating the Union Rule\n",
    "intersectac = (A & C)\n",
    "print('\\nThe intersection of A & C:',intersectac)\n",
    "unionac = (A | C)\n",
    "print('The union of A & C:',unionac)\n",
    "\n",
    "Punionac = round(len(A | C) / T,3)\n",
    "print('\\nThe probability of Union A C:',Punionac)\n",
    "\n",
    "Punionac = (len(A)+len(C)-len(intersectac))\n",
    "Punionac = round(Punionac / T,3)\n",
    "print('The probability of Union A C:',Punionac)\n",
    "\n",
    "# Creation of complement and demonstration of P = 0\n",
    "Cbar = (U - C)\n",
    "print('\\nProbability of C excluding Cbar from U:',round(len(C)/len(Cbar),1))\n",
    "\n",
    "# Probability of intersection\n",
    "print('\\nProbability of A intersection C:',round(len(A&C)/T,3))\n",
    "\n",
    "# Conditional Probability\n",
    "# P(A|B) = P(AnB) / P(B)\n",
    "print('\\nConditional Probability of A given C:',round(len(A&C)/len(C),3))\n",
    "\n",
    "# Demonstrate Product Rule\n",
    "# Product Rule: ?"
   ]
  },
  {
   "cell_type": "code",
   "execution_count": 4,
   "metadata": {},
   "outputs": [
    {
     "name": "stdout",
     "output_type": "stream",
     "text": [
      "What number would you like to see factorial?1\n",
      "Factorial of 1 is equal to 1\n"
     ]
    }
   ],
   "source": [
    "# 4.2 - Counting Principles\n",
    "\n",
    "def factorial(n):\n",
    "        if n == 0:\n",
    "            return 1\n",
    "        else:\n",
    "            recurse = factorial(n-1)\n",
    "            result = n * recurse\n",
    "            return result\n",
    "\n",
    "def permutation(n,k):\n",
    "    if n == 0:\n",
    "        return 1\n",
    "    elif k > n:\n",
    "        return -1\n",
    "    else: return (factorial(n)/factorial(n-k))\n",
    "    \n",
    "def combination(n,k):\n",
    "    result = permutation(n,k)\n",
    "    result = result / factorial(k)\n",
    "    result = int(result)\n",
    "    return result\n",
    "\n",
    "# Creating a program that will return the value of a factorial\n",
    "inp1 = input('What number would you like to see factorial?')\n",
    "inp1_int = int(inp1)\n",
    "if inp1_int > 0:\n",
    "    input_int_fact = factorial(inp1_int)\n",
    "    print('Factorial of {} is equal to {}'.format(inp1_int, input_int_fact))\n",
    "else:\n",
    "    ('No calculation')\n"
   ]
  },
  {
   "cell_type": "code",
   "execution_count": 7,
   "metadata": {},
   "outputs": [
    {
     "name": "stdout",
     "output_type": "stream",
     "text": [
      "The number of permutations of 4 elements taken 2 at a time is: 12.0\n",
      "The number of combinations of 4 elements taken 3 at a time is:4\n",
      "The number of trials were:10\n",
      "The number of successes were:5\n",
      "The probability of success was:0.1\n",
      "0.0015\n"
     ]
    }
   ],
   "source": [
    "# 4.2 - Counting Principles\n",
    "\n",
    "# Demonstrating Permutation() and Combination()\n",
    "fourtwo = permutation(4,2)\n",
    "print('The number of permutations of 4 elements taken 2 at a time is: {}'.format(fourtwo))\n",
    "\n",
    "fourthree = combination(4,3)\n",
    "print('The number of combinations of 4 elements taken 3 at a time is:{}'.format(fourthree))\n",
    "\n",
    "# Binomial Probability\n",
    "numtrial = input('The number of trials were:')\n",
    "numtrial_int = int(numtrial)\n",
    "\n",
    "numsuc = input('The number of successes were:')\n",
    "numsuc_int = int(numsuc)\n",
    "\n",
    "probsuc = input('The probability of success was:')\n",
    "probsuc_flt = float(probsuc)\n",
    "\n",
    "    # Binomial Probability equation:\n",
    "    # P(x) = Comb(n,x)*(p^x)*(q^(n-x))\n",
    "    # where:\n",
    "        # n = number of trials\n",
    "        # x = number of successes\n",
    "        # p = probability of success in one trial\n",
    "        # q = 1 - p, the probablity of failure\n",
    "        \n",
    "probsuc = combination(numtrial_int,numsuc_int) * (probsuc_flt ** numsuc_int) * ((1-probsuc_flt)**(numtrial_int - numsuc_int))\n",
    "print(round(probsuc,4))"
   ]
  },
  {
   "cell_type": "code",
   "execution_count": 16,
   "metadata": {},
   "outputs": [
    {
     "name": "stdout",
     "output_type": "stream",
     "text": [
      "The probability of 10 trials with p = 0.1:\n",
      "# of sucesses: 0 probability: 0.3487\n",
      "# of sucesses: 1 probability: 0.3874\n",
      "# of sucesses: 2 probability: 0.1937\n",
      "# of sucesses: 3 probability: 0.0574\n",
      "# of sucesses: 4 probability: 0.0112\n",
      "# of sucesses: 5 probability: 0.0015\n",
      "# of sucesses: 6 probability: 0.0001\n",
      "# of sucesses: 7 probability: 0.0\n",
      "# of sucesses: 8 probability: 0.0\n",
      "# of sucesses: 9 probability: 0.0\n",
      "# of sucesses: 10 probability: 0.0\n"
     ]
    }
   ],
   "source": [
    "# 4.2 - Counting Principles\n",
    "\n",
    "# Creating a Binomial Distribution Function\n",
    "def binomial(n,k,p):\n",
    "    return round(combination(n,k) * (p**k) * ((1-p)**(n-k)),4)\n",
    "\n",
    "\n",
    "print('The probability of {} trials with p = {}:'.format(numtrial_int,probsuc_flt))\n",
    "\n",
    "for i in range (0,numtrial_int + 1):\n",
    "    prob = binomial(numtrial_int,i,probsuc_flt)\n",
    "    print('# of sucesses: {} probability: {}'.format(i,prob))\n"
   ]
  },
  {
   "cell_type": "code",
   "execution_count": null,
   "metadata": {},
   "outputs": [],
   "source": []
  }
 ],
 "metadata": {
  "kernelspec": {
   "display_name": "Python 3",
   "language": "python",
   "name": "python3"
  },
  "language_info": {
   "codemirror_mode": {
    "name": "ipython",
    "version": 3
   },
   "file_extension": ".py",
   "mimetype": "text/x-python",
   "name": "python",
   "nbconvert_exporter": "python",
   "pygments_lexer": "ipython3",
   "version": "3.8.3"
  }
 },
 "nbformat": 4,
 "nbformat_minor": 4
}
