{
 "cells": [
  {
   "cell_type": "code",
   "execution_count": 14,
   "metadata": {},
   "outputs": [
    {
     "name": "stdout",
     "output_type": "stream",
     "text": [
      "-15099.672131147541\n",
      "[  0.         283.60655738 502.95081967]\n"
     ]
    }
   ],
   "source": [
    "# Question 11\n",
    "\n",
    "# Objective Function: 12a + 16b + 21c = P\n",
    "# 3a + 7b + 5c ≤ 4500\n",
    "# 9a + 6b + 13c ≤ 8240\n",
    "# A, B, C ≥ 0\n",
    "\n",
    "from scipy.optimize import linprog \n",
    "\n",
    "i = [-12, -16, -21]\n",
    "lhs = [[3,7,5],[9,6,13]]\n",
    "rhs = [4500,8240]\n",
    "\n",
    "x1_bound = (0,None)\n",
    "x2_bound = (0,None)\n",
    "x3_bound = (0,None)\n",
    "\n",
    "solution = linprog(c=i, A_ub=lhs, b_ub=rhs, bounds = (x1_bound,x2_bound,x3_bound),method='simplex')\n",
    "print(solution.fun)\n",
    "print(solution.x)"
   ]
  },
  {
   "cell_type": "code",
   "execution_count": 20,
   "metadata": {},
   "outputs": [
    {
     "name": "stdout",
     "output_type": "stream",
     "text": [
      "-1270.0\n",
      "[4. 5.]\n"
     ]
    }
   ],
   "source": [
    "# Question 12\n",
    "\n",
    "# Objective Function: 180x1 + 110x2 = i\n",
    "# 4x1 + 2x2 ≤ 26\n",
    "# 3x1 + 3x1 ≤ 27\n",
    "\n",
    "i = [-180,-110]\n",
    "lhs = [[4,2],[3,3]]\n",
    "rhs = [26,27]\n",
    "\n",
    "x1_bound = (0,None)\n",
    "x2_bound = (0,None)\n",
    "solution = linprog(c = i, A_ub = lhs, b_ub = rhs, bounds = (x1_bound,x2_bound), method = 'simplex')\n",
    "print(solution.fun)\n",
    "print(solution.x)"
   ]
  },
  {
   "cell_type": "code",
   "execution_count": 26,
   "metadata": {},
   "outputs": [
    {
     "name": "stdout",
     "output_type": "stream",
     "text": [
      "6160.0\n",
      "[7. 7.]\n"
     ]
    }
   ],
   "source": [
    "# Question 13\n",
    "\n",
    "# Atlanta needs at 14 million gallons of water per day\n",
    "# Water can come from either reservoir of pipeline\n",
    "# Local reservoir has a maximum yield of 18 million gallos\n",
    "# Pipeline has a maximum yield of 13 million gallons\n",
    "# Pipeline is required to supply a minimum of 7 million gallons/day\n",
    "# Reservoir costs $415 per M gallons\n",
    "# Pipeline costs $465 per M galoons\n",
    "\n",
    "# Minimize costs\n",
    "\n",
    "# Objective Function: c = 415r + 465p\n",
    "# r + p ≥ 14\n",
    "# r ≤ 18\n",
    "# p ≥ 7\n",
    "# p ≤ 13\n",
    "\n",
    "i = [415,465]\n",
    "lhs = [[-1,-1],[1,0],[0,-1],[0,1]]\n",
    "rhs = [-14,18,-7,13]\n",
    "r_bound = (0,None)\n",
    "p_bound = (0,None)\n",
    "solution = linprog(c=i, A_ub=lhs, b_ub=rhs, bounds = (r_bound,p_bound), method = 'simplex')\n",
    "print(solution.fun)\n",
    "print(solution.x)"
   ]
  },
  {
   "cell_type": "code",
   "execution_count": 41,
   "metadata": {},
   "outputs": [
    {
     "name": "stdout",
     "output_type": "stream",
     "text": [
      "23.88\n",
      "[42. 39.]\n"
     ]
    }
   ],
   "source": [
    "# Question 14\n",
    "\n",
    "# Diet must contain:\n",
    "# 1720 mg Vitamin C\n",
    "# 3240 mg Calcium\n",
    "# 3460 calories\n",
    "\n",
    "# Dairy-based: 20 mg Vitamin C, 30 mg Calcium, 50 calories, per oz\n",
    "# Dairy-based costs $0.33 / oz\n",
    "\n",
    "# Vegan: 20 mg Vitamin C, 50 mg Calcium, 30 calories, per oz\n",
    "# Vegan costs $0.22 / oz\n",
    "\n",
    "# Minimize costs\n",
    "\n",
    "# Objective Function c = 0.21d + 0.24v\n",
    "# 40d + 20v ≥ 2000\n",
    "# 20d + 50v ≥ 2800\n",
    "# 50d + 30v ≥ 3500\n",
    "\n",
    "i = [0.29,0.30]\n",
    "lhs = [[-20,-30],[-40,-20],[-50,-40]]\n",
    "rhs = [-2010,-2460,-3660]\n",
    "x1_bound = (0,None)\n",
    "x2_bound = (0,None)\n",
    "solution = linprog(c=i, A_ub=lhs, b_ub=rhs, bounds=(x1_bound,x2_bound), method='simplex')\n",
    "print(solution.fun)\n",
    "print(solution.x)"
   ]
  },
  {
   "cell_type": "code",
   "execution_count": 49,
   "metadata": {},
   "outputs": [
    {
     "name": "stdout",
     "output_type": "stream",
     "text": [
      "-982.4\n",
      "[1600. 3840. 2560.]\n"
     ]
    }
   ],
   "source": [
    "# Question 15\n",
    "\n",
    "# Lawn seed mix contains:\n",
    "# bg, r, B\n",
    "# 12, 15, 5 (cost)\n",
    "# bg ≥ 0.20, B ≤ (2/3)(r)\n",
    "# bg + r + B ≥ 6000\n",
    "\n",
    "# 15bg + 16r + 5 = c\n",
    "# bg + r + B ≥ 8000\n",
    "# bg ≥ 20%\n",
    "# r ≤ 48%\n",
    "# B ≤ 32%\n",
    "\n",
    "i = [-0.15,-0.16,-0.05]\n",
    "lhs = [[-1,-1,-1],[-1,0,0],[0,1,0],[0,0,1]]\n",
    "rhs = [-8000,-1600,3840,2560]\n",
    "x1_bound = (0,None)\n",
    "x2_bound = (0,None)\n",
    "x3_bound = (0,None)\n",
    "solution = linprog(c=i, A_ub=lhs, b_ub=rhs, bounds=(x1_bound,x2_bound,x3_bound), method='simplex')\n",
    "print(solution.fun)\n",
    "print(solution.x)"
   ]
  },
  {
   "cell_type": "code",
   "execution_count": 39,
   "metadata": {},
   "outputs": [
    {
     "name": "stdout",
     "output_type": "stream",
     "text": [
      "[[20 30 50]\n",
      " [20 50 30]]\n"
     ]
    }
   ],
   "source": [
    "# Dual calculation\n",
    "\n",
    "import matplotlib.pyplot\n",
    "from matplotlib.pyplot import *\n",
    "import numpy\n",
    "from numpy import *\n",
    "\n",
    "lhs = [[20,20],[30,50],[50,30]]\n",
    "lhs = matrix(lhs)\n",
    "lhs = transpose(lhs)\n",
    "print(lhs)\n"
   ]
  }
 ],
 "metadata": {
  "kernelspec": {
   "display_name": "Python 3",
   "language": "python",
   "name": "python3"
  },
  "language_info": {
   "codemirror_mode": {
    "name": "ipython",
    "version": 3
   },
   "file_extension": ".py",
   "mimetype": "text/x-python",
   "name": "python",
   "nbconvert_exporter": "python",
   "pygments_lexer": "ipython3",
   "version": "3.8.3"
  }
 },
 "nbformat": 4,
 "nbformat_minor": 4
}
