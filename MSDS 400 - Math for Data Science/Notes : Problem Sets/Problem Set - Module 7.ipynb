{
 "cells": [
  {
   "cell_type": "code",
   "execution_count": 1,
   "metadata": {},
   "outputs": [],
   "source": [
    "# Function Definitions\n",
    "from numpy import *\n",
    "from sympy import *\n",
    "from math import *\n",
    "\n",
    "x = Symbol('x')\n",
    "\n",
    "def maxmininrange(function,lowerbound,upperbound):\n",
    "    x = Symbol('x')\n",
    "    setup = lambdify(x,function)\n",
    "    derivative = function.diff(x)\n",
    "    roots = solveset(derivative,x,Interval(lowerbound,upperbound))\n",
    "    yvalues = [setup(z) for z in roots]\n",
    "    print('Extrema occur at x = {} and their respective y-values are y = {}'.format(roots,yvalues))"
   ]
  },
  {
   "cell_type": "code",
   "execution_count": 2,
   "metadata": {},
   "outputs": [],
   "source": [
    "# Other Functions\n",
    "\n",
    "def findderivative(function):\n",
    "    derivative = diff(function)\n",
    "    print(\"\\nd/dx =\"),display(derivative)\n",
    "\n",
    "def fprime(x,function):\n",
    "    x1 = Symbol('x')\n",
    "    derivative = function.diff(x1)\n",
    "    derivativeatx = lambdify(x1, derivative)\n",
    "    print(\"F'(x)=\",round(derivativeatx(x),4))\n",
    "\n",
    "def findderivativearray(function,order):\n",
    "    derivative = function.deriv(m = order)\n",
    "    print('d/dx =')\n",
    "    print(derivative)\n",
    "\n",
    "def fprimearray(x,function,order):\n",
    "    x1 = Symbol('x')\n",
    "    derivative = function.deriv(m = order)\n",
    "    fprime = lambdify(x1,derivagtive)\n",
    "    print(\"F'(x)=\",round(fprime,4))\n",
    "    \n",
    "def rootsarray(function):\n",
    "    fprime = function.deriv(m=1)\n",
    "    roots = fprime.roots\n",
    "    print(roots)"
   ]
  },
  {
   "cell_type": "code",
   "execution_count": 3,
   "metadata": {},
   "outputs": [
    {
     "name": "stdout",
     "output_type": "stream",
     "text": [
      "Extrema occur at x = FiniteSet(-5, -4) and their respective y-values are y = [-183, -184]\n"
     ]
    }
   ],
   "source": [
    "# Problem 2\n",
    "# Finding extrema of a function\n",
    "\n",
    "f = 2*x**3 + 27*x**2 + 120*x - 8\n",
    "maxmininrange(f,-oo,oo)"
   ]
  },
  {
   "cell_type": "code",
   "execution_count": 4,
   "metadata": {},
   "outputs": [
    {
     "name": "stdout",
     "output_type": "stream",
     "text": [
      "(0,4)\n",
      "(6,4)\n"
     ]
    }
   ],
   "source": [
    "# Problem 4\n",
    "# Evaluate function at given end points\n",
    "\n",
    "def f(x):\n",
    "    yvalue = 2*x**2 - 12*x + 4\n",
    "    print('({},{})'.format(x,yvalue))\n",
    "    \n",
    "f(0)\n",
    "f(6)"
   ]
  },
  {
   "cell_type": "code",
   "execution_count": 9,
   "metadata": {},
   "outputs": [
    {
     "name": "stdout",
     "output_type": "stream",
     "text": [
      "\n",
      "d/dx =\n"
     ]
    },
    {
     "data": {
      "text/latex": [
       "$\\displaystyle 18 x^{2} + 72 x - 90$"
      ],
      "text/plain": [
       "18*x**2 + 72*x - 90"
      ]
     },
     "metadata": {},
     "output_type": "display_data"
    },
    {
     "name": "stdout",
     "output_type": "stream",
     "text": [
      "d/dx =\n",
      "    2\n",
      "18 x + 72 x - 90\n",
      "d/dx =\n",
      " \n",
      "36 x + 72\n"
     ]
    }
   ],
   "source": [
    "# Question 7\n",
    "# Finding derivative, roots, extrema, concavity\n",
    "\n",
    "# f(x) = 4x^3 - 24x^2 + 36x\n",
    "f = 6*x**3 + 36*x**2 - 90*x\n",
    "g = poly1d([6,36,-90,0])\n",
    "\n",
    "# Find first derivative\n",
    "findderivative(f)\n",
    "findderivativearray(g,1)\n",
    "\n",
    "# Critical point at x = 3, is this a max or min?\n",
    "# Find second derivative\n",
    "findderivativearray(g,2)"
   ]
  },
  {
   "cell_type": "code",
   "execution_count": 6,
   "metadata": {},
   "outputs": [
    {
     "name": "stdout",
     "output_type": "stream",
     "text": [
      "\n",
      "d/dx =\n"
     ]
    },
    {
     "data": {
      "text/latex": [
       "$\\displaystyle \\frac{4.66666666666667}{\\left(x - 4\\right)^{0.333333333333333}}$"
      ],
      "text/plain": [
       "4.66666666666667*(x - 4)**(-0.333333333333333)"
      ]
     },
     "metadata": {},
     "output_type": "display_data"
    },
    {
     "name": "stdout",
     "output_type": "stream",
     "text": [
      "\n",
      "d/dx =\n"
     ]
    },
    {
     "data": {
      "text/latex": [
       "$\\displaystyle - \\frac{1.55555555555556}{\\left(x - 4\\right)^{1.33333333333333}}$"
      ],
      "text/plain": [
       "-1.55555555555556*(x - 4)**(-1.33333333333333)"
      ]
     },
     "metadata": {},
     "output_type": "display_data"
    }
   ],
   "source": [
    "# Question 9\n",
    "\n",
    "f = 7 * (x -4) ** (2/3)\n",
    "findderivative(f)\n",
    "\n",
    "g = (14/3)*(x-4)**(-1/3)\n",
    "findderivative(g)"
   ]
  },
  {
   "cell_type": "code",
   "execution_count": 7,
   "metadata": {},
   "outputs": [
    {
     "name": "stdout",
     "output_type": "stream",
     "text": [
      "FiniteSet(2)\n",
      "Maximum profit is 25000 and occurs at 2\n"
     ]
    }
   ],
   "source": [
    "# Question 14\n",
    "# SOLVES FOR MAXIMUM AND MINIMUM GIVEN FUNCTION\n",
    "\n",
    "f = (200*x) / (x + 2)**2\n",
    "fprime = f.diff(x)\n",
    "dRoots = solveset(fprime, x, Interval(0, oo)) # Find the roots of our derivitive where x is between 0 and infinity\n",
    "print(dRoots)\n",
    "S_func = lambdify(x, f) # Turn the symbolic equation into a callable function so we can find the S(t) for our found t value\n",
    "max_val = S_func(dRoots.args[0])\n",
    "print(f\"Maximum profit is {max_val * 1000} and occurs at {dRoots.args[0]}\")"
   ]
  },
  {
   "cell_type": "code",
   "execution_count": 8,
   "metadata": {},
   "outputs": [
    {
     "name": "stdout",
     "output_type": "stream",
     "text": [
      "FiniteSet(1)\n",
      "Maximum profit is 174000 and occurs at 1\n"
     ]
    }
   ],
   "source": [
    "# Question 15\n",
    "# SOLVE FOR MAX/MIN GIVEN FUNCTION\n",
    "\n",
    "f = 4*x**2 - 8*x + 178\n",
    "fprime = f.diff(x)\n",
    "roots = solveset(fprime,x,Interval(0,oo))\n",
    "print(roots)\n",
    "ff = lambdify(x,f)\n",
    "maxim = ff(roots.args[0])\n",
    "print(f\"Maximum profit is {maxim * 1000} and occurs at {roots.args[0]}\")"
   ]
  }
 ],
 "metadata": {
  "kernelspec": {
   "display_name": "Python 3",
   "language": "python",
   "name": "python3"
  },
  "language_info": {
   "codemirror_mode": {
    "name": "ipython",
    "version": 3
   },
   "file_extension": ".py",
   "mimetype": "text/x-python",
   "name": "python",
   "nbconvert_exporter": "python",
   "pygments_lexer": "ipython3",
   "version": "3.8.3"
  }
 },
 "nbformat": 4,
 "nbformat_minor": 4
}
