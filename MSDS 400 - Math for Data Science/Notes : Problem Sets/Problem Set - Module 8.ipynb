{
 "cells": [
  {
   "cell_type": "code",
   "execution_count": 2,
   "metadata": {},
   "outputs": [
    {
     "name": "stdout",
     "output_type": "stream",
     "text": [
      "610\n"
     ]
    }
   ],
   "source": [
    "# Problem 4\n",
    "from sympy import *\n",
    "\n",
    "# Given flow of traffice, calculate number of cars passing\n",
    "# f(t) = 300 + 800t - 270t^2\n",
    "# How many cars in the first hour?\n",
    "\n",
    "t = Symbol('t')\n",
    "f = 300 + 800*t - 270*t**2\n",
    "cars = integrate(f,(t,0,1))\n",
    "print(cars)"
   ]
  },
  {
   "cell_type": "code",
   "execution_count": 5,
   "metadata": {},
   "outputs": [
    {
     "name": "stdout",
     "output_type": "stream",
     "text": [
      "2.59200000000000\n"
     ]
    }
   ],
   "source": [
    "# Problem 5\n",
    "\n",
    "# Given memorization rate, calculate the number of words memorized\n",
    "# m(t) = -0.006t^2 + 0.1t\n",
    "# Number of words memorized after 9 minutes, adding 20\n",
    "\n",
    "t = Symbol('t')\n",
    "m = -0.006*t**2 + 0.1*t\n",
    "words = integrate(m,(t,0,9))\n",
    "print(words)"
   ]
  },
  {
   "cell_type": "code",
   "execution_count": 16,
   "metadata": {},
   "outputs": [
    {
     "name": "stdout",
     "output_type": "stream",
     "text": [
      "31.966\n",
      "20.880\n"
     ]
    }
   ],
   "source": [
    "# Problem 6\n",
    "\n",
    "# Given reaction rate of a drug, find total reaction over t\n",
    "# R'(t) = (7 / (t+1)) + (3 / root(t+1))\n",
    "\n",
    "t = Symbol('t')\n",
    "r = 9/(t+1) + 5/((t+1)**(1/2))\n",
    "firstseven = round(integrate(r,(t,1,9)).evalf(),3)\n",
    "nexthours = round(integrate(r,(t,9,20)).evalf(),3)\n",
    "print(firstseven)\n",
    "print(nexthours)"
   ]
  },
  {
   "cell_type": "code",
   "execution_count": 18,
   "metadata": {},
   "outputs": [
    {
     "name": "stdout",
     "output_type": "stream",
     "text": [
      "86.5\n"
     ]
    }
   ],
   "source": [
    "# Problem 12\n",
    "\n",
    "# Rate of customers visiting a website\n",
    "t = Symbol('t')\n",
    "c = 4*exp(-4*t)\n",
    "thirtysec = integrate(c,(t,0,(30/60)))\n",
    "print(round(thirtysec,3)*100)"
   ]
  }
 ],
 "metadata": {
  "kernelspec": {
   "display_name": "Python 3",
   "language": "python",
   "name": "python3"
  },
  "language_info": {
   "codemirror_mode": {
    "name": "ipython",
    "version": 3
   },
   "file_extension": ".py",
   "mimetype": "text/x-python",
   "name": "python",
   "nbconvert_exporter": "python",
   "pygments_lexer": "ipython3",
   "version": "3.8.3"
  }
 },
 "nbformat": 4,
 "nbformat_minor": 4
}
