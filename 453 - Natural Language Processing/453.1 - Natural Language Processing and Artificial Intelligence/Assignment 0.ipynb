{
 "cells": [
  {
   "cell_type": "code",
   "execution_count": 6,
   "id": "97337634",
   "metadata": {},
   "outputs": [],
   "source": [
    "import re\n",
    "\n",
    "# Use the initials assigned to you on Assignment 0 page on Canvas.\n",
    "StudentName = \"DHB\"\n",
    "\n",
    "# Check that StudentName is three characters or less\n",
    "if len(StudentName) > 3:\n",
    "    raise ValueError(\"StudentName should be initials only and 3 characters or less.\")\n",
    "\n",
    "# Replace with your movie title.\n",
    "MovieTitle = \"Taken\"\n",
    "\n",
    "# Uncomment only one line below to select the genre:\n",
    "Genre = \"Action\"\n",
    "#Genre = \"Comedy\"\n",
    "#Genre = \"Horror\"\n",
    "#Genre = \"Sci-Fi\"\n",
    "\n",
    "\n",
    "MovieTitle = re.sub(\"\\s\", \"_\", MovieTitle)\n",
    "MovieTitle = re.sub(\":\", \"_\", MovieTitle)\n"
   ]
  },
  {
   "cell_type": "code",
   "execution_count": 7,
   "id": "973fbc9c",
   "metadata": {},
   "outputs": [],
   "source": [
    "# Make sure the movie reivews are surrouneded by ends with three double-quotes, like this: \n",
    "#  \"\"\"Movie review movie review movie review.\"\"\"\n",
    "\n",
    "# If you get an error:\n",
    "#     SyntaxError: unterminated string literal\n",
    "# , that's because there might be more than three double-quotes at the end of the movie review."
   ]
  },
  {
   "cell_type": "code",
   "execution_count": 8,
   "id": "30fb7657",
   "metadata": {},
   "outputs": [],
   "source": [
    "# Uncomment below for saving to Google Drive from Google Colab\n",
    "\n",
    "#from google.colab import drive\n",
    "\n",
    "#drive.mount('/content/gdrive/My Drive')\n",
    "##drive.mount('/content/gdrive/')"
   ]
  },
  {
   "cell_type": "code",
   "execution_count": 9,
   "id": "86075c41",
   "metadata": {},
   "outputs": [
    {
     "name": "stdout",
     "output_type": "stream",
     "text": [
      "Requirement already satisfied: nltk in /opt/anaconda3/lib/python3.9/site-packages (3.6.5)\n",
      "Requirement already satisfied: click in /opt/anaconda3/lib/python3.9/site-packages (from nltk) (8.0.3)\n",
      "Requirement already satisfied: joblib in /opt/anaconda3/lib/python3.9/site-packages (from nltk) (1.1.0)\n",
      "Requirement already satisfied: regex>=2021.8.3 in /opt/anaconda3/lib/python3.9/site-packages (from nltk) (2021.8.3)\n",
      "Requirement already satisfied: tqdm in /opt/anaconda3/lib/python3.9/site-packages (from nltk) (4.62.3)\n"
     ]
    }
   ],
   "source": [
    "# UTILITIES\n",
    "\n",
    "!pip install nltk"
   ]
  },
  {
   "cell_type": "code",
   "execution_count": 10,
   "id": "fd3d99fb",
   "metadata": {},
   "outputs": [
    {
     "name": "stderr",
     "output_type": "stream",
     "text": [
      "[nltk_data] Downloading package punkt to\n",
      "[nltk_data]     /Users/dylanhayashi/nltk_data...\n",
      "[nltk_data]   Package punkt is already up-to-date!\n"
     ]
    }
   ],
   "source": [
    "import nltk\n",
    "from nltk.tokenize import word_tokenize\n",
    "\n",
    "nltk.download('punkt')\n",
    "\n",
    "def check_string_length(s):\n",
    "    number_words= len(word_tokenize(s))\n",
    "    if number_words < 500:\n",
    "        return \"Length too short! \" + number_words + \" words\"\n",
    "    return \"Length okay. \" + str(number_words) + \" words\"\n",
    "\n",
    "def clean_up_white_space(s):\n",
    "    s = ' '.join(s.split())\n",
    "    return s\n"
   ]
  },
  {
   "cell_type": "code",
   "execution_count": 11,
   "id": "174ca552",
   "metadata": {},
   "outputs": [
    {
     "name": "stdout",
     "output_type": "stream",
     "text": [
      "Length okay. 709 words\n"
     ]
    }
   ],
   "source": [
    "\n",
    "FileName1 = StudentName + \"_Doc1_\" + MovieTitle\n",
    "MovieReview1 = \"\"\"To save you the time in either watching this film or reading my critique of it, here is a brief summary: This film is the worst film I have ever seen. This film is atrocious. This film is so unbelievably awful that all the writers, directors, producers and cast that worked on it should be sent to the Hague and tried for crimes against humanity. In the first chapter of this film, three facts are established: 1. There exists a man. He's pretty tough. 2. He loves his daughter very much. 3. Aforementioned daughter is going to Paris. In order to establish these three facts, which any competent writer or director could do in about ten minutes, the film takes over half an hour, quite possibly the most laborious half an hour in cinematic history. As soon as the daughter reaches Paris, she is of course kidnapped. Literally AS SOON. So there is a sudden escalation in pace that doesn't leave the watcher thinking \"WOW, I didn't see that coming\" or \"Wo, what a skillful escalation in pace\" but simply \"OH Jesus Christ SAVIOUR OF THE WORLD THANK GOD THAT SOMETHING FINALLY HAPPENED!\" This sudden plot \"twist\" of course makes the liberal mother and fat, short stereotypically wealthy stepfather look villainous and the absurdly-paranoid-to-the-degree-that-he-should-seek-professional-help father, who believes his daughter is safer in Los Angeles than Paris, becomes the all-knowing hero. And of course the CIA can detect from a tiny and poor-quality voice sample the hometown of any speaker. So we learn that the daughter has been kidnapped by an Albanian gang who intend to sell her into sex slavery. This is of course the point where the film ceases to be just bad and becomes outright immoral: people trafficking with the intent of prostitution is a real and tangible problem in Europe and indeed all over the world (if you want to see an actually worthy film that deals with the issue I suggest \"Eastern Promises\", \"Dirty Pretty Things\" or \"Spare Parts\"). Making it the subject of a Hollywood action film in which the American hero overcomes all the odds to rescue his daughter is insulting to those women who have actually been in this situation. Particularly appalling is the scant disregard that our \"hero\" shows for the wellbeing of any of the other women. It left me questioning \"is it supposed to be ironic? morally ambiguous? No, it's just a film that chose a very sensitive and inappropriate subject for a formula-produced action movie. As the film continues we are given more and more ridiculous scenes that insult our intelligence. One particularly stupid oversight comes when the hero walks into a brothel posing as a Parisian police officer and the villains show absolutely no suspicion of his being impostor, despite the fact that he talks exclusively in English.And the most ridiculously appalling scene comes at the very end. The girl is safe as she returns from Paris to Los Angeles. Finally, back in America, where everyone's safe! In spite of murdering and torturing so many people and shooting the wife of a leading Parisian police officer, our hero steps off the plane with absolutely no problems. Despite her best friend's death and a terrible ordeal, the girl is happy and shows no signs of trauma whatsoever. And in spite of the thousands of women who suffer in sex slavery every day of their lives, a plight which this film does absolutely nothing to enlighten the world on, we are made to believe this is a happy ending. This film is an insult to my continent and my intelligence, and a mockery of so many people who suffer in silence. But I'm European, so of course, I'm an evil people-trafficker n'all...\"\"\"\n",
    "\n",
    "MovieReview1 = clean_up_white_space(MovieReview1)\n",
    "print(check_string_length(MovieReview1))\n",
    "\n",
    "# Uncomment one line only\n",
    "#ReviewType1 = \"Positive\"\n",
    "ReviewType1 = \"Negative\"\n"
   ]
  },
  {
   "cell_type": "code",
   "execution_count": 12,
   "id": "2e163d32",
   "metadata": {},
   "outputs": [
    {
     "name": "stdout",
     "output_type": "stream",
     "text": [
      "Length okay. 643 words\n"
     ]
    }
   ],
   "source": [
    "\n",
    "FileName2 = StudentName + \"_Doc2_\" + MovieTitle\n",
    "MovieReview2 = \"\"\"I've never written a review before, but this movie angered me so much I felt it's my civic duty to protest. The movie is so full of clichés and unrealistic it's unbelievable it was made by adults. Apparently, we're supposed to derive some kind of psychological gratification from the Freudian symbols of innocence, fatherly love, superhuman strength and righteousness. It actually reminds me of the fantasies I had when I was 8. Here's the plot: a rich, spoiled American virgin girl goes to Paris with a friend and gets abducted by Albanians and sold into sex slavery. Luckily, her daddy happens to be a ex-CIA agent and tracks them down effortlessly, kills and tortures them in a blood-curdling fashion and gets to his daughter just before she gets her throat slit by the evil (yet also stupid looking so you can still feel good about yourself), toad-like sheik. On his way, daddy makes a such a spectacle of killing and torturing people that it makes you wonder whether anyone would take so much trouble if no third party was watching. He doesn't even spare people who are innocent and are unlucky enough to get in his way. Like the wife of a French agent involved in the mess, whom Neeson shoots in the arm, because her husband refuses to give him information on St-Claire. (Meanwhile, their kids have been tucked into bed 5 minutes ago yet they don't seem to wake up. Yep, totally.) All the circumstances are miraculously in Neeson's favor. His daughter is talking to him on the phone when she gets abducted. (otherwise, how would he know? Most victims of sex slavery are poor East European girls who don't have cell-phones, which would be too boring). Also, she's standing in the bathroom from where she can see her friend being abducted first, so daddy has enough time to instruct her how to hide and to shout out the details of their complexion while being dragged away (at which she miraculously succeeds, despite her panic and the struggle she puts up). Also, multiple men can apparently easily get into a hotel room and abduct two girls, but Neeson has to use Spiderman skills to get inside. Well, thank God the bas relief of the wall was adjusted to his height exactly; otherwise, the movie would have ended there. Another point that disturbed me very much is Neeson indifference to the scores of other girls who have been drugged and raped by Albanians. Apparently, the PRINCIPLE of sex slavery doesn't concern him, just the fact that it happens to HIS daughter. In the end, Neeson returns with his daughter to America, with only a broken arm after fighting hundreds of heavily-armed men. Also, he has no trouble leaving France after killing each and every one of them. (France must be a Third World country). Everyone is happy and his ex-wife has to admit he's not such a loser after all. Every Freudian fascination has been satisfied trice over. This movie does absolutely no justice to Eastern Europeans (all Albanians are shown as stupid scum and we're supposed to gloat seeing them being electrocuted), and above all, the REAL victims of modern sex slavery. I could write a lot more about this piece of garbage but I think I've made my point now. Thank you for your attention.\"\"\"\n",
    "\n",
    "MovieReview2 = clean_up_white_space(MovieReview2)\n",
    "print(check_string_length(MovieReview2))\n",
    "\n",
    "# Uncomment one line only\n",
    "#ReviewType2 = \"Positive\"\n",
    "ReviewType2 = \"Negative\"\n"
   ]
  },
  {
   "cell_type": "code",
   "execution_count": 13,
   "id": "a4703bb1",
   "metadata": {},
   "outputs": [
    {
     "name": "stdout",
     "output_type": "stream",
     "text": [
      "Length okay. 855 words\n"
     ]
    }
   ],
   "source": [
    "\n",
    "FileName3 = StudentName + \"_Doc3_\" + MovieTitle\n",
    "MovieReview3 = \"\"\"Poor Liam. He's ex-CIA, which we find out when all his ex-CIA friends show up at his house and start reminiscing about the old days in the CIA. How convenient that his ex-CIA buddies talk him into a bodyguard job where he heroically saves a no-name singer from being knifed to death. This allows him to not only prove his manhood and hand-to-hand combat skills, but also get the singer's business card to give to his daughter slash aspiring pop princess (not that she sings at all in the movie). Did I mention she just turned 17 and received of all things a PONY from her rich step-dad at the extravagant birthday party he threw for her? Oh, and she wants to go to Paris with her best friend. just the two of them, and needs her dad's signature on some immigration form. Liam is skeptical about sending his daughter to Paris. But her mom (Liam's ex-wife) wastes no time telling us about how she hated his CIA job and can't believe Liam would be hesitant to send his daughter to Paris unescorted. I mean, what's the worst that could possibly happen to two teenage girls by themselves in Paris? How dare he be so paranoid? After all, they will be staying at her friend's cousin's house in Paris, and like most parents who send their underage daughters to Paris without adult supervision, she didn't call the cousins to ask about the arrangements. And oh, by the way, instead of just staying in Paris, they're going to be traveling all over Europe to see U2 concerts. With that kind of subplot I can't believe U2 didn't take this opportunity to include one of their songs in this movie. Fast forward after a 12-hour flight and the girls arrive completely fresh in Paris. Immediately a young man approaches them and wants to share a cab to save money. How smart of the girls to accept his money-saving offer. Next thing you know, the girls get to the apartment and immediately tell the dude that they're staying there alone. Didn't their parents tell them not to talk to strangers? About this time I start apologizing to my husband about how incredibly stupid this movie is. I even offered to see if we could get our money back. My only hope was that the girl get kidnapped soon so that we could get to some more exciting parts of the movie. Thank goodness the kidnapping scene was minutes away, and I admit that scene got my heart pumping. If only the rest of the movie were that good. Lest we leave any clichés unturned, we now return to Liam. His dialog indicates he's flat broke, but his daughter's step-dad is rich and can send Liam to Paris on a private jet. Naturally mom and step-dad stay behind, because that's what most parents would do when their daughter is kidnapped overseas into the female slave trade. After his arrival in Paris, Liam hooks up with an old cop friend (don't *you* have any old cop friends in Paris?). Now, what kind of French character should the cop be? How about we name him Jean-Claude and have him walk home carrying a baguette? That way everyone will know he's French! One thing about Liam's character: he takes no prisoners. He has no problem shooting a dude in the back of the head as he runs away. Pretty much everyone who gets in his way gets either a bullet or \"daim bramage\" from a blunt object. Given Liam's single-minded pursuit of his daughter, even innocent people are at risk. For example, it should come as no surprise that Liam would shoot a bad guy's wife in the arm to get information from him. My husband and I laughed heartily, like we might've done at that mall cop movie (which I wish we'd seen instead). Miraculously, Liam remains largely uninjured despite a good 100 people shooting at him. Even Jason Bourne shows some signs of wear from time to time, but he's not rescuing his daughter from a polygamist sheik and therefore lacks Liam's bullet-proof resolve. And lest anyone worry that his daughter was robbed of her innocence, we are told via an auctioneer that she's \"guaranteed pure.\" Whew! I'll spare you the heartwarming tale of the daughter's rescue and homecoming. Too bad her pony didn't show up at the airport. That would've been a perfect ending.\"\"\"\n",
    "\n",
    "MovieReview3 = clean_up_white_space(MovieReview3)\n",
    "print(check_string_length(MovieReview3))\n",
    "\n",
    "# Uncomment one line only\n",
    "#ReviewType3 = \"Positive\"\n",
    "ReviewType3 = \"Negative\"\n"
   ]
  },
  {
   "cell_type": "code",
   "execution_count": 14,
   "id": "8ece57df",
   "metadata": {},
   "outputs": [
    {
     "name": "stdout",
     "output_type": "stream",
     "text": [
      "Length okay. 640 words\n"
     ]
    }
   ],
   "source": [
    "\n",
    "FileName4 = StudentName + \"_Doc4_\" + MovieTitle\n",
    "MovieReview4 = \"\"\"Maybe I expected more because it's an issue I care a lot about or maybe I ought to avoid the action genre altogether, but I'm appalled and shocked to see how many positive reviews are out about this film, not to mention, how many people suggested it to me after learning about my interest in the topic. Overall, this movie is ridiculously superficial and some of the worst acting/writing I've ever seen. SUCH a horrible way to simplify such a serious and complicated issue. The writer had to have read a brief article about human trafficking and thought it was a great dramatic plot for a warm-hearted, happy ending action flick. while it did highlight some basic facts about trafficking and addresses the idea that ANYONE, even wealthy American girls, can be vulnerable, it does such an extreme injustice to actual victims/survivors. Unfortunately, a film that could have been effective in raising awareness about human trafficking, seems to have only reinforced ideology that young girls fall victim to these sort of operations because of their stupidity and all they need is a big strong man to come save them while they're still \"pure\". While her mother was extremely foolish in not taking any action to prepare her for the trip, the plot suggests that the daughter's desire for independence led to her demise, succeeding in blaming the victim, as we tend to do in these situations. This movie could have so much better if they had created a situation where the daughter does everything right and still becomes a victim because of the extent of deception tactics used in this industry. The film is only 93 minutes! It could have easily been extended to develop the plot and create a more plausible context. People who are trafficked are most often lured in by people they trust, not just some cute random at the airport telling them about a party. They should have ran with the plot of visiting museums and experiencing the culture of Europe and had her fall in love with some dreamy French guy or take some awesome job offer that turns out to be a trap. Take out one of the 5 car chase scenes and actually create a story! They could have done SO much to create a strong female character who, despite her age, naivety and horrible situation, can be resilient and inspirational to other young women. Although the film did highlight typical experiences of trafficking victims such as forced drug use and repeated rape, as well as the complications of police corruption, they should have put a name or face to this experience rather than keeping the main character as the one who's somehow spared with her virginity still in tact, days after her original kidnapping. Even if this were the case, she would have been significantly traumatized due to beatings, intimidation, or simply witnessing what's happening to others. Instead of the happy ending with lots of smiles and getting to meet a famous pop star, they should be addressing the after effects of extreme trauma. Even if they want to make it less intense for the PG13 rating, they could at least acknowledge that even someone rescued early on might need some therapy or support and won't be smiling and jumping around when she's reunited with her family, acting like \"phew, glad that's over! Now I can get back to my fun life as a teenager and my future career as a pop singer!\"\"\"\n",
    "\n",
    "MovieReview4 = clean_up_white_space(MovieReview4)\n",
    "print(check_string_length(MovieReview4))\n",
    "\n",
    "# Uncomment one line only\n",
    "#ReviewType4 = \"Positive\"\n",
    "ReviewType4 = \"Negative\"\n"
   ]
  },
  {
   "cell_type": "code",
   "execution_count": 15,
   "id": "66c61730",
   "metadata": {},
   "outputs": [
    {
     "name": "stdout",
     "output_type": "stream",
     "text": [
      "Length okay. 716 words\n"
     ]
    }
   ],
   "source": [
    "\n",
    "FileName5 = StudentName + \"_Doc5_\" + MovieTitle\n",
    "MovieReview5 = \"\"\"Alright, I watched the movie about a few weeks ago and after seeing its ratings on IMDb I was expecting a really good action movie with good acting, a wholesome plot and obviously some amazing action. An 8.0 rating on IMDb means it's equal to movies like 'The Matrix' or 'Die Hard'. Admittedly I'm quite a big action fan, and I do understand the concept of it not being 'realistic'. That's what films are. They're stories. Name me one movie that is completely realistic with no fantasy elements included and I'll give you a million bucks. However when I saw this movie I was bored, embarrassed during some scenes at how atrocious it was, and I found it to be completely overrated. The action was slow, the cinematography was laughable, the acting from everyone except Neeson was very sub-par and I just felt disappointed. This isn't the action movie that would start a second renaissance, of course not. That's not what I was expecting. I didn't think it'd be anything more than a tour-de-force action film that was pure entertainment and silliness wrapped into a satisfying bubble. And honestly all I got was another second-rate action movie that's not even worth the time and effort to watch unless you're an extreme fan of the genre. I mean, during the scene where Neeson runs to the boat to get his daughter... the camera cuts so many times and there's about a million shots of his car in different angles that I completely forgot what was going on. That's just an example of the many things I thought brought the movie down. I really don't see how this film deserves the recognition it has received. I've read the forums and people say \"well it's an action flick... you're not supposed to take it seriously!\" To that I say, why isn't Meet the Spartans in the IMDb 250? \"Well, it's a parody flick, you're not supposed to take it seriously\"? The same principal applies. I'm not trying to say the film isn't enjoyable because that's down to tastes. I'm just saying firstly; film technicalities (i.e. the direction, photography, musical score) were atrocious and anyone with a basic knowledge of film and its production will recognize this. Secondly; the acting of the support cast quite bad. Not Troll 2 bad, but still not something you'd expect to see in a Liam Neeson movie. More like something you'd see in one of Arnold Schwarzenegger's movies from the 80's. Thirdly; the directing was very amateurish. I felt this constant need to find Pierre Morel and hit him every time the scenes went on too long. He'd be extremely bruised right now. I really wonder how the screenplay went for this movie, too. I'm guessing the writers/artists got very proud of their ability to draw and started getting excited during the car scenes, resulting in about 200 frames of a car from as many different angles as possible. And the director just went \"Hey, why not? It's action, right?\". I haven't mention the plausibility of this movie, because anyone here could go to the LOTR forums and start asking how some old dude with a beard has magical powers, or why some big dude explodes when he loses his ring, and we'd all be stumped for argument other than to say the same lines I've seen being used here. But for god's sake this is a generic action movie, not an Oscar-deserving masterpiece. If someone can tell me how I'm wrong, why this movie DOES deserve its rating and explain to me what I missed, I will be very grateful.\"\"\"\n",
    "\n",
    "MovieReview5 = clean_up_white_space(MovieReview5)\n",
    "print(check_string_length(MovieReview5))\n",
    "\n",
    "# Uncomment one line only\n",
    "#ReviewType5 = \"Positive\"\n",
    "ReviewType5 = \"Negative\"\n"
   ]
  },
  {
   "cell_type": "code",
   "execution_count": 16,
   "id": "2bd1efa1",
   "metadata": {},
   "outputs": [
    {
     "name": "stdout",
     "output_type": "stream",
     "text": [
      "Length okay. 953 words\n"
     ]
    }
   ],
   "source": [
    "\n",
    "FileName6 = StudentName + \"_Doc6_\" + MovieTitle\n",
    "MovieReview6 = \"\"\"Remember that time period when Hollywood used to release incredible action/thriller movies in an orderly pace? Neither do I. What used to be a great trend to participate in back in the 90s (Terminator 2, Speed, Face-Off, The Rock, Con Air, Die Hard: With a Vengeance, Jurassic Park, The Mummy, The Matrix, Bad Boys, Under Siege, True Lies, Desperado, Clear and Present Danger, The Hunt for Red October, Patriot Games, Saving Private Ryan, Reservoir Dogs, Pulp Fiction) suddenly became a distant memory, as the 2000s served very few decent Hollywood thrillers. Instead, we have to head overseas to find them. The 2000s consisted of many surprise-surprise excellent European actioneers with Hot Fuzz, Run Lola Run, Transporter, Kiss of the Dragon, Unleashed, and this superb flick. What happens nowadays is that Hollywood is scaling back its amount of action in order to make the extra money. In the first paragraph, 15 of the 19 movies I mentioned from the 90s were rated-R. In other words, they did not care about the PG-13 rating. Now, nearly every action movie must hit the PG-13 barrier. Even the fourth Die Hard was edited to not reach rated-R (which was a Die Hard staple). To add to that movies from overseas (like this one) become edited in the States in order to hit the weaker and friendlier PG-13. But don't let that stop you. Taken is one of the most vicious PG-13 movies you'll ever see, and you'll enjoy every minute of its inability to cut back on the gruesomeness. It sounds barbaric, I know, but if you truly want to see what good action used to look like from the studios of Tinseltown, look no further than this excellent effort. Luc Besson and his talented filming crew provide yet another gripping story to sink your teeth into. This time it's about a retired spy (Liam Neeson) who searches all of Europe in order to find his kidnapped daughter (Maggie Grace). He is given a small time frame, since his daughter is about to be sold into the deep, disgusting, and grueling underworld of sex trafficking. The movie starts off with Bryan, the spy, trying to adjust to a life without espionage, and the rest is just a wild roller coaster ride containing plentiful action scenes and fight after fight. Written by Besson and Robert Mark Kamen, Taken provides a healthy dosage of father-daughter sentimentality as well as provide an insight into a dangerous illegal world not seen often in movies. But it's not just the delightful taste of gunfire, fights, and chases that maintains the entertainment in Taken. Liam Neeson does an excellent job portraying the retired spy. While there are indeed great action stars, very few of them are excellent actors as well. Liam Neeson can proudly say he fits both billings, as his version of a spy is just as cold and calculating as even Daniel Craig's James Bond. Most amazing fact is that he is over 55 years of age. While Jason Bourne remains the most lethal of all the movie character spies in the last decade, Bryan isn't too far behind. While everyone else in the movie delivers decent performances, it's Neeson that runs and carries the show with a mix of emotion, determination, and rage. Pierre Morel directs this movie well, by keeping the action within a decent view, maintaining good pacing, and also allowing for the actors to breathe out a scene when more emotion is involved. The fights themselves are brutal, and not held back in the least bit. You will feel every blow, you will chuckle at every clever maneuver and trick, and sometimes even jump in surprise as to what's happening. The movie is quite cold, as sometimes you'll forget that Bryan is the good guy, especially in moments where innocent people are within the crosshairs. Like Jason Bourne in The Bourne Supremacy, it's at times difficult to root for Neeson when he involves people that well.aren't really involved. But that feeling is quickly vanquished when you see him waste the next sap that is part of the sex trafficking ring. Bottom Line: This movie proves multiple things: Neeson can be an action star at a relatively old age, Europe is suddenly a rising force in the action/thriller genre, and also that you don't need fancy CGI or special effects to craft a good movie that will also lead to good money. Taken quietly emerged as the top action film of 2009, and becomes another great film with Luc Besson's stamp on it (The Fifth Element, Unleashed, Transporter, Nikita, Leon). The movie has the trills and the tension, but also has the heart that is sorely missing in most mainstream action films. You will cheer this movie on as it delivers with a great storyline, great acting, and just an overall satisfying cinematic package. Did I already mention that Liam Neeson is 57 years old?\"\"\"\n",
    "\n",
    "MovieReview6 = clean_up_white_space(MovieReview6)\n",
    "print(check_string_length(MovieReview6))\n",
    "\n",
    "# Uncomment one line only\n",
    "ReviewType6 = \"Positive\"\n",
    "#ReviewType6 = \"Negative\"\n"
   ]
  },
  {
   "cell_type": "code",
   "execution_count": 17,
   "id": "16869649",
   "metadata": {},
   "outputs": [
    {
     "name": "stdout",
     "output_type": "stream",
     "text": [
      "Length okay. 622 words\n"
     ]
    }
   ],
   "source": [
    "\n",
    "FileName7 = StudentName + \"_Doc7_\" + MovieTitle\n",
    "MovieReview7 = \"\"\"Since the entire plot of this film is given away in the masterfully delivered trailer, it's not divulging anything to say that Taken is a modern-day revenge thriller. This presents an interesting experiment, actually. Considering that there aren't really any surprises to be found in Taken, beyond those we were offered in the pre-release snippet, are splendidly realized action sequences enough to carry this film? The answer here is a resounding \"yes\". Taken may be a simple film, but it's not simplistic, and even though the first third of it is spent recapping what we knew going in, the second and third acts here deliver enough thrills and action to make this film riveting, even if we know exactly where it's going. By setting the chase within the ultra-sleazy world of human trafficking, which we secretly hope is just a media creation, but know deep inside that this reprehensible and inhumane phenomenon is a reality, the film is propelled by a sense of urgency that isn't present in most revenge films. Liam Neeson's daughter isn't \"Dead\", she's \"Taken\", so his race against the ticking stopwatch tracking her probable fate provides enough tension to diffuse any disappointment in knowing exactly what's going to happen here. The selling point here is how deftly Liam Neeson hacks his way through a bevy of Albanian baddies. Neeson is untested as an action star, but watching him maneuver his way through the sea of detritus here, we're left hoping that he's got a franchise in him. The film may not have the intricacies of the expertly crafted Bourne films (although, like every action film made since Bourne appeared on the screen, the fight scenes here owe an obviously rich debt to Matt Damon's antics), but the gritty and realistic path Neeson carves to get to his stolen daughter is sufficient to deliver the promise implied by the fantastic trailer. You don't have to be a parent to understand and sympathize with Liam's plight here, and there is a morbid but exhilarating sense of release in seeing the evil empire pay for its transgressions. Sometimes morally complex, ambiguous studies of man's desire for revenge are too preachy to be entertaining. Taken doesn't really care if you like Liam Neeson or wonder if he's doing the right thing by flagrantly taking the law into his own hands; the film just wants you to strap yourself in and enjoy the tidings as he hands out beat-downs all over Paris. This film doesn't want you to think. Like Neeson's character quickly realizes, thinking is often not a luxury present in dire circumstances like these. Action is what counts, and for those who miss the era of the lean, mean 85-minute skull-crack fest, Taken will re-conjure the giddy thrills of watching Dudikoff, Seagal, and Van-Damme chomp through a slew of B-Movie terrorists. Having an Oscar-caliber actor delivering the judo chops only sweetens the pot. Forget about Oscars, plot points, or coherence. This dude's daughter has been kidnapped, and he's a former government agent trained to make bad guys' lives a living hell. Do you want to see him find his daughter and take down the scum who took her? Of course you do. Even reading this review is over-analyzing it.\"\"\"\n",
    "\n",
    "MovieReview7 = clean_up_white_space(MovieReview7)\n",
    "print(check_string_length(MovieReview7))\n",
    "\n",
    "# Uncomment one line only\n",
    "ReviewType7 = \"Positive\"\n",
    "#ReviewType7 = \"Negative\"\n"
   ]
  },
  {
   "cell_type": "code",
   "execution_count": 18,
   "id": "c93826eb",
   "metadata": {},
   "outputs": [
    {
     "name": "stdout",
     "output_type": "stream",
     "text": [
      "Length okay. 666 words\n"
     ]
    }
   ],
   "source": [
    "\n",
    "FileName8 = StudentName + \"_Doc8_\" + MovieTitle\n",
    "MovieReview8 = \"\"\"As you all know I am very rarely wrong(note the sarcasm, lol), well this is one of those cases where I was extremely wrong. When I saw the trailer for the movie Taken, I thought \"Oh, great, another 'surprising and suspenseful' thriller that will I'm sure be the ending we never saw coming\", after all I've seen way too many of those movies. But after so many positive reviews of this movie I decided to go ahead and give it a fair shot. I adore Liam Neeson, but when I heard the role that he took as a deadly agent that you don't wanna mess with, I was in question. I tell you, this movie took me by complete and total surprise, this was a great movie. The story is something that we've seen a million times before, but what made this movie more special then the others are the fantastic performances and script that made this into an exciting and intense thriller. Bryan Mills is a retired CIA operative from their elite Special Activities Division. He describes his former job as being a \"preventer,\" but has recently retired in Los Angeles solely in order to be close to his 17-year-old daughter Kim who now lives with his ex-wife Lenore and her new wealthy husband Stuart. Mills discovers that Kim wants to take a holiday trip to Paris, with her friend Amanda. Despite his initial concerns about the trip, Mills allows her to go, later discovering that their actual plan is to travel around Europe following the band U2. Arriving at the Paris airport, Kim and Amanda meet a Frenchman named Peter, who offers to share a taxi with them to their apartment. When they arrive, Amanda reveals to Peter that she and Kim are unsupervised, because her family is in Spain. Peter invites the two girls to a party; Kim is reluctant, but Amanda, who is sexually attracted to Peter, hastily agrees. In the house, Kim receives a phone call from her father, which she answers in the bathroom. From the bathroom window, she sees men entering the main room and abducting Amanda. Mills is able to gain critical information about the kidnappers in the final moments after Kim is kidnapped by telling her to shout out everything about them that she notices. Briefly, Mills talks to one of the kidnappers, warning him that unless Kim is released, he will pursue him and kill him. Seriously, I'm so glad that I was wrong about this movie, I couldn't tell you how many times I had my hands over my face or cheered or screamed during this movie, it was so exciting. Liam Neeson, I couldn't believe how scary he was, I've seen him in tough guy roles before but just the delivery of the line \"I will find you and kill you\" was delivered so perfectly, just calm, cold and confident. I just loved how the bad guy said \"good luck\", yeah, he wasn't as confident when Liam popped up in to get his revenge. Another thing about this movie that I absolutely loved is that it wasn't one of those \"big twist\" endings that are so stupid and predictable, this was just one of those \"in the wrong place at the wrong time\" situations. I highly recommend Taken if you get the chance to see it, it's exciting and a great movie. Liam is one dude you do not want to mess with.\"\"\"\n",
    "\n",
    "MovieReview8 = clean_up_white_space(MovieReview8)\n",
    "print(check_string_length(MovieReview8))\n",
    "\n",
    "# Uncomment one line only\n",
    "ReviewType8 = \"Positive\"\n",
    "#ReviewType8 = \"Negative\"\n"
   ]
  },
  {
   "cell_type": "code",
   "execution_count": 19,
   "id": "8d036559",
   "metadata": {},
   "outputs": [
    {
     "name": "stdout",
     "output_type": "stream",
     "text": [
      "Length okay. 1103 words\n"
     ]
    }
   ],
   "source": [
    "\n",
    "FileName9 = StudentName + \"_Doc9_\" + MovieTitle\n",
    "MovieReview9 = \"\"\"The latest rescue-slash-revenge film to hit our screens, Taken, tries to walk the fine line between the two classic character archetypes - family man and ultimate badass. When the estranged seventeen year old daughter of a former spy (Liam Neeson) is kidnapped while holidaying overseas, her father must call upon his unique skill set in order to rescue her before she becomes lost to the Eastern-European slave trade. Liam Neeson kicking ass, and the potential of Maggie Grace showing a little - Taken had my full and undivided attention. As with the majority of films that limp onto the silver screen these days, everything seems to be a remake of a remake, or at the very least, a rehash of a tired idea. What separates a stock-standard retelling, from something that will stay with you longer than a half-masticated corn kernel stuck in your teeth, will almost certainly come down to the execution. Take a well-worn concept, freshen it up a little, but ultimately pull it off with dedication and skill. While Taken is by no means perfect, it is a prime example of a well-executed retelling. Let's face it, the concept of a tough guys daughter getting kidnapped, and having said tough guy track her down, defeating a million bad guys in the process is hardly anything new. It's basically the plot of Commando, or a dozen similar films for that matter. What Taken does well is to play on this tried-and-true formula; it adds depth to the usual one-dimensional characters, and mixes it up in a giant cocktail shaker with stylistic elements that made films like The Bourne Identity such crowd-pleasers. Our first encounter with former spy, Bryan, is less than exhilarating. You'd almost expect to see some incredible action set piece from his pre-retirement days, something that adequately introduces our brooding badass' action hero qualifications - negative. What we get is the image of Bryan asleep on the lounge at home, a well-thumbed pamphlet for a karaoke machine on his lap. He's after the perfect gift for his seventeen year old daughter's birthday, and from what we can establish, he's terribly indecisive when it comes to purchasing a present. It's kind of amusing that after less than two minutes of screen time, we've probably already experienced more character development and insight into our main character than we would experience in just about any other similar film. Amusing, and sad. On the surface, Bryan doesn't appear to be that different from you or I, he seemingly has the same faults, shortcomings and fears that we all do. It's not until his daughter is kidnapped that we see an entirely different side of Bryan emerge. Following on from the initial character development, the film moves quickly onto the search for Kim, Bryan's daughter. With Bryan as our guide, we navigate the murky underworld of Paris, our former spy using every trick in his book to find clues of his daughter's whereabouts. Without giving away too much of the story from this point, our lead character pulls out all the stops. The action set pieces are amazing and uncompromising in their realism and brutality, and while there are occasional moments where the suspension of disbelief is crucial, for the most part it's very much on the money. Guns boom with a satisfying reverb, bullets hit their mark with dead-eye accuracy, and Bryan proves that nothing is sacred when it comes to getting his daughter back alive. Now I'll be honest and say that Taken wasn't entirely perfect - I did have a few criticisms of the film. My first, and major beef was with our lead characters detective work when it came to tracking-down his daughter - somehow it all seemed far too 'path of least resistance', the quickest way to get from Point A to Point B. Everything felt too easy, even for a man who used to be a highly-trained intelligence operative. Rather than simply moving from one clue to the next, knowing exactly where to go and how to play his cards, I would have preferred to have had another fifteen or so minutes to pad out this side of the story - maybe even throwing in a few failed lines on inquiry just to make it a little more believable. Secondly, there were a few holes in the logic, like a particular scene where Bryan pretends to be a French police officer/intelligence operative, using a completely stock standard American accent - who the hell would buy that? Apparently the bad guys did. And last but not least, I did pick-up on a few editing issues. Take the scene where Bryan collects a fiber of the bad guys clothing - absolutely pointless. Nothing ever came of this scene. However that was minor compared to the most innocuous editing issue - key parts of the kidnap scene that seem to have gone missing. What do I mean? Well, I don't remember the daughter Kim yelling out any information on her attackers, as instructed by her father... yet Bryan seemed to have it all on tape when he passed it off to his CIA buddy for analysis. Overall, Taken was a pleasant surprise. It's often difficult to tell what to expect from these types of co-funded foreign films, but this one was certainly worth the money. While some of the initial 'detective work' by Neeson's character seemed very effortless and simply the easiest way to get from Point A to Point B, i.e. straight into the action, the action scenes themselves certainly made up for any shortcomings. No punches were pulled. The world our characters inhabited was dark, unforgiving, and morally ambiguous, and as a result, the methods used to get his daughter back were as equally dark, unforgiving, and morally ambiguous. Forget about Bond and Bourne - these guys ain't got anything on Liam Neeson.\"\"\"\n",
    "\n",
    "MovieReview9 = clean_up_white_space(MovieReview9)\n",
    "print(check_string_length(MovieReview9))\n",
    "\n",
    "# Uncomment one line only\n",
    "ReviewType9 = \"Positive\"\n",
    "#ReviewType9 = \"Negative\"\n"
   ]
  },
  {
   "cell_type": "code",
   "execution_count": 20,
   "id": "903bfefb",
   "metadata": {},
   "outputs": [
    {
     "name": "stdout",
     "output_type": "stream",
     "text": [
      "Length okay. 722 words\n"
     ]
    }
   ],
   "source": [
    "\n",
    "FileName10 = StudentName + \"_Doc10_\" + MovieTitle\n",
    "MovieReview10 = \"\"\"It's been just too long waiting for an action thriller that will knock my socks off, given too many bland attempts that left me wondering if the genre is too tired for my liking, with nothing left to wow. Then comes the Europa Corp team of Pierre Morel directing a Luc Besson and Robert Mark Kamen story, and Taken now ranks as one of my contemporary favourites for its simple story executed with so much style and gripping pace, that you'll be left breathless by the time the end credits roll. The trailer had one of the best monologues that I'm sure would have put many in the theatres, and probably be representative of the film. You have a stoic looking Liam Neeson as a father who tells the stranger at the end of the other line the conditions that the game will be played in, with perhaps bluff calling against bluff, only for the challenge and gauntlet to be thrown. From then on it's a non-stop adrenaline rush because this daddy happens to be a top ex-covert operative for the US government, so the bad guys essentially have chosen a wrong opponent to play the game with. The story worked well in dipping into some familiar fears, where daddy's little girl Kim (Maggie Grace) tells her dad lie after lie so as to cover up her tracks in wanting to do things she knows he would disapprove of. Such as, in this case, going on a tour of museums in Paris supposedly, rather than letting him know of her intent of being a groupie with friend Amanda (Katie Cassidy) chasing U2 all over Europe. Some may dismiss this fear as paranoia, but I think that heightened sense of awareness is a by product occupational hazard, and it's always better to err on the side of caution. For any parent who are confident of their kid's conduct, there is absolutely no guarantees that their kids' friends would toe the same line, and there are often those who are magnets for trouble due to their thrill seeking. As is in this case where you see supposed safeguards to lower risks being systematically peeled away. With his reluctant consent and lessons being thrown in on very simple survival tips (that would even serve well in real life), things still go wrong according to Murphy, and Liam Neeson's Brian has to race against time in finding a needle in the perennial haystack, relying on contacts and skills built over the years in carrying out government missions of prevention to save masses, now to put them into something more personal when addressing what could be any parent's worst nightmare, in having their daughters sold to the sex slave trade. Action-wise, Morel employs a whole host of fights ranging from gun battles, knives and the good ol' fisticuffs, with Neeson employing some cool Shinsai Goshin Kai moves for close quarter combats to take out opponents. You might balk at how it's probably another one man army movie with the hero ripping through the streets of Paris, but this borders close to the Jason Bourne movies in the way opponents are dispatched without remorse and without much bullshit. It's clinical as it is deadly, just the way I suppose anyone would do so without the very hokey monologues that plague lesser films prior to each kill. The action direction was top notch without resorting to cheap MTV styled quick cuts, and had kept the shaky-cam syndrome at bay, which in turn provided for a pure adrenaline rush for action junkies out there. Taken well deserved its accolades and I say again, one of the best action thrillers to have hit the screen of late after a number of bland peers. I highly recommend this and it's a shoo-in as a contender for top films of this year. See if you can spot that SQ plane flying overhead in a scene too!\"\"\"\n",
    "\n",
    "MovieReview10 = clean_up_white_space(MovieReview10)\n",
    "print(check_string_length(MovieReview10))\n",
    "\n",
    "# Uncomment one line only\n",
    "ReviewType10 = \"Positive\"\n",
    "#ReviewType10 = \"Negative\"\n"
   ]
  },
  {
   "cell_type": "code",
   "execution_count": 21,
   "id": "9a771190",
   "metadata": {},
   "outputs": [],
   "source": [
    "\n",
    "import unicodedata\n",
    "\n",
    "# Function to flatten text to ASCII\n",
    "def flatten_to_ascii(text):\n",
    "    # Convert smart quotes and curly apostrophes\n",
    "    text = text.replace('“', '\"').replace('”', '\"').replace('‘', \"'\").replace('’', \"'\")\n",
    "    \n",
    "    # Flatten to closest ASCII character\n",
    "    return unicodedata.normalize('NFKD', text).encode('ascii', 'ignore').decode('utf-8')\n"
   ]
  },
  {
   "cell_type": "code",
   "execution_count": 22,
   "id": "05e2cbf0",
   "metadata": {},
   "outputs": [],
   "source": [
    "import pandas as pd\n",
    "\n",
    "# Flatten the movie reviews to ASCII\n",
    "movie_reviews = [MovieReview1, MovieReview2, MovieReview3, MovieReview4, MovieReview5, MovieReview6, MovieReview7, MovieReview8, MovieReview9, MovieReview10]\n",
    "flattened_reviews = [flatten_to_ascii(review) for review in movie_reviews]\n",
    "\n",
    "# Verify that there are 5 positive and 5 negative reviews\n",
    "positive_count = sum(1 for rt in [ReviewType1, ReviewType2, ReviewType3, ReviewType4, ReviewType5, ReviewType6, ReviewType7, ReviewType8, ReviewType9, ReviewType10] if rt == \"Positive\")\n",
    "negative_count = sum(1 for rt in [ReviewType1, ReviewType2, ReviewType3, ReviewType4, ReviewType5, ReviewType6, ReviewType7, ReviewType8, ReviewType9, ReviewType10] if rt == \"Negative\")\n",
    "if positive_count != 5 or negative_count != 5:\n",
    "    raise ValueError(f\"Number of Positive Reviews: {positive_count}, Number of Negative Reviews: {negative_count}. Ensure you have 5 of each.\")\n",
    "\n",
    "# Construct the metadata dataframe\n",
    "meta_data = {\n",
    "    'FileName': [FileName1, FileName2, FileName3, FileName4, FileName5, FileName6, FileName7, FileName8, FileName9, FileName10],\n",
    "    'StudentName': [StudentName] * 10,\n",
    "    'Genre': [Genre] * 10,\n",
    "    'ReviewType': [ReviewType1, ReviewType2, ReviewType3, ReviewType4, ReviewType5, ReviewType6, ReviewType7, ReviewType8, ReviewType9, ReviewType10],\n",
    "    'MovieTitle': [MovieTitle] * 10\n",
    "}\n",
    "meta_df = pd.DataFrame(meta_data)\n",
    "\n",
    "# Construct the movie review dataframe\n",
    "review_data = {\n",
    "    'FileName': [FileName1, FileName2, FileName3, FileName4, FileName5, FileName6, FileName7, FileName8, FileName9, FileName10],\n",
    "    'MovieReview': flattened_reviews\n",
    "}\n",
    "review_df = pd.DataFrame(review_data)\n",
    "\n",
    "# Save the dataframes as ASCII CSV files\n",
    "meta_df.to_csv(StudentName+'_MetaData.csv', index=False, encoding='ascii')\n",
    "review_df.to_csv(StudentName+'_MovieReview.csv', index=False, encoding='ascii')\n"
   ]
  },
  {
   "cell_type": "code",
   "execution_count": 23,
   "id": "4d11cb67",
   "metadata": {},
   "outputs": [],
   "source": [
    "# Please save and turn in your Python notebook along with the two CSV files (MetaData and MovieRreview).\n",
    "# Thank you!"
   ]
  },
  {
   "cell_type": "code",
   "execution_count": 24,
   "id": "6534262d",
   "metadata": {},
   "outputs": [],
   "source": [
    "# Please submit two CSV files, NOT Microsoft Excel *.XLSX spreadsheets and not Apple Numbers spreadsheets \n",
    "# and not a ZIP file. "
   ]
  }
 ],
 "metadata": {
  "kernelspec": {
   "display_name": "Python 3.9.6 64-bit",
   "language": "python",
   "name": "python3"
  },
  "language_info": {
   "codemirror_mode": {
    "name": "ipython",
    "version": 3
   },
   "file_extension": ".py",
   "mimetype": "text/x-python",
   "name": "python",
   "nbconvert_exporter": "python",
   "pygments_lexer": "ipython3",
   "version": "3.9.6"
  },
  "vscode": {
   "interpreter": {
    "hash": "31f2aee4e71d21fbe5cf8b01ff0e069b9275f58929596ceb00d14d90e3e16cd6"
   }
  }
 },
 "nbformat": 4,
 "nbformat_minor": 5
}
