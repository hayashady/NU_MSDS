{
 "cells": [
  {
   "cell_type": "code",
   "execution_count": 1,
   "metadata": {},
   "outputs": [
    {
     "name": "stdout",
     "output_type": "stream",
     "text": [
      "85\n"
     ]
    }
   ],
   "source": [
    "# Question 2\n",
    "# Finding a Limit\n",
    "from sympy import Symbol, limit\n",
    "\n",
    "# lim x -> 8\n",
    "# x^3 - 5x^2 - 27x + 24\n",
    "# ---------------------\n",
    "#         x - 8\n",
    "\n",
    "x = Symbol('x')\n",
    "f_x = (x**3 - 5*x**2 - 27*x + 24) / (x-8)\n",
    "li = limit(f_x, x, 8)\n",
    "print(li)"
   ]
  },
  {
   "cell_type": "code",
   "execution_count": 2,
   "metadata": {},
   "outputs": [
    {
     "name": "stdout",
     "output_type": "stream",
     "text": [
      "-23.25\n",
      "-23.125\n",
      "-23.05\n",
      "-23.025\n",
      "F'(x)= -23\n"
     ]
    }
   ],
   "source": [
    "# Question 5\n",
    "# Average rate of change between time periods, using derivative\n",
    "from sympy import Symbol, diff, lambdify\n",
    "from IPython.display import display\n",
    "\n",
    "# Ball thrown in the air at 27 ft/s\n",
    "# Height = 27t - 25t^2\n",
    "# Find average velocity\n",
    "\n",
    "def heightfunction(t):\n",
    "    height = 27*t - 25*t**2\n",
    "    return height\n",
    "\n",
    "def avgratechange(x1, y1, x2, y2):\n",
    "    rate = (y2 - y1) / (x2 - x1)\n",
    "    return rate\n",
    "\n",
    "def findavgrate(t1, t2):\n",
    "    h1 = heightfunction(t1)\n",
    "    h2 = heightfunction(t2)\n",
    "    answer = avgratechange(t1,h1,t2,h2)\n",
    "    return round(answer,4)\n",
    "\n",
    "def findderivative(function):\n",
    "    derivative = diff(function)\n",
    "    print(\"\\nd/dx=\"),display(derivative)\n",
    "\n",
    "def findfprime(x,function):\n",
    "    x1 = Symbol('x')\n",
    "    derivative = function.diff(x1)\n",
    "    derivativeatx = lambdify(x1, derivative)\n",
    "    print(\"F'(x)=\",round(derivativeatx(x),4))\n",
    "\n",
    "ansone = findavgrate(1,1.01)\n",
    "anstwo = findavgrate(1,1.005)\n",
    "ansthree = findavgrate(1,1.002)\n",
    "ansfour = findavgrate(1,1.001)\n",
    "print(ansone)\n",
    "print(anstwo)\n",
    "print(ansthree)\n",
    "print(ansfour)\n",
    "findfprime(1,27*x - 25*x**2)"
   ]
  },
  {
   "cell_type": "code",
   "execution_count": 3,
   "metadata": {},
   "outputs": [
    {
     "name": "stdout",
     "output_type": "stream",
     "text": [
      "\n",
      "d/dx=\n"
     ]
    },
    {
     "data": {
      "text/latex": [
       "$\\displaystyle - \\frac{100000 x}{\\left(4 x^{2} + 2\\right)^{2}}$"
      ],
      "text/plain": [
       "-100000*x/(4*x**2 + 2)**2"
      ]
     },
     "metadata": {},
     "output_type": "display_data"
    },
    {
     "name": "stdout",
     "output_type": "stream",
     "text": [
      "F'(x)= -91.8274\n"
     ]
    }
   ],
   "source": [
    "# Question 6\n",
    "# Antiobiotic applied to culture of bacteria\n",
    "\n",
    "# Given function that models remaining bacteria over time\n",
    "f = 12500 / (4*x**2 + 2)\n",
    "findderivative(f)\n",
    "findfprime(4,f)"
   ]
  },
  {
   "cell_type": "code",
   "execution_count": 99,
   "metadata": {},
   "outputs": [
    {
     "name": "stdout",
     "output_type": "stream",
     "text": [
      "\n",
      "d/dx=\n"
     ]
    },
    {
     "data": {
      "text/latex": [
       "$\\displaystyle \\frac{1100}{\\log{\\left(9 x \\right)}} - \\frac{1100}{\\log{\\left(9 x \\right)}^{2}}$"
      ],
      "text/plain": [
       "1100/log(9*x) - 1100/log(9*x)**2"
      ]
     },
     "metadata": {},
     "output_type": "display_data"
    },
    {
     "name": "stdout",
     "output_type": "stream",
     "text": [
      "F'(x)= 137.9356\n"
     ]
    }
   ],
   "source": [
    "# Question 7\n",
    "# Marginal Revenue\n",
    "from sympy import log, ln\n",
    "\n",
    "# Given Revenue equation, determine equation for Marginal Revenue\n",
    "f = (1100 * x) / ln(8*x + x)\n",
    "findderivative(f)\n",
    "findfprime(100,f)"
   ]
  },
  {
   "cell_type": "code",
   "execution_count": 112,
   "metadata": {},
   "outputs": [
    {
     "name": "stdout",
     "output_type": "stream",
     "text": [
      "\n",
      "d/dx=\n"
     ]
    },
    {
     "data": {
      "text/latex": [
       "$\\displaystyle 5 - 6 x$"
      ],
      "text/plain": [
       "5 - 6*x"
      ]
     },
     "metadata": {},
     "output_type": "display_data"
    },
    {
     "name": "stdout",
     "output_type": "stream",
     "text": [
      "Answer one:\n",
      "61\n",
      "\n",
      "Answer two:\n",
      "38.6017\n",
      "\n",
      "Answer three:\n",
      "F'(x)= 5\n",
      "\n",
      "Answer four:\n",
      "F'(x)= -17.14\n",
      "\n",
      "F''(x)=\n",
      "\n",
      "d/dx=\n"
     ]
    },
    {
     "data": {
      "text/latex": [
       "$\\displaystyle -6$"
      ],
      "text/plain": [
       "-6"
      ]
     },
     "metadata": {},
     "output_type": "display_data"
    },
    {
     "name": "stdout",
     "output_type": "stream",
     "text": [
      "Answer five:\n",
      "F'(x)= -6\n",
      "\n",
      "Answer six:\n",
      "F'(x)= -6\n"
     ]
    }
   ],
   "source": [
    "# Question 9\n",
    "# Height equation\n",
    "\n",
    "# Bird flying, height is modeled by h(t)= -3t^2 + 5t + 61\n",
    "f = (-3*x**2) + (5*x) + 61\n",
    "\n",
    "def height(t):\n",
    "    h = (-3*t**2) + (5*t) + 61\n",
    "    return h\n",
    "\n",
    "findderivative(f)\n",
    "print('Answer one:')\n",
    "print(round(height(0),4))\n",
    "print('\\nAnswer two:')\n",
    "print(round(height(3.69),4))\n",
    "print('\\nAnswer three:')\n",
    "findfprime(0,f)\n",
    "print('\\nAnswer four:')\n",
    "findfprime(3.69,f)\n",
    "print(\"\\nF''(x)=\")\n",
    "fprime = 5 - 6*x\n",
    "findderivative(fprime)\n",
    "print('Derivative:')\n",
    "findfprime(0,fprime)\n",
    "print('\\nVelocity:')\n",
    "findfprime(3.69,fprime)"
   ]
  },
  {
   "cell_type": "code",
   "execution_count": 134,
   "metadata": {},
   "outputs": [
    {
     "name": "stdout",
     "output_type": "stream",
     "text": [
      "F'(x)= 10224.064\n"
     ]
    }
   ],
   "source": [
    "# Question 9\n",
    "from numpy import e\n",
    "\n",
    "f = e ** ((0.42 * x) + 8)\n",
    "findfprime(5,f)"
   ]
  },
  {
   "cell_type": "code",
   "execution_count": 139,
   "metadata": {},
   "outputs": [
    {
     "name": "stdout",
     "output_type": "stream",
     "text": [
      "F'(x)= 1295061\n",
      "F'(x)= 742649721\n"
     ]
    }
   ],
   "source": [
    "# Question 11\n",
    "# Marginal Cost\n",
    "\n",
    "# c(x) = (x^2+3x+7)^3\n",
    "f = (x**2 + 3*x + 7) ** 3\n",
    "findfprime(10,f)\n",
    "findfprime(40,f)"
   ]
  },
  {
   "cell_type": "code",
   "execution_count": 147,
   "metadata": {},
   "outputs": [
    {
     "name": "stdout",
     "output_type": "stream",
     "text": [
      "25\n",
      "-0.7777777777777778\n"
     ]
    }
   ],
   "source": [
    "# Question 12\n",
    "\n",
    "def productrule(f,fp,g,gp):\n",
    "    ddx = (f*gp)+(fp*g)\n",
    "    print(ddx)\n",
    "\n",
    "def quotientrule(f,fp,g,gp):\n",
    "    ddx = ((g*fp) - (f*gp)) / (g**2)\n",
    "    print(ddx)\n",
    "\n",
    "productrule(4,3,3,4)\n",
    "quotientrule(4,3,3,4)"
   ]
  },
  {
   "cell_type": "code",
   "execution_count": 164,
   "metadata": {},
   "outputs": [
    {
     "name": "stdout",
     "output_type": "stream",
     "text": [
      "\n",
      "d/dx=\n"
     ]
    },
    {
     "data": {
      "text/latex": [
       "$\\displaystyle \\frac{5}{x}$"
      ],
      "text/plain": [
       "5/x"
      ]
     },
     "metadata": {},
     "output_type": "display_data"
    },
    {
     "name": "stdout",
     "output_type": "stream",
     "text": [
      "F'(x)= 0.082\n"
     ]
    }
   ],
   "source": [
    "# Question 14\n",
    "# COVID Cases, ln function\n",
    "\n",
    "# f(x) = ln(9x^3)\n",
    "f = log(12*x**5)\n",
    "findderivative(f)\n",
    "findfprime(61,f)"
   ]
  },
  {
   "cell_type": "code",
   "execution_count": 169,
   "metadata": {},
   "outputs": [
    {
     "name": "stdout",
     "output_type": "stream",
     "text": [
      "F'(x)= -3.1416\n"
     ]
    }
   ],
   "source": [
    "# Question 15\n",
    "# Trigonometric Functions\n",
    "\n",
    "from sympy import sin, pi\n",
    "f = 4*(sin(((pi/4)*x)+((9*pi/4))))+3\n",
    "findfprime(3,f)"
   ]
  }
 ],
 "metadata": {
  "kernelspec": {
   "display_name": "Python 3",
   "language": "python",
   "name": "python3"
  },
  "language_info": {
   "codemirror_mode": {
    "name": "ipython",
    "version": 3
   },
   "file_extension": ".py",
   "mimetype": "text/x-python",
   "name": "python",
   "nbconvert_exporter": "python",
   "pygments_lexer": "ipython3",
   "version": "3.8.3"
  }
 },
 "nbformat": 4,
 "nbformat_minor": 4
}
