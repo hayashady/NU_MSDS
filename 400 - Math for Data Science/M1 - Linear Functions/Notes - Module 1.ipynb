{
 "cells": [
  {
   "cell_type": "code",
   "execution_count": 2,
   "metadata": {},
   "outputs": [
    {
     "data": {
      "image/png": "[encoded data removed]",
      "text/plain": [
       "<Figure size 432x288 with 1 Axes>"
      ]
     },
     "metadata": {
      "needs_background": "light"
     },
     "output_type": "display_data"
    },
    {
     "name": "stdout",
     "output_type": "stream",
     "text": [
      "[1, 2, 3, 4, 5]\n",
      "[1, 4, 7, 10, 13]\n",
      "slope = 3.0\n",
      "intercept = -2.0\n",
      "r value =  1.0\n"
     ]
    }
   ],
   "source": [
    "#1.2: Slopes and Lines\n",
    "\n",
    "#Imports for graphing\n",
    "import matplotlib.pyplot\n",
    "from matplotlib.pyplot import *\n",
    "import numpy\n",
    "from numpy import linspace\n",
    "\n",
    "x = linspace(0,10,100)\n",
    "y = 0 + 10*x\n",
    "z = 10 + 5*x\n",
    "plot(x,y)\n",
    "plot(x,z)\n",
    "legend(('cost','revenue'))\n",
    "title('Breakeven Analysis')\n",
    "show()\n",
    "\n",
    "#Imports for Regression\n",
    "from scipy import stats\n",
    "x = [1,2,3,4,5]\n",
    "y = [1,4,7,10,13]\n",
    "slope, intercept, r_value, p_value, std_err = stats.linregress(x,y)\n",
    "print(x)\n",
    "print(y)\n",
    "print('slope =',slope)\n",
    "print('intercept =', intercept)\n",
    "print('r value = ',r_value)"
   ]
  },
  {
   "cell_type": "code",
   "execution_count": 8,
   "metadata": {},
   "outputs": [
    {
     "name": "stdout",
     "output_type": "stream",
     "text": [
      "Problem 1\n",
      "\n"
     ]
    },
    {
     "data": {
      "text/plain": [
       "Text(0.5, 1.0, 'Problem Set 1, Problem 1 Graph')"
      ]
     },
     "execution_count": 8,
     "metadata": {},
     "output_type": "execute_result"
    },
    {
     "data": {
      "image/png": "[encoded data removed]",
      "text/plain": [
       "<Figure size 432x288 with 1 Axes>"
      ]
     },
     "metadata": {
      "needs_background": "light"
     },
     "output_type": "display_data"
    }
   ],
   "source": [
    "#Module 1 Problem Set\n",
    "\n",
    "#1. Graph y = -2x+1\n",
    "print('Problem 1\\n')\n",
    "x = linspace(0,10,100)\n",
    "y = 1 + (-2)*x\n",
    "plot(x,y)\n",
    "title('Problem Set 1, Problem 1 Graph')"
   ]
  },
  {
   "cell_type": "code",
   "execution_count": 4,
   "metadata": {},
   "outputs": [
    {
     "name": "stdout",
     "output_type": "stream",
     "text": [
      "Problem 2\n",
      "\n",
      "The volume at T=0 is 29.0 cubic centimeters\n",
      "\n",
      "Between T=0 and T=10, the volume changes by 1.54 cubic centimeters\n",
      "\n"
     ]
    }
   ],
   "source": [
    "#2. Volume of gasses were V(T)=0.154T+29\n",
    "print('Problem 2\\n')\n",
    "#a. Evaluate V(0)\n",
    "def volume_function(time):\n",
    "    volume = 0.154*(time)+29\n",
    "    return volume\n",
    "answer_one = volume_function(0)\n",
    "print('The volume at T=0 is',answer_one,'cubic centimeters\\n')\n",
    "\n",
    "#b. How much does volume increase after 10 units of time?\n",
    "def volume_change(time_one,time_two):\n",
    "    change = round(volume_function(time_two) - volume_function(time_one),3)\n",
    "    return change\n",
    "\n",
    "answer_two = volume_change(0,10)\n",
    "print('Between T=0 and T=10, the volume changes by',answer_two,'cubic centimeters\\n')"
   ]
  },
  {
   "cell_type": "code",
   "execution_count": 5,
   "metadata": {},
   "outputs": [
    {
     "name": "stdout",
     "output_type": "stream",
     "text": [
      "Problem 3\n",
      "\n",
      "numpy: Correlation of x and y is \n",
      " -0.996\n",
      "scipy: Correlation of x and y is \n",
      " -0.996 \n",
      "\n"
     ]
    }
   ],
   "source": [
    "#3. Correlation\n",
    "print('Problem 3\\n')\n",
    "from numpy import corrcoef\n",
    "from scipy.stats import pearsonr\n",
    "x=[3,4,5,6,7,8,9,10,11,12,13,14,15,16]\n",
    "y=[45.9,42,40.4,39.4,35.3,33.5,30.1,29.4,28,25.2,22,20.8,18.9,17.1]\n",
    "print('numpy: Correlation of x and y is \\n',round(corrcoef(x,y)[0,1],3))\n",
    "print('scipy: Correlation of x and y is \\n',round(pearsonr(x,y)[0],3),'\\n')"
   ]
  },
  {
   "cell_type": "code",
   "execution_count": 9,
   "metadata": {},
   "outputs": [
    {
     "name": "stdout",
     "output_type": "stream",
     "text": [
      "Problem 4\n",
      "\n",
      "Eq(y, 0.454*x - 13.366)\n",
      "Eq(y, 0.454*x - 13.366) \n",
      "\n"
     ]
    }
   ],
   "source": [
    "#4. Linear Regression from Farm Data\n",
    "print('Problem 4\\n')\n",
    "\n",
    "#Option 1\n",
    "from scipy.stats import linregress\n",
    "from numpy import polyfit\n",
    "import sympy as sym\n",
    "x=[65,75,85,95,105,115,125]\n",
    "y=[16.4,20.5,25,30.3,33.6,38.8,43.7]\n",
    "slope, intercept, r_value, p_value, std_err = stats.linregress(x,y)\n",
    "sym.init_printing()\n",
    "x,y=sym.symbols('x,y')\n",
    "f = sym.Eq(y,round(slope,3)*x+round(intercept,3))\n",
    "print(f)\n",
    "\n",
    "#Option 2\n",
    "x=[65,75,85,95,105,115,125]\n",
    "y=[16.4,20.5,25,30.3,33.6,38.8,43.7]\n",
    "slope, intercept = np.polyfit(x,y, 1)\n",
    "sym.init_printing()\n",
    "x,y=sym.symbols('x,y')\n",
    "g = sym.Eq(y,round(slope,3)*x+round(intercept,3))\n",
    "print(g,'\\n')"
   ]
  },
  {
   "cell_type": "code",
   "execution_count": 7,
   "metadata": {},
   "outputs": [
    {
     "name": "stdout",
     "output_type": "stream",
     "text": [
      "Problem 5\n",
      "\n",
      "Eq(y, 20.4*x + 168.667) \n",
      "\n",
      "433.87\n"
     ]
    }
   ],
   "source": [
    "#5. Linear Regression and Predictions\n",
    "print('Problem 5\\n')\n",
    "x=[0,1,2,3,4,5]\n",
    "y=[170,193,210,226,234,285]\n",
    "slope, intercept, r_value, p_value, std_err = stats.linregress(x,y)\n",
    "sym.init_printing()\n",
    "x,y=sym.symbols('x,y')\n",
    "h = sym.Eq(y,round(slope,3)*x+round(intercept,3))\n",
    "print(h,'\\n')\n",
    "\n",
    "#b. Predictions\n",
    "expected_spending = slope*13 + intercept\n",
    "print(round(expected_spending,2))"
   ]
  }
 ],
 "metadata": {
  "kernelspec": {
   "display_name": "Python 3",
   "language": "python",
   "name": "python3"
  },
  "language_info": {
   "codemirror_mode": {
    "name": "ipython",
    "version": 3
   },
   "file_extension": ".py",
   "mimetype": "text/x-python",
   "name": "python",
   "nbconvert_exporter": "python",
   "pygments_lexer": "ipython3",
   "version": "3.8.3"
  }
 },
 "nbformat": 4,
 "nbformat_minor": 4
}
