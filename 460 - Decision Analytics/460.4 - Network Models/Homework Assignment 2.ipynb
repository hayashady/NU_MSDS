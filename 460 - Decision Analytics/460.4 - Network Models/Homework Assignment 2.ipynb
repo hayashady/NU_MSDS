{
 "cells": [
  {
   "cell_type": "code",
   "execution_count": 4,
   "metadata": {},
   "outputs": [],
   "source": [
    "from pulp import LpVariable, LpProblem, LpMaximize, LpStatus, value, LpMinimize, GLPK\n",
    "import matplotlib.pyplot \n",
    "from matplotlib.pyplot import *\n",
    "import numpy\n",
    "from numpy import *"
   ]
  },
  {
   "cell_type": "markdown",
   "metadata": {},
   "source": [
    "#### Problem 2"
   ]
  },
  {
   "cell_type": "raw",
   "metadata": {},
   "source": [
    "a) Develop Linear Program\n",
    "\n",
    "Maximize P = 300c + 400t - 50m1\n",
    "Subject to:\n",
    "    c = (0.8/84)1 + (0.6/24)m2\n",
    "    t = (1/24)m1 + 0.7/24m2\n",
    "    3t + 2c <= 260\n",
    "    m1 <= 98\n",
    "    m2 <= 73\n",
    "    c >= 88\n",
    "    t >= 26\n",
    "    c, t, m1, m2 >= 0"
   ]
  },
  {
   "cell_type": "raw",
   "metadata": {},
   "source": [
    "# b) Solve\n",
    "c = LpVariable(\"c\", 0, None)\n",
    "t = LpVariable(\"t\", 0, None)\n",
    "m1 = LpVariable(\"m1\", 0, None)\n",
    "\n",
    "prob2 = LpProblem(\"problem\", LpMaximize)\n",
    "\n",
    "prob2 += (0.6*c) + (0.7*t) <= 73\n",
    "prob2 += (0.8*c) + t - m1 <= 0\n",
    "prob2 += 3*t + 2*c <= 260\n",
    "prob2 += m1 <= 98\n",
    "prob2 += c >= 88\n",
    "prob2 += t >= 26\n",
    "\n",
    "prob2 += 300*c + 400*t - 50*m1\n",
    "# prob2.writeLP(\"prob2.lp\")\n",
    "prob2.solve(GLPK(options=['--ranges prob4.sen']))\n",
    "# print (\"Status:\", LpStatus[prob2.status])"
   ]
  },
  {
   "cell_type": "code",
   "execution_count": 5,
   "metadata": {},
   "outputs": [
    {
     "name": "stdout",
     "output_type": "stream",
     "text": [
      "Welcome to the CBC MILP Solver \n",
      "Version: 2.10.3 \n",
      "Build Date: Dec 15 2019 \n",
      "\n",
      "command line - /opt/anaconda3/lib/python3.9/site-packages/pulp/apis/../solverdir/cbc/osx/64/cbc /var/folders/hb/_tr1b6d918vdtcwmymd4p0v80000gn/T/b8404fd3759b460b9dc8eb87dcd6e500-pulp.mps max timeMode elapsed branch printingOptions all solution /var/folders/hb/_tr1b6d918vdtcwmymd4p0v80000gn/T/b8404fd3759b460b9dc8eb87dcd6e500-pulp.sol (default strategy 1)\n",
      "At line 2 NAME          MODEL\n",
      "At line 3 ROWS\n",
      "At line 11 COLUMNS\n",
      "At line 25 RHS\n",
      "At line 32 BOUNDS\n",
      "At line 33 ENDATA\n",
      "Problem MODEL has 6 rows, 3 columns and 10 elements\n",
      "Coin0008I MODEL read with 0 errors\n",
      "Option for timeMode changed from cpu to elapsed\n",
      "Presolve 3 (-3) rows, 3 (0) columns and 7 (-3) elements\n",
      "0  Obj 31985 Primal inf 0.099999016 (1) Dual inf 750 (2)\n",
      "1  Obj 32540\n",
      "Optimal - objective value 32540\n",
      "After Postsolve, objective 32540, infeasibilities - dual 0 (0), primal 0 (0)\n",
      "Optimal objective 32540 - 1 iterations time 0.002, Presolve 0.00\n",
      "Option for printingOptions changed from normal to all\n",
      "Total time (CPU seconds):       0.00   (Wallclock seconds):       0.01\n",
      "\n",
      "c = 88.0\n",
      "m1 = 98.0\n",
      "t = 27.6\n",
      "Objective = 32540.0\n",
      "\n"
     ]
    }
   ],
   "source": [
    "# b) Solve\n",
    "c = LpVariable(\"c\", 0, None)\n",
    "t = LpVariable(\"t\", 0, None)\n",
    "m1 = LpVariable(\"m1\", 0, None)\n",
    "\n",
    "prob2 = LpProblem(\"problem\", LpMaximize)\n",
    "\n",
    "prob2 += (0.6*c) + (0.7*t) <= 73\n",
    "prob2 += (0.8*c) + t - m1 <= 0\n",
    "prob2 += 3*t + 2*c <= 260\n",
    "prob2 += m1 <= 98\n",
    "prob2 += c >= 88\n",
    "prob2 += t >= 26\n",
    "\n",
    "prob2 += 300*c + 400*t - 50*m1\n",
    "status = prob2.solve()\n",
    "\n",
    "for variable in prob2.variables():\n",
    "    print(f\"{variable.name} = {variable.varValue}\")\n",
    "    \n",
    "print(f\"Objective = {value(prob2.objective)}\")\n",
    "print(f\"\")"
   ]
  },
  {
   "cell_type": "markdown",
   "metadata": {},
   "source": [
    "#### Problem 3"
   ]
  },
  {
   "cell_type": "raw",
   "metadata": {},
   "source": [
    "a) Develop Minimum Cost Transportation Problem\n",
    "\n",
    "Minimize C = 0.2(d1b + d2b + d3b + d4b) + \n",
    "            0.1(d1f + d2f + d3f) + \n",
    "            0.06 (d1s + d2s)\n",
    "        \n",
    "d1b >= 15\n",
    "d2b + d1f >= 12\n",
    "d3b + d2f + d1s >= 18\n",
    "d4b + d3f + d2s >= 6\n",
    "\n",
    "d1f + d1s <= d1b\n",
    "d2f + d2s <= d1b + d2b\n",
    "d3f <= d1b + d2b + d3b\n",
    "\n",
    "prob3 += 0.2*(d1b + d2b + d3b + d4b) + 0.1*(d1f + d2f + d3f) +  0.06*(d1s + d2s)"
   ]
  },
  {
   "cell_type": "code",
   "execution_count": 4,
   "metadata": {},
   "outputs": [
    {
     "name": "stdout",
     "output_type": "stream",
     "text": [
      "d1b = 15.0\n",
      "d1f = 9.0\n",
      "d1s = 6.0\n",
      "d2b = 3.0\n",
      "d2f = 12.0\n",
      "d2s = 6.0\n",
      "d3b = 0.0\n",
      "d3f = 0.0\n",
      "d4b = 0.0\n",
      "Objective = 6.42\n",
      "\n"
     ]
    }
   ],
   "source": [
    "# b) Solve\n",
    "d1b = LpVariable(\"d1b\", 0, None)\n",
    "d1f = LpVariable(\"d1f\", 0, None)\n",
    "d1s = LpVariable(\"d1s\", 0, None)\n",
    "d2b = LpVariable(\"d2b\", 0, None)\n",
    "d2f = LpVariable(\"d2f\", 0, None)\n",
    "d2s = LpVariable(\"d2s\", 0, None)\n",
    "d3b = LpVariable(\"d3b\", 0, None)\n",
    "d3f = LpVariable(\"d3f\", 0, None)\n",
    "d4b = LpVariable(\"d4b\", 0, None)\n",
    "\n",
    "prob3 = LpProblem(\"problem\", LpMinimize)\n",
    "\n",
    "prob3 += d1b >= 15\n",
    "prob3 += d2b + d1f >= 12\n",
    "prob3 += d3b + d2f + d1s >= 18\n",
    "prob3 += d4b + d3f + d2s >= 6\n",
    "prob3 += d1f + d1s <= d1b\n",
    "prob3 += d2f + d2s <= d1b + d2b\n",
    "prob3 += d3f <= d1b + d2b + d3b\n",
    "prob3 += 0.2*(d1b + d2b + d3b + d4b) + 0.1*(d1f + d2f + d3f) +  0.06*(d1s + d2s)\n",
    "        \n",
    "status = prob3.solve()\n",
    "\n",
    "for variable in prob3.variables():\n",
    "    print(f\"{variable.name} = {variable.varValue}\")\n",
    "    \n",
    "print(f\"Objective = {round(value(prob3.objective),3)}\")\n",
    "print(f\"\")"
   ]
  },
  {
   "cell_type": "markdown",
   "metadata": {},
   "source": [
    "#### Problem 4"
   ]
  },
  {
   "cell_type": "code",
   "execution_count": 15,
   "metadata": {},
   "outputs": [
    {
     "name": "stdout",
     "output_type": "stream",
     "text": [
      "p1ff = 0.0\n",
      "p1fs = 0.33333333\n",
      "p1mf = 0.33333333\n",
      "p1ms = 3.0\n",
      "p1pf = 0.0\n",
      "p1ps = 0.33333333\n",
      "p2ff = 3.0\n",
      "p2fs = 0.66666667\n",
      "p2mf = 0.0\n",
      "p2ms = 0.0\n",
      "p2pf = 0.0\n",
      "p2ps = 0.0\n",
      "p3ff = 0.0\n",
      "p3fs = 0.0\n",
      "p3mf = 0.66666667\n",
      "p3ms = 0.0\n",
      "p3pf = 3.0\n",
      "p3ps = 0.66666667\n",
      "Objective = 120.333\n",
      "\n"
     ]
    }
   ],
   "source": [
    "p1mf = LpVariable(\"p1mf\", 0, None)\n",
    "p2mf = LpVariable(\"p2mf\", 0, None)\n",
    "p3mf = LpVariable(\"p3mf\", 0, None)\n",
    "p1ms = LpVariable(\"p1ms\", 0, None)\n",
    "p2ms = LpVariable(\"p2ms\", 0, None)\n",
    "p3ms = LpVariable(\"p3ms\", 0, None)\n",
    "p1ff = LpVariable(\"p1ff\", 0, None)\n",
    "p2ff = LpVariable(\"p2ff\", 0, None)\n",
    "p3ff = LpVariable(\"p3ff\", 0, None)\n",
    "p1fs = LpVariable(\"p1fs\", 0, None)\n",
    "p2fs = LpVariable(\"p2fs\", 0, None)\n",
    "p3fs = LpVariable(\"p3fs\", 0, None)\n",
    "p1pf = LpVariable(\"p1pf\", 0, None)\n",
    "p2pf = LpVariable(\"p2pf\", 0, None)\n",
    "p3pf = LpVariable(\"p3pf\", 0, None)\n",
    "p1ps = LpVariable(\"p1ps\", 0, None)\n",
    "p2ps = LpVariable(\"p2ps\", 0, None)\n",
    "p3ps = LpVariable(\"p3ps\", 0, None)\n",
    "\n",
    "prob4 = LpProblem(\"problem\", LpMaximize)\n",
    "\n",
    "# Professors teach 4 classes per year\n",
    "prob4 += p1mf + p1ms + p1ff + p1fs + p1pf + p1ps == 4\n",
    "prob4 += p2mf + p2ms + p2ff + p2fs + p2pf + p1ps == 4\n",
    "prob4 += p3mf + p3ms + p3ff + p3fs + p3pf + p1ps == 4\n",
    "\n",
    "# All classes must be taugtht at least once per semester\n",
    "prob4 += p1mf + p2mf + p3mf >= 1\n",
    "prob4 += p1ms + p2ms + p3ms >= 1\n",
    "prob4 += p1ff + p2ff + p3ff >= 1\n",
    "prob4 += p1fs + p2fs + p3fs >= 1\n",
    "prob4 += p1pf + p2pf + p3pf >= 1\n",
    "prob4 += p1ps + p1ps + p1ps >= 1\n",
    "\n",
    "# All classes must be taught a total of 4 times\n",
    "prob4 += p1mf + p1ms + p2mf + p2ms + p3mf + p3ms == 4\n",
    "prob4 += p1ff + p1fs + p2ff + p2fs + p3ff + p3fs == 4\n",
    "prob4 += p1pf + p1ps + p2pf + p2ps + p3pf + p3ps == 4\n",
    "\n",
    "prob4 += p1mf*(6+3) + p1ms*(6+4) + p1ff*(5+3) + p1fs*(5+4) + p1pf*(4+3) + p1ps*(4+4) + \\\n",
    "        p2mf*(4+5) + p2ms*(4+3) + p2ff*(6+5) + p2fs*(6+3) + p2pf*(5+5) + p2ps*(5+3) + \\\n",
    "        p3mf*(5+4) + p3ms*(5+4) + p3ff*(4+4) + p3fs*(4+4) + p3pf*(6+4) + p3ps*(6+4)\n",
    "\n",
    "status = prob4.solve()\n",
    "\n",
    "for variable in prob4.variables():\n",
    "    print(f\"{variable.name} = {variable.varValue}\")\n",
    "    \n",
    "print(f\"Objective = {round(value(prob4.objective),3)}\")\n",
    "print(f\"\")"
   ]
  }
 ],
 "metadata": {
  "kernelspec": {
   "display_name": "Python 3 (ipykernel)",
   "language": "python",
   "name": "python3"
  },
  "language_info": {
   "codemirror_mode": {
    "name": "ipython",
    "version": 3
   },
   "file_extension": ".py",
   "mimetype": "text/x-python",
   "name": "python",
   "nbconvert_exporter": "python",
   "pygments_lexer": "ipython3",
   "version": "3.9.7"
  }
 },
 "nbformat": 4,
 "nbformat_minor": 4
}
