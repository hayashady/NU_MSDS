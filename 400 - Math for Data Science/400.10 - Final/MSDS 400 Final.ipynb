{
 "cells": [
  {
   "cell_type": "code",
   "execution_count": 1,
   "metadata": {},
   "outputs": [],
   "source": [
    "# Imports\n",
    "import numpy as num\n",
    "from numpy import *\n",
    "\n",
    "import sympy as sym\n",
    "from sympy import *\n",
    "\n",
    "from scipy import *\n",
    "from scipy.stats import *\n",
    "from scipy.optimize import *\n",
    "\n",
    "from pulp import *\n",
    "\n",
    "from math import *\n",
    "\n",
    "# Definitions\n",
    "def double_check(answerone,answertwo):\n",
    "    if answerone == answertwo:\n",
    "        print('The math checks out!')\n",
    "    else:\n",
    "        print('You did something wrong!')"
   ]
  },
  {
   "cell_type": "code",
   "execution_count": 2,
   "metadata": {},
   "outputs": [],
   "source": [
    "def bayes_theorem(a,abar,bgiva,bgivabar):\n",
    "    return ((a)*(bgiva)) / (((a)*(bgiva))+(abar)*(bgivabar))\n",
    "\n",
    "def factorial(n):\n",
    "        if n == 0:\n",
    "            return 1\n",
    "        else:\n",
    "            recurse = factorial(n-1)\n",
    "            result = n * recurse\n",
    "            return result\n",
    "\n",
    "def permutation(n,k):\n",
    "    if n == 0:\n",
    "        return 1\n",
    "    elif k > n:\n",
    "        return -1\n",
    "    else: return (factorial(n)/factorial(n-k))\n",
    "    \n",
    "def combination(n,k):\n",
    "    result = permutation(n,k)\n",
    "    result = result / factorial(k)\n",
    "    result = int(result)\n",
    "    return result"
   ]
  },
  {
   "cell_type": "code",
   "execution_count": 29,
   "metadata": {},
   "outputs": [],
   "source": [
    "def ddx(function):\n",
    "    derivative = sym.diff(function)\n",
    "    print(\"d/dx= {}\".format(derivative))\n",
    "    \n",
    "def fprime(function,x):\n",
    "    x = Symbol('x')\n",
    "    derivative = sym.diff(function)\n",
    "    derivativeatx = lambdify(x, derivative)\n",
    "    print(\"F'(x)=\",(derivativeatx(x)))"
   ]
  },
  {
   "cell_type": "code",
   "execution_count": 4,
   "metadata": {},
   "outputs": [],
   "source": [
    "def maxmininrange(function,lowerbound,upperbound):\n",
    "    x = Symbol('x')\n",
    "    setup = lambdify(x,function)\n",
    "    derivative = function.diff(x)\n",
    "    roots = solveset(derivative,x,Interval(lowerbound,upperbound))\n",
    "    yvalues = [setup(z) for z in roots]\n",
    "    print('Extrema occur at x = {} and their respective y-values are y = {}'.format(roots,yvalues))\n",
    "\n",
    "\n",
    "# Polynomials as Arrays\n",
    "def findderivativearray(function,order):\n",
    "    derivative = function.deriv(m = order)\n",
    "    print('d/dx =')\n",
    "    print(derivative)\n",
    "    \n",
    "def rootsarray(function):\n",
    "    fprime = function.deriv(m=1)\n",
    "    roots = fprime.roots\n",
    "    print(roots)"
   ]
  },
  {
   "cell_type": "code",
   "execution_count": 62,
   "metadata": {},
   "outputs": [
    {
     "name": "stdout",
     "output_type": "stream",
     "text": [
      "numpy: Correlation of x and y is -0.928\n",
      "Eq(y, 60.6098 - 0.1291*x)\n"
     ]
    },
    {
     "data": {
      "image/png": "[encoded data removed]",
      "text/latex": [
       "$\\displaystyle 57$"
      ],
      "text/plain": [
       "57"
      ]
     },
     "execution_count": 62,
     "metadata": {},
     "output_type": "execute_result"
    }
   ],
   "source": [
    "# Problem 1\n",
    "x = [159,251,339,351,391,190,219]\n",
    "y = [34,29,13,16,10,36,41]\n",
    "print('numpy: Correlation of x and y is',(round(num.corrcoef(x,y)[0,1],4)))\n",
    "\n",
    "slope, intercept, r_value, p_value, std_err = stats.linregress(x,y)\n",
    "sym.init_printing()\n",
    "x,y=sym.symbols('x,y')\n",
    "f = sym.Eq(y,round(slope,4)*x+round(intercept,4))\n",
    "print(f)\n",
    "\n",
    "round(-0.1291*30 + 60.6098)"
   ]
  },
  {
   "cell_type": "code",
   "execution_count": 63,
   "metadata": {},
   "outputs": [
    {
     "name": "stdout",
     "output_type": "stream",
     "text": [
      "\n",
      " [[15000.]\n",
      " [16000.]\n",
      " [14000.]]\n"
     ]
    }
   ],
   "source": [
    "# Problem 2\n",
    "\n",
    "# x + y + z = 45000\n",
    "# 0.05x + 0.06y + 0.07z = 2690\n",
    "# 0.00x + y - z = 2000\n",
    "lhs = ([1,1,1],[0.05,0.06,0.07],[0,1,-1])\n",
    "lhs = matrix(lhs)\n",
    "rhs = [45000,2690,2000]\n",
    "rhs = num.transpose(matrix(rhs))\n",
    "solution = linalg.solve(lhs,rhs)\n",
    "print('\\n',solution)"
   ]
  },
  {
   "cell_type": "code",
   "execution_count": 14,
   "metadata": {},
   "outputs": [
    {
     "name": "stdout",
     "output_type": "stream",
     "text": [
      "The maximum profit is: $338.75\n",
      "The optimal amount of production via the old method is: 37.5 litres\n",
      "The optimal amount of productino via the new method is: 62.5 lires\n"
     ]
    }
   ],
   "source": [
    "f = [-3.7,-3.2]\n",
    "lhs = [[2.4,0.8],[1,0],[0,1],[1,1]]\n",
    "rhs = [140,53,83,100]\n",
    "x1_bound = (0,None)\n",
    "x2_bound = (0,None)\n",
    "solution = linprog(c=f, A_ub=lhs, b_ub=rhs, bounds = (x1_bound,x2_bound), method = 'simplex')\n",
    "print('The maximum profit is: ${}'.format((-1)*round(solution.fun,2)))\n",
    "print('The optimal amount of production via the old method is: \\\n",
    "{} litres'.format(round(solution.x[0],2)))\n",
    "print('The optimal amount of productino via the new method is: \\\n",
    "{} lires'.format(round(solution.x[1],2)))"
   ]
  },
  {
   "cell_type": "code",
   "execution_count": 13,
   "metadata": {},
   "outputs": [
    {
     "name": "stdout",
     "output_type": "stream",
     "text": [
      "37.5\n",
      "62.5\n",
      "3.3875\n"
     ]
    }
   ],
   "source": [
    "# Problem 3\n",
    "\n",
    "# Objective Function: 3.7x + 3.2y = B\n",
    "# 2.4x + 0.8y ≤ 140\n",
    "# x ≤ 53\n",
    "# y ≤ 83\n",
    "# x + y ≤ 100\n",
    "\n",
    "x1 = LpVariable(\"x1\", 0, None) \n",
    "x2 = LpVariable(\"x2\", 0, None)\n",
    "prob = LpProblem(\"problem\", LpMaximize)\n",
    "prob += 2.4*x1 + 0.8*x2 <= 140\n",
    "prob += x1 <= 53\n",
    "prob += x2 <= 83\n",
    "prob += x1 + x2 <= 100\n",
    "prob += 3.7*x1 + 3.2*x2\n",
    "status = prob.solve()\n",
    "LpStatus[status]\n",
    "print(value(x1))\n",
    "print(value(x2))\n",
    "\n",
    "buttermilk = 37.5*0.037 + 62.5*0.032\n",
    "print(buttermilk)a"
   ]
  },
  {
   "cell_type": "code",
   "execution_count": 64,
   "metadata": {},
   "outputs": [
    {
     "data": {
      "image/png": "[encoded data removed]",
      "text/latex": [
       "$\\displaystyle 0.1294$"
      ],
      "text/plain": [
       "0.1294"
      ]
     },
     "execution_count": 64,
     "metadata": {},
     "output_type": "execute_result"
    }
   ],
   "source": [
    "\n",
    "\n",
    "undamgiva = 0.95\n",
    "undamgivb = 0.8\n",
    "round(bayes_theorem(supb,supa,undamgivb,undamgiva),4)"
   ]
  },
  {
   "cell_type": "code",
   "execution_count": 66,
   "metadata": {},
   "outputs": [
    {
     "name": "stdout",
     "output_type": "stream",
     "text": [
      "0.5862068965517241\n"
     ]
    },
    {
     "data": {
      "image/png": "[encoded data removed]",
      "text/latex": [
       "$\\displaystyle 0.5862$"
      ],
      "text/plain": [
       "0.5862"
      ]
     },
     "execution_count": 66,
     "metadata": {},
     "output_type": "execute_result"
    }
   ],
   "source": [
    "# Problem 4\n",
    "\n",
    "p = ((0.85)*(0.05)) / (((0.85)*(0.05)) + ((0.15)*(0.2)))\n",
    "print(p)\n",
    "\n",
    "supa = 0.85\n",
    "supb = 0.15\n",
    "damgiva = 0.05\n",
    "damgivb = 0.2\n",
    "round(bayes_theorem(supa,supb,damgiva,damgivb),4)"
   ]
  },
  {
   "cell_type": "code",
   "execution_count": 38,
   "metadata": {},
   "outputs": [
    {
     "name": "stdout",
     "output_type": "stream",
     "text": [
      "d/dx= -158.1*2.71828182845905**(-0.31*t)\n",
      "-85.04901558371803\n",
      "-24.611842861180378\n"
     ]
    }
   ],
   "source": [
    "# Problem 5\n",
    "t = Symbol('t')\n",
    "a = 510*e**(-0.31*t)\n",
    "ddx(a)\n",
    "\n",
    "def ddxprob5(x):\n",
    "    derivative = -158.1 * e ** (-0.31 * x)\n",
    "    print(derivative)\n",
    "    \n",
    "ddxprob5(2)\n",
    "ddxprob5(6)"
   ]
  },
  {
   "cell_type": "code",
   "execution_count": 61,
   "metadata": {},
   "outputs": [
    {
     "name": "stdout",
     "output_type": "stream",
     "text": [
      "d/dx= 1 - (t**2 + 64)/(2*t**2)\n"
     ]
    }
   ],
   "source": [
    "# Problem 6\n",
    "\n",
    "t = Symbol('t')\n",
    "f = (t**2 + 64) / (2*t)\n",
    "ddx(f)"
   ]
  },
  {
   "cell_type": "code",
   "execution_count": 67,
   "metadata": {},
   "outputs": [
    {
     "name": "stdout",
     "output_type": "stream",
     "text": [
      "290\n"
     ]
    }
   ],
   "source": [
    "# Problem 7\n",
    "\n",
    "x = Symbol('x')\n",
    "f = 40.6 + 3.5*x - 0.893*x**2\n",
    "solution = integrate(f,(x,0,9)).evalf()\n",
    "print(round(solution))"
   ]
  },
  {
   "cell_type": "code",
   "execution_count": null,
   "metadata": {},
   "outputs": [],
   "source": [
    "# Problem 8"
   ]
  },
  {
   "cell_type": "code",
   "execution_count": 68,
   "metadata": {},
   "outputs": [
    {
     "name": "stdout",
     "output_type": "stream",
     "text": [
      "6 - 2*x\n",
      "10 - 2*y\n",
      "FiniteSet((3, 5))\n",
      "Analyzing critical point (3, 5)\n"
     ]
    }
   ],
   "source": [
    "# Problem 9\n",
    "\n",
    "x,y = symbols('x,y')\n",
    "f = -x**2 - y**2 + 6*x + 10*y\n",
    "\n",
    "\n",
    "x,y = symbols('x,y')\n",
    "f = -x**2 - y**2 + 6*x + 10*y\n",
    "partialx = Derivative(f,x).doit()\n",
    "partialy = Derivative(f,y).doit()\n",
    "print(partialx)\n",
    "print(partialy)\n",
    "results = nonlinsolve([partialx, partialy], x, y)\n",
    "print(results)\n",
    "\n",
    "for result in list(results):\n",
    "    if result[0].is_real and result[1].is_real:  # Ignore any solutions that are not real numbers\n",
    "        print(f\"Analyzing critical point {result}\")"
   ]
  },
  {
   "cell_type": "code",
   "execution_count": 69,
   "metadata": {},
   "outputs": [
    {
     "name": "stdout",
     "output_type": "stream",
     "text": [
      "34\n"
     ]
    }
   ],
   "source": [
    "answer = -3**2 - 5**2 + 6*3 + 10*5\n",
    "print(answer)"
   ]
  },
  {
   "cell_type": "code",
   "execution_count": null,
   "metadata": {},
   "outputs": [],
   "source": [
    "supa = 0.85\n",
    "supb = 0.15"
   ]
  }
 ],
 "metadata": {
  "kernelspec": {
   "display_name": "Python 3",
   "language": "python",
   "name": "python3"
  },
  "language_info": {
   "codemirror_mode": {
    "name": "ipython",
    "version": 3
   },
   "file_extension": ".py",
   "mimetype": "text/x-python",
   "name": "python",
   "nbconvert_exporter": "python",
   "pygments_lexer": "ipython3",
   "version": "3.8.3"
  }
 },
 "nbformat": 4,
 "nbformat_minor": 4
}
